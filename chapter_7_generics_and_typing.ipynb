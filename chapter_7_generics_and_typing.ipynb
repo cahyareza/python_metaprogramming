{
 "cells": [
  {
   "cell_type": "markdown",
   "id": "99ff92c5-3991-4ec8-87cd-531f5d2efaef",
   "metadata": {},
   "source": [
    "# How are generics handled in Python?"
   ]
  },
  {
   "cell_type": "code",
   "execution_count": 1,
   "id": "90d12fa9-b47d-47fb-9574-7767877ac760",
   "metadata": {},
   "outputs": [],
   "source": [
    "class Fashion:\n",
    "    def __init__(self,clothing_category,gender,model,design,dress_type,size, color):\n",
    "        self.clothing_category = clothing_category\n",
    "        self.gender = gender\n",
    "        self.model = model\n",
    "        self.design = design\n",
    "        self.dress_type = dress_type\n",
    "        self.size = size\n",
    "        self.color = color\n",
    "        \n",
    "    def get_item(self):\n",
    "        return self.clothing_category,self.gender,self.model,self.design,self.dress_type, self.size,self.color "
   ]
  },
  {
   "cell_type": "markdown",
   "id": "beaf7bd5-07df-424f-9883-6719a89d3f64",
   "metadata": {},
   "source": [
    "# Assign any data type"
   ]
  },
  {
   "cell_type": "code",
   "execution_count": 2,
   "id": "4b49e013-84e4-49ea-8b2c-8dca54244e98",
   "metadata": {},
   "outputs": [],
   "source": [
    "fashion = Fashion(\"Clothing\",\"Women\",\"Western\",\"Dotted\",\"Jumpsuits\",38,\"blue\")"
   ]
  },
  {
   "cell_type": "code",
   "execution_count": 3,
   "id": "f381c2e7-2479-489d-9540-566bcf93b398",
   "metadata": {},
   "outputs": [
    {
     "data": {
      "text/plain": [
       "('Clothing', 'Women', 'Western', 'Dotted', 'Jumpsuits', 38, 'blue')"
      ]
     },
     "execution_count": 3,
     "metadata": {},
     "output_type": "execute_result"
    }
   ],
   "source": [
    "fashion.get_item()"
   ]
  },
  {
   "cell_type": "code",
   "execution_count": 4,
   "id": "11c42173-e179-43a2-9048-ffa8618eda23",
   "metadata": {},
   "outputs": [
    {
     "data": {
      "text/plain": [
       "str"
      ]
     },
     "execution_count": 4,
     "metadata": {},
     "output_type": "execute_result"
    }
   ],
   "source": [
    "type(fashion.clothing_category)"
   ]
  },
  {
   "cell_type": "code",
   "execution_count": 5,
   "id": "337944df-2d1c-4957-a247-33c04da09cbd",
   "metadata": {},
   "outputs": [
    {
     "data": {
      "text/plain": [
       "int"
      ]
     },
     "execution_count": 5,
     "metadata": {},
     "output_type": "execute_result"
    }
   ],
   "source": [
    "type(fashion.size)"
   ]
  },
  {
   "cell_type": "markdown",
   "id": "7858dec8-adc8-4235-a884-2ebdfb8657c5",
   "metadata": {},
   "source": [
    "# Change data type"
   ]
  },
  {
   "cell_type": "code",
   "execution_count": 7,
   "id": "9817ef44-667d-4b81-9ad9-26f3bb7a198b",
   "metadata": {},
   "outputs": [],
   "source": [
    "fashion = Fashion(102,\"Women\",\"Western\",\"Floral\",\"T-Shirt\",\"XS\",\"green\")"
   ]
  },
  {
   "cell_type": "code",
   "execution_count": 8,
   "id": "66d72624-a621-433f-b352-e67d10fa4b55",
   "metadata": {},
   "outputs": [
    {
     "data": {
      "text/plain": [
       "(102, 'Women', 'Western', 'Floral', 'T-Shirt', 'XS', 'green')"
      ]
     },
     "execution_count": 8,
     "metadata": {},
     "output_type": "execute_result"
    }
   ],
   "source": [
    "fashion.get_item()"
   ]
  },
  {
   "cell_type": "code",
   "execution_count": 9,
   "id": "dbc6709c-e702-4934-bbf3-c4e7cd4223a6",
   "metadata": {},
   "outputs": [
    {
     "data": {
      "text/plain": [
       "int"
      ]
     },
     "execution_count": 9,
     "metadata": {},
     "output_type": "execute_result"
    }
   ],
   "source": [
    "type(fashion.clothing_category)"
   ]
  },
  {
   "cell_type": "code",
   "execution_count": 10,
   "id": "0774c759-ed72-4ca2-b159-3c5b58fe0406",
   "metadata": {},
   "outputs": [
    {
     "data": {
      "text/plain": [
       "str"
      ]
     },
     "execution_count": 10,
     "metadata": {},
     "output_type": "execute_result"
    }
   ],
   "source": [
    "type(fashion.size)"
   ]
  },
  {
   "cell_type": "markdown",
   "id": "f7017156-b35c-4bf1-885c-4492fa803a58",
   "metadata": {},
   "source": [
    "# What happens when data types are specified?"
   ]
  },
  {
   "cell_type": "markdown",
   "id": "9d75c732-9590-4674-b9fd-6ce640a3281a",
   "metadata": {},
   "source": [
    "## Type hinting"
   ]
  },
  {
   "cell_type": "code",
   "execution_count": 11,
   "id": "b15c8c5b-373a-4f59-a583-e7cc63eb2ba4",
   "metadata": {},
   "outputs": [],
   "source": [
    "class Fashion:\n",
    "    def __init__(self,clothing_category: str,gender:str,model:str,design:str,dress_type:str,size:int, color:str):\n",
    "        self.clothing_category = clothing_category\n",
    "        self.gender = gender\n",
    "        self.model = model\n",
    "        self.design = design\n",
    "        self.dress_type = dress_type\n",
    "        self.size = size\n",
    "        self.color = color\n",
    "        \n",
    "    def get_item(self) -> list:\n",
    "        return [self.clothing_category,self.gender,self.model,self.design,self.dress_type, self.size,self.color]"
   ]
  },
  {
   "cell_type": "code",
   "execution_count": 12,
   "id": "f99284cb-6e81-46cf-bbe5-179d41b09919",
   "metadata": {},
   "outputs": [],
   "source": [
    "fashion = Fashion(104,\"Women\",\"Western\",\"Cotton\",\"Shirt\",\"S\",\"white\")"
   ]
  },
  {
   "cell_type": "code",
   "execution_count": 13,
   "id": "63245376-b458-44f3-b40e-2ee8139dcfaf",
   "metadata": {},
   "outputs": [
    {
     "data": {
      "text/plain": [
       "[104, 'Women', 'Western', 'Cotton', 'Shirt', 'S', 'white']"
      ]
     },
     "execution_count": 13,
     "metadata": {},
     "output_type": "execute_result"
    }
   ],
   "source": [
    "fashion.get_item()"
   ]
  },
  {
   "cell_type": "code",
   "execution_count": 14,
   "id": "f4e1ddd7-e4e0-4174-9109-84207d2e25b6",
   "metadata": {},
   "outputs": [
    {
     "name": "stdout",
     "output_type": "stream",
     "text": [
      "{'return': <class 'list'>}\n"
     ]
    }
   ],
   "source": [
    "print(Fashion.get_item.__annotations__)"
   ]
  },
  {
   "cell_type": "markdown",
   "id": "5b8bfb8d-333e-4877-95d4-f841852b0364",
   "metadata": {},
   "source": [
    "# Typing - with explicit type checks"
   ]
  },
  {
   "cell_type": "markdown",
   "id": "65a8f928-0f68-4a06-8b42-0efed4ad4de6",
   "metadata": {},
   "source": [
    "## Method1:"
   ]
  },
  {
   "cell_type": "code",
   "execution_count": 15,
   "id": "a9f22277-b89a-4ebc-bc89-0ddeaa70e89e",
   "metadata": {},
   "outputs": [],
   "source": [
    "class typecheck:\n",
    "    def intcheck(self,inputvalue):\n",
    "        if type(inputvalue) != int:\n",
    "            print(\"value should be an integer\")\n",
    "        else:\n",
    "            return inputvalue\n",
    "    \n",
    "    def stringcheck(self,inputvalue):\n",
    "        if type(inputvalue) != str:\n",
    "            print(\"value should be a string\")\n",
    "        else:\n",
    "            return inputvalue\n",
    "        \n",
    "    def floatcheck(self,inputvalue):\n",
    "        if type(inputvalue) != float:\n",
    "            print(\"value should be a float\")\n",
    "        else:\n",
    "            return inputvalue\n",
    "            \n",
    "    def listcheck(self,inputvalue):\n",
    "        if type(inputvalue) != list:\n",
    "            print(\"value should be a list\")\n",
    "        else:\n",
    "            return inputvalue\n",
    "            \n",
    "    def tuplecheck(self,inputvalue):\n",
    "        if type(inputvalue) != tuple:\n",
    "            print(\"value should be a tuple\")\n",
    "        else:\n",
    "            return inputvalue\n",
    "\n",
    "    def dictcheck(self,inputvalue):\n",
    "        if type(inputvalue) != dict:\n",
    "            print(\"value should be a dict\")\n",
    "        else:\n",
    "            return inputvalue"
   ]
  },
  {
   "cell_type": "code",
   "execution_count": 16,
   "id": "227badff-5d71-4f28-bf9c-d6b27de6e365",
   "metadata": {},
   "outputs": [],
   "source": [
    "class Fashion:\n",
    "    def __init__(self,clothing_category: str,gender:str,price:float,design:str,dress_type:str,size:int, color:list):\n",
    "        tc = typecheck()\n",
    "        self.clothing_category = tc.stringcheck(clothing_category)\n",
    "        self.gender = tc.stringcheck(gender)\n",
    "        self.price = tc.floatcheck(price)\n",
    "        self.design = tc.stringcheck(design)\n",
    "        self.dress_type = tc.stringcheck(dress_type)\n",
    "        self.size = tc.intcheck(size)\n",
    "        self.color = tc.listcheck(color)\n",
    "        \n",
    "    def get_item(self):\n",
    "        return self.clothing_category,self.gender,self.price,self.design,self.dress_type, self.size,self.color"
   ]
  },
  {
   "cell_type": "code",
   "execution_count": 17,
   "id": "a0664856-824e-47e9-b288-4bb75a337a9e",
   "metadata": {},
   "outputs": [
    {
     "name": "stdout",
     "output_type": "stream",
     "text": [
      "value should be a string\n",
      "value should be a float\n",
      "value should be an integer\n",
      "value should be a list\n"
     ]
    }
   ],
   "source": [
    "fashion = Fashion(112,\"Men\",\"Western\",\"Designer\",\"Shirt\",38.4,\"black\")"
   ]
  },
  {
   "cell_type": "code",
   "execution_count": 18,
   "id": "aedee84a-18f7-4e73-8e5b-60cd60378119",
   "metadata": {},
   "outputs": [
    {
     "data": {
      "text/plain": [
       "(None, 'Men', None, 'Designer', 'Shirt', None, None)"
      ]
     },
     "execution_count": 18,
     "metadata": {},
     "output_type": "execute_result"
    }
   ],
   "source": [
    "fashion.get_item()"
   ]
  },
  {
   "cell_type": "code",
   "execution_count": 19,
   "id": "d5b27e55-3dfc-4ac1-ba35-d8fbff478cfe",
   "metadata": {},
   "outputs": [],
   "source": [
    "fashion = Fashion(\"112\",\"Men\",20.0,\"Designer\",\"Shirt\",38,[\"blue\",\"white\"])"
   ]
  },
  {
   "cell_type": "code",
   "execution_count": 20,
   "id": "539dd156-a88c-47ff-8f86-570b71bc4470",
   "metadata": {},
   "outputs": [
    {
     "data": {
      "text/plain": [
       "('112', 'Men', 20.0, 'Designer', 'Shirt', 38, ['blue', 'white'])"
      ]
     },
     "execution_count": 20,
     "metadata": {},
     "output_type": "execute_result"
    }
   ],
   "source": [
    "fashion.get_item()"
   ]
  },
  {
   "cell_type": "markdown",
   "id": "4f73d825-5388-4828-a3a6-97bae749e20b",
   "metadata": {},
   "source": [
    "## Method2"
   ]
  },
  {
   "cell_type": "code",
   "execution_count": 21,
   "id": "5d8338af-5f65-4df6-b412-7a121a751a27",
   "metadata": {},
   "outputs": [],
   "source": [
    "class typecheck:\n",
    "    def intcheck(self,inputvalue):\n",
    "        if type(inputvalue) != int:\n",
    "            return False\n",
    "        else:\n",
    "            return True\n",
    "    \n",
    "    def stringcheck(self,inputvalue):\n",
    "        if type(inputvalue) != str:\n",
    "            return False\n",
    "        else:\n",
    "            return True\n",
    "        \n",
    "    def floatcheck(self,inputvalue):\n",
    "        if type(inputvalue) != float:\n",
    "            return False\n",
    "        else:\n",
    "            return True\n",
    "            \n",
    "    def listcheck(self,inputvalue):\n",
    "        if type(inputvalue) != list:\n",
    "            return False\n",
    "        else:\n",
    "            return True\n",
    "            \n",
    "    def tuplecheck(self,inputvalue):\n",
    "        if type(inputvalue) != tuple:\n",
    "            return False\n",
    "        else:\n",
    "            return True\n",
    "\n",
    "    def dictcheck(self,inputvalue):\n",
    "        if type(inputvalue) != dict:\n",
    "            return False\n",
    "        else:\n",
    "            return True"
   ]
  },
  {
   "cell_type": "code",
   "execution_count": 22,
   "id": "09a6d9fe-e8a0-4914-adca-8cbb6c335b98",
   "metadata": {},
   "outputs": [],
   "source": [
    "class Fashion:\n",
    "    def __init__(self,clothing_category: str,gender:str,model:tuple,design:int,price:float,size:dict, color:list):\n",
    "        tc = typecheck()\n",
    "        if tc.stringcheck(clothing_category):\n",
    "            self.clothing_category = clothing_category\n",
    "        else:\n",
    "            print(\"clothing category should be a string\")\n",
    "            \n",
    "        if tc.stringcheck(gender):\n",
    "            self.gender = gender\n",
    "        else: \n",
    "            print(\"gender should be a string\")\n",
    "            \n",
    "        if tc.tuplecheck(model):\n",
    "            self.model = model\n",
    "        else:\n",
    "            print(\"model should be a tuple\")\n",
    "            \n",
    "        if tc.intcheck(design):\n",
    "            self.design = design\n",
    "        else:\n",
    "            print(\"design should be an integer\")\n",
    "            \n",
    "        if tc.floatcheck(price):\n",
    "            self.price = price\n",
    "        else:\n",
    "            print(\"price should be a floating point value\")\n",
    "            \n",
    "        if tc.dictcheck(size):\n",
    "            self.size = size\n",
    "        else:\n",
    "            print(\"size should be a dictionary object\")\n",
    "            \n",
    "        if tc.listcheck(color):       \n",
    "            self.color = color\n",
    "        else:\n",
    "            print(\"color should be a list of values\")\n",
    "        \n",
    "    def get_item(self):\n",
    "        return self.clothing_category,self.gender,self.model,self.design,self.price, self.size,self.color"
   ]
  },
  {
   "cell_type": "code",
   "execution_count": 23,
   "id": "4e8db264-d3b4-4e8c-b792-e1776f942d04",
   "metadata": {},
   "outputs": [
    {
     "name": "stdout",
     "output_type": "stream",
     "text": [
      "clothing category should be a string\n",
      "model should be a tuple\n",
      "design should be an integer\n",
      "price should be a floating point value\n",
      "size should be a dictionary object\n",
      "color should be a list of values\n"
     ]
    }
   ],
   "source": [
    "fashion = Fashion(12,\"Women\",\"Western\",\"Floral\",\"Maxi Dress\",34,\"yellow\")"
   ]
  },
  {
   "cell_type": "code",
   "execution_count": 24,
   "id": "69b31b66-84ec-48a9-ad9f-a6e37c389dc7",
   "metadata": {},
   "outputs": [
    {
     "ename": "AttributeError",
     "evalue": "'Fashion' object has no attribute 'clothing_category'",
     "output_type": "error",
     "traceback": [
      "\u001b[0;31m---------------------------------------------------------------------------\u001b[0m",
      "\u001b[0;31mAttributeError\u001b[0m                            Traceback (most recent call last)",
      "Cell \u001b[0;32mIn[24], line 1\u001b[0m\n\u001b[0;32m----> 1\u001b[0m \u001b[43mfashion\u001b[49m\u001b[38;5;241;43m.\u001b[39;49m\u001b[43mget_item\u001b[49m\u001b[43m(\u001b[49m\u001b[43m)\u001b[49m\n",
      "Cell \u001b[0;32mIn[22], line 40\u001b[0m, in \u001b[0;36mFashion.get_item\u001b[0;34m(self)\u001b[0m\n\u001b[1;32m     39\u001b[0m \u001b[38;5;28;01mdef\u001b[39;00m \u001b[38;5;21mget_item\u001b[39m(\u001b[38;5;28mself\u001b[39m):\n\u001b[0;32m---> 40\u001b[0m     \u001b[38;5;28;01mreturn\u001b[39;00m \u001b[38;5;28;43mself\u001b[39;49m\u001b[38;5;241;43m.\u001b[39;49m\u001b[43mclothing_category\u001b[49m,\u001b[38;5;28mself\u001b[39m\u001b[38;5;241m.\u001b[39mgender,\u001b[38;5;28mself\u001b[39m\u001b[38;5;241m.\u001b[39mmodel,\u001b[38;5;28mself\u001b[39m\u001b[38;5;241m.\u001b[39mdesign,\u001b[38;5;28mself\u001b[39m\u001b[38;5;241m.\u001b[39mprice, \u001b[38;5;28mself\u001b[39m\u001b[38;5;241m.\u001b[39msize,\u001b[38;5;28mself\u001b[39m\u001b[38;5;241m.\u001b[39mcolor\n",
      "\u001b[0;31mAttributeError\u001b[0m: 'Fashion' object has no attribute 'clothing_category'"
     ]
    }
   ],
   "source": [
    "fashion.get_item()"
   ]
  },
  {
   "cell_type": "code",
   "execution_count": 25,
   "id": "d8284e93-cf7c-4285-94b8-120c6bb59ab5",
   "metadata": {},
   "outputs": [],
   "source": [
    "fashion = Fashion(\"Rayon\",\"Women\",(\"Western\",\"Floral\"),12012,100.50,{'XS': 36, 'S': 38, 'M': 40},[\"yellow\",\"red\"])"
   ]
  },
  {
   "cell_type": "code",
   "execution_count": 26,
   "id": "0ec94de0-a95d-4300-a0f4-b11227324c1c",
   "metadata": {},
   "outputs": [
    {
     "data": {
      "text/plain": [
       "('Rayon',\n",
       " 'Women',\n",
       " ('Western', 'Floral'),\n",
       " 12012,\n",
       " 100.5,\n",
       " {'XS': 36, 'S': 38, 'M': 40},\n",
       " ['yellow', 'red'])"
      ]
     },
     "execution_count": 26,
     "metadata": {},
     "output_type": "execute_result"
    }
   ],
   "source": [
    "fashion.get_item()"
   ]
  },
  {
   "cell_type": "markdown",
   "id": "83217d32-8657-45ca-97f5-4c2f96820aa5",
   "metadata": {},
   "source": [
    "# Data types - with constraints"
   ]
  },
  {
   "cell_type": "code",
   "execution_count": 27,
   "id": "1fffa8a0-4d21-484d-adc9-1ce8793753a6",
   "metadata": {},
   "outputs": [],
   "source": [
    "class typecheck:\n",
    "    def intcheck(self,inputvalue):\n",
    "        if (type(inputvalue) != int) and (len(str(inputvalue))>2):\n",
    "            return False\n",
    "        else:\n",
    "            return True\n",
    "    \n",
    "    def stringcheck(self,inputvalue):\n",
    "        if (type(inputvalue) != str) and (len(str(inputvalue))>10):\n",
    "            return False\n",
    "        else:\n",
    "            return True"
   ]
  },
  {
   "cell_type": "code",
   "execution_count": 28,
   "id": "b201f4bb-ddc4-4816-847d-542bb2f2f28a",
   "metadata": {},
   "outputs": [],
   "source": [
    "class Fashion:\n",
    "    def __init__(self,clothing_category: str,size:int):\n",
    "        tc = typecheck()\n",
    "        if tc.stringcheck(clothing_category):\n",
    "            self.clothing_category = clothing_category\n",
    "        else:\n",
    "            print(\"value should be a string of length less than or equal to 10\")\n",
    "        if tc.intcheck(size):\n",
    "            self.size = size\n",
    "        else:\n",
    "            print(\"value should be an integer of 2 digits or less\")\n",
    "        \n",
    "    def get_item(self):\n",
    "        return self.clothing_category,self.size"
   ]
  },
  {
   "cell_type": "code",
   "execution_count": 43,
   "id": "77fac787-486a-41b7-a78c-0bb7b037ae78",
   "metadata": {},
   "outputs": [],
   "source": [
    "fashion = Fashion(\"Clothing & Accessories\",384)"
   ]
  },
  {
   "cell_type": "code",
   "execution_count": 44,
   "id": "094f90e2-2453-425a-a82a-64720f23cc14",
   "metadata": {},
   "outputs": [
    {
     "data": {
      "text/plain": [
       "('Clothing & Accessories', 384)"
      ]
     },
     "execution_count": 44,
     "metadata": {},
     "output_type": "execute_result"
    }
   ],
   "source": [
    "fashion.get_item()"
   ]
  },
  {
   "cell_type": "code",
   "execution_count": 30,
   "id": "abd8000f-bad1-48a7-8bf0-91dd728c94e4",
   "metadata": {},
   "outputs": [],
   "source": [
    "fashion = Fashion(\"Cotton\",34)"
   ]
  },
  {
   "cell_type": "code",
   "execution_count": 31,
   "id": "1d0a0aa8-55ae-464b-a076-c01511f39535",
   "metadata": {},
   "outputs": [
    {
     "data": {
      "text/plain": [
       "('Cotton', 34)"
      ]
     },
     "execution_count": 31,
     "metadata": {},
     "output_type": "execute_result"
    }
   ],
   "source": [
    "fashion.get_item()"
   ]
  },
  {
   "cell_type": "markdown",
   "id": "aa098d76-d703-4a9b-9c5b-0182b75ecb2a",
   "metadata": {},
   "source": [
    "# Simple custom data type"
   ]
  },
  {
   "cell_type": "code",
   "execution_count": 32,
   "id": "0e1239ee-227a-4a24-b066-5397e15d0956",
   "metadata": {},
   "outputs": [],
   "source": [
    "class DressSize:\n",
    "    def __init__(self,size:int):\n",
    "        self.limit = [28, 30, 32, 34, 36, 38, 40, 42, 44, 46, 48]\n",
    "        if type(size)==int and size in self.limit:\n",
    "            self.size = size\n",
    "        else:\n",
    "            print(\"\\x1B[31mSize should be a valid dress size\")  \n",
    "    \n",
    "    def __str__(self):\n",
    "        return str(self.size)\n",
    "    \n",
    "    def value(self):\n",
    "        return self.size\n",
    "    \n",
    "    def __add__(self, up):\n",
    "        result = self.size + up\n",
    "        if result in self.limit:\n",
    "            return result\n",
    "        else:\n",
    "            return \"Input valid size increments\"\n",
    "    \n",
    "    def __sub__(self, down):\n",
    "        result = self.size - down\n",
    "        if result in self.limit:\n",
    "            return result\n",
    "        else:\n",
    "            return \"Input valid size decrements\""
   ]
  },
  {
   "cell_type": "code",
   "execution_count": 33,
   "id": "bf6758e0-51ef-4af5-afa7-0443f8fe1937",
   "metadata": {},
   "outputs": [
    {
     "name": "stdout",
     "output_type": "stream",
     "text": [
      "\u001b[31mSize should be a valid dress size\n"
     ]
    }
   ],
   "source": [
    "s = DressSize(\"30\")"
   ]
  },
  {
   "cell_type": "code",
   "execution_count": 34,
   "id": "51de87c6-61ca-4d5e-be39-c711c07f78a2",
   "metadata": {},
   "outputs": [
    {
     "ename": "AttributeError",
     "evalue": "'DressSize' object has no attribute 'size'",
     "output_type": "error",
     "traceback": [
      "\u001b[0;31m---------------------------------------------------------------------------\u001b[0m",
      "\u001b[0;31mAttributeError\u001b[0m                            Traceback (most recent call last)",
      "Cell \u001b[0;32mIn[34], line 1\u001b[0m\n\u001b[0;32m----> 1\u001b[0m \u001b[43ms\u001b[49m\u001b[38;5;241;43m.\u001b[39;49m\u001b[43mvalue\u001b[49m\u001b[43m(\u001b[49m\u001b[43m)\u001b[49m\n",
      "Cell \u001b[0;32mIn[32], line 13\u001b[0m, in \u001b[0;36mDressSize.value\u001b[0;34m(self)\u001b[0m\n\u001b[1;32m     12\u001b[0m \u001b[38;5;28;01mdef\u001b[39;00m \u001b[38;5;21mvalue\u001b[39m(\u001b[38;5;28mself\u001b[39m):\n\u001b[0;32m---> 13\u001b[0m     \u001b[38;5;28;01mreturn\u001b[39;00m \u001b[38;5;28;43mself\u001b[39;49m\u001b[38;5;241;43m.\u001b[39;49m\u001b[43msize\u001b[49m\n",
      "\u001b[0;31mAttributeError\u001b[0m: 'DressSize' object has no attribute 'size'"
     ]
    }
   ],
   "source": [
    "s.value()"
   ]
  },
  {
   "cell_type": "code",
   "execution_count": 35,
   "id": "3a20ec87-573c-4909-88b7-0746bf94042b",
   "metadata": {},
   "outputs": [
    {
     "data": {
      "text/plain": [
       "<__main__.DressSize at 0x103b41650>"
      ]
     },
     "execution_count": 35,
     "metadata": {},
     "output_type": "execute_result"
    }
   ],
   "source": [
    "s = DressSize(30)\n",
    "s"
   ]
  },
  {
   "cell_type": "code",
   "execution_count": 36,
   "id": "81b7635a-5703-4f52-9dd7-118f395ac25e",
   "metadata": {},
   "outputs": [
    {
     "data": {
      "text/plain": [
       "36"
      ]
     },
     "execution_count": 36,
     "metadata": {},
     "output_type": "execute_result"
    }
   ],
   "source": [
    "DressSize(30) + 6"
   ]
  },
  {
   "cell_type": "code",
   "execution_count": 37,
   "id": "3b8150b7-6429-4421-83d2-f1854ada163e",
   "metadata": {},
   "outputs": [
    {
     "data": {
      "text/plain": [
       "'Input valid size increments'"
      ]
     },
     "execution_count": 37,
     "metadata": {},
     "output_type": "execute_result"
    }
   ],
   "source": [
    "DressSize(30) + 3"
   ]
  },
  {
   "cell_type": "code",
   "execution_count": 38,
   "id": "838aa126-3474-44fd-9f42-e98b61c4b6cb",
   "metadata": {},
   "outputs": [
    {
     "data": {
      "text/plain": [
       "28"
      ]
     },
     "execution_count": 38,
     "metadata": {},
     "output_type": "execute_result"
    }
   ],
   "source": [
    "DressSize(32) - 4"
   ]
  },
  {
   "cell_type": "code",
   "execution_count": 39,
   "id": "53ab5d7b-1e08-47ec-b263-70e7db2f135a",
   "metadata": {},
   "outputs": [
    {
     "data": {
      "text/plain": [
       "'Input valid size decrements'"
      ]
     },
     "execution_count": 39,
     "metadata": {},
     "output_type": "execute_result"
    }
   ],
   "source": [
    "DressSize(30) - 3"
   ]
  },
  {
   "cell_type": "code",
   "execution_count": 40,
   "id": "25b5503b-64b4-4d2d-8e50-9a9ce8d827b6",
   "metadata": {},
   "outputs": [
    {
     "name": "stdout",
     "output_type": "stream",
     "text": [
      "30\n"
     ]
    }
   ],
   "source": [
    "print(s)"
   ]
  },
  {
   "cell_type": "code",
   "execution_count": 41,
   "id": "fe42c4b4-007c-410f-9a76-110dbcad0a1c",
   "metadata": {},
   "outputs": [
    {
     "data": {
      "text/plain": [
       "30"
      ]
     },
     "execution_count": 41,
     "metadata": {},
     "output_type": "execute_result"
    }
   ],
   "source": [
    "s.value()"
   ]
  },
  {
   "cell_type": "code",
   "execution_count": 42,
   "id": "e3af804d-1896-4ff0-bbdd-f61085bc4146",
   "metadata": {},
   "outputs": [
    {
     "data": {
      "text/plain": [
       "__main__.DressSize"
      ]
     },
     "execution_count": 42,
     "metadata": {},
     "output_type": "execute_result"
    }
   ],
   "source": [
    "type(s)"
   ]
  },
  {
   "cell_type": "markdown",
   "id": "a1ae97c8-34f5-4228-bb00-37c44bf5613d",
   "metadata": {},
   "source": [
    "# Domain specific data type"
   ]
  },
  {
   "cell_type": "code",
   "execution_count": 45,
   "id": "46c9e4da-1b95-42fc-b7c1-1f034ac55d91",
   "metadata": {},
   "outputs": [],
   "source": [
    "romanchart = ['XS','S','M','L','XL','XXL','XXXL']\n",
    "sizenum = [36,38,40,42,44,46,48]\n",
    "chart = dict(zip(romanchart,sizenum))"
   ]
  },
  {
   "cell_type": "code",
   "execution_count": 46,
   "id": "c3539e3e-9845-46a8-9444-46926bbeb450",
   "metadata": {},
   "outputs": [
    {
     "data": {
      "text/plain": [
       "dict_items([('XS', 36), ('S', 38), ('M', 40), ('L', 42), ('XL', 44), ('XXL', 46), ('XXXL', 48)])"
      ]
     },
     "execution_count": 46,
     "metadata": {},
     "output_type": "execute_result"
    }
   ],
   "source": [
    "chart.items()"
   ]
  },
  {
   "cell_type": "code",
   "execution_count": 47,
   "id": "941f1da2-773d-4c35-9fb3-f6b34dd5b707",
   "metadata": {},
   "outputs": [],
   "source": [
    "class DressSize:\n",
    "    def __init__(self, size):\n",
    "        self.romanchart = ['XS','S','M','L','XL','XXL','XXXL']\n",
    "        self.sizenum = [36,38,40,42,44,46,48]\n",
    "        self.chart = dict(zip(self.romanchart,self.sizenum))\n",
    "                \n",
    "        if (size in self.romanchart) or (size in self.sizenum ):\n",
    "            self.size = size\n",
    "        else:\n",
    "            print(\"\\x1B[31mEnter valid size\")\n",
    "    \n",
    "    def __str__(self):\n",
    "        return str(self.size)\n",
    "    \n",
    "    def value(self):\n",
    "        return self.size\n",
    "    \n",
    "    def increase(self):\n",
    "        if self.size in self.romanchart :\n",
    "            result = self.chart[self.size] + 2\n",
    "            for key, value in self.chart.items():\n",
    "                if value == result:\n",
    "                    return key\n",
    "        elif (self.size in self.sizenum ):\n",
    "            return self.size + 2\n",
    "    \n",
    "    def decrease(self):\n",
    "        if self.size in self.romanchart :\n",
    "            result = self.chart[self.size] - 2\n",
    "            for key, value in self.chart.items():\n",
    "                if value == result:\n",
    "                    return key\n",
    "        elif (self.size in self.sizenum ):\n",
    "            return self.size - 2"
   ]
  },
  {
   "cell_type": "code",
   "execution_count": 48,
   "id": "8bddd6e3-5173-42d0-8937-412a0766be9e",
   "metadata": {},
   "outputs": [],
   "source": [
    "s = DressSize(\"XXL\")"
   ]
  },
  {
   "cell_type": "code",
   "execution_count": 49,
   "id": "dddb10b5-0e4b-4d33-b77b-1297188f9d08",
   "metadata": {},
   "outputs": [
    {
     "data": {
      "text/plain": [
       "{'XS': 36, 'S': 38, 'M': 40, 'L': 42, 'XL': 44, 'XXL': 46, 'XXXL': 48}"
      ]
     },
     "execution_count": 49,
     "metadata": {},
     "output_type": "execute_result"
    }
   ],
   "source": [
    "s.chart"
   ]
  },
  {
   "cell_type": "code",
   "execution_count": 50,
   "id": "cde4dc5a-5cef-4357-a9c6-ae496beb88c0",
   "metadata": {},
   "outputs": [
    {
     "name": "stdout",
     "output_type": "stream",
     "text": [
      "XXL\n"
     ]
    }
   ],
   "source": [
    "print(s)"
   ]
  },
  {
   "cell_type": "code",
   "execution_count": 51,
   "id": "c5277fe6-5608-45c2-84d8-de22ce39c56e",
   "metadata": {},
   "outputs": [
    {
     "data": {
      "text/plain": [
       "'XXL'"
      ]
     },
     "execution_count": 51,
     "metadata": {},
     "output_type": "execute_result"
    }
   ],
   "source": [
    "s.value()"
   ]
  },
  {
   "cell_type": "code",
   "execution_count": 52,
   "id": "49416da8-70f9-4fc8-a005-a6e7f4c6a5f6",
   "metadata": {},
   "outputs": [
    {
     "data": {
      "text/plain": [
       "'XXXL'"
      ]
     },
     "execution_count": 52,
     "metadata": {},
     "output_type": "execute_result"
    }
   ],
   "source": [
    "s.increase()"
   ]
  },
  {
   "cell_type": "code",
   "execution_count": 53,
   "id": "73ff67d9-a28d-44a7-b2d8-51605e22dc88",
   "metadata": {},
   "outputs": [
    {
     "data": {
      "text/plain": [
       "'XL'"
      ]
     },
     "execution_count": 53,
     "metadata": {},
     "output_type": "execute_result"
    }
   ],
   "source": [
    "s.decrease()"
   ]
  },
  {
   "cell_type": "code",
   "execution_count": 54,
   "id": "176d2c85-03b9-428b-8a76-232c53dcc538",
   "metadata": {},
   "outputs": [],
   "source": [
    "s = DressSize(42)"
   ]
  },
  {
   "cell_type": "code",
   "execution_count": 55,
   "id": "a9898050-5da9-4cdb-9c52-64c433b83bc9",
   "metadata": {},
   "outputs": [
    {
     "data": {
      "text/plain": [
       "{'XS': 36, 'S': 38, 'M': 40, 'L': 42, 'XL': 44, 'XXL': 46, 'XXXL': 48}"
      ]
     },
     "execution_count": 55,
     "metadata": {},
     "output_type": "execute_result"
    }
   ],
   "source": [
    "s.chart"
   ]
  },
  {
   "cell_type": "code",
   "execution_count": 56,
   "id": "771b1d33-7ca0-47f8-a099-21939191d5e2",
   "metadata": {},
   "outputs": [
    {
     "name": "stdout",
     "output_type": "stream",
     "text": [
      "42\n"
     ]
    }
   ],
   "source": [
    "print(s)"
   ]
  },
  {
   "cell_type": "code",
   "execution_count": 57,
   "id": "364880d0-2528-4691-9264-4804d97c8680",
   "metadata": {},
   "outputs": [
    {
     "data": {
      "text/plain": [
       "42"
      ]
     },
     "execution_count": 57,
     "metadata": {},
     "output_type": "execute_result"
    }
   ],
   "source": [
    "s.value()"
   ]
  },
  {
   "cell_type": "code",
   "execution_count": 58,
   "id": "87f6d220-e0b0-4bbf-908d-2703041bc900",
   "metadata": {},
   "outputs": [
    {
     "data": {
      "text/plain": [
       "44"
      ]
     },
     "execution_count": 58,
     "metadata": {},
     "output_type": "execute_result"
    }
   ],
   "source": [
    "s.increase()"
   ]
  },
  {
   "cell_type": "code",
   "execution_count": 59,
   "id": "07850574-d8f2-4957-ad2c-f8fbbe5a0e79",
   "metadata": {},
   "outputs": [],
   "source": [
    "class Fashion:\n",
    "    def __init__(self,clothing_category: str,gender:str,model:str,design:str,dress_type:str,color:str,size:DressSize):\n",
    "        self.clothing_category = clothing_category\n",
    "        self.gender = gender\n",
    "        self.model = model\n",
    "        self.design = design\n",
    "        self.dress_type = dress_type\n",
    "        self.color = color\n",
    "        if isinstance(size,DressSize):\n",
    "            self.size = size\n",
    "        else:\n",
    "            print(\"value should be of type DressSize\")        \n",
    "        \n",
    "    def get_item(self):\n",
    "        return self.clothing_category,self.gender,self.model,self.design,self.dress_type,self.color,self.size"
   ]
  },
  {
   "cell_type": "code",
   "execution_count": 60,
   "id": "4f700b4e-e121-48ae-b5ee-65e37ee56083",
   "metadata": {},
   "outputs": [
    {
     "name": "stdout",
     "output_type": "stream",
     "text": [
      "value should be of type DressSize\n"
     ]
    }
   ],
   "source": [
    "fashion = Fashion(\"Clothing\",\"Women\",\"Western\",\"Dotted\",\"Jumpsuits\",'blue',\"XL\")"
   ]
  },
  {
   "cell_type": "code",
   "execution_count": 61,
   "id": "c8115dd3-cfdb-4dd0-a63b-13446d50d815",
   "metadata": {},
   "outputs": [],
   "source": [
    "M = DressSize(\"M\")"
   ]
  },
  {
   "cell_type": "code",
   "execution_count": 62,
   "id": "0fab512a-8ad0-40ea-986b-a705d92670bf",
   "metadata": {},
   "outputs": [],
   "source": [
    "fashion = Fashion(\"Clothing\",\"Women\",\"Western\",\"Dotted\",\"Jumpsuits\",'blue',M)"
   ]
  },
  {
   "cell_type": "code",
   "execution_count": 63,
   "id": "9b72c98b-6f7a-4b66-bc8f-1b44c8c6bf1b",
   "metadata": {},
   "outputs": [
    {
     "data": {
      "text/plain": [
       "('Clothing',\n",
       " 'Women',\n",
       " 'Western',\n",
       " 'Dotted',\n",
       " 'Jumpsuits',\n",
       " 'blue',\n",
       " <__main__.DressSize at 0x103b40150>)"
      ]
     },
     "execution_count": 63,
     "metadata": {},
     "output_type": "execute_result"
    }
   ],
   "source": [
    "fashion.get_item()"
   ]
  },
  {
   "cell_type": "code",
   "execution_count": 64,
   "id": "585d2793-6059-40ed-a0d1-6e82d650e5e3",
   "metadata": {},
   "outputs": [
    {
     "data": {
      "text/plain": [
       "'M'"
      ]
     },
     "execution_count": 64,
     "metadata": {},
     "output_type": "execute_result"
    }
   ],
   "source": [
    "fashion.size.value()"
   ]
  },
  {
   "cell_type": "code",
   "execution_count": null,
   "id": "5772413c-b253-43e0-872f-46c0b037fcb6",
   "metadata": {},
   "outputs": [],
   "source": []
  }
 ],
 "metadata": {
  "kernelspec": {
   "display_name": "Python 3 (ipykernel)",
   "language": "python",
   "name": "python3"
  },
  "language_info": {
   "codemirror_mode": {
    "name": "ipython",
    "version": 3
   },
   "file_extension": ".py",
   "mimetype": "text/x-python",
   "name": "python",
   "nbconvert_exporter": "python",
   "pygments_lexer": "ipython3",
   "version": "3.11.9"
  }
 },
 "nbformat": 4,
 "nbformat_minor": 5
}
