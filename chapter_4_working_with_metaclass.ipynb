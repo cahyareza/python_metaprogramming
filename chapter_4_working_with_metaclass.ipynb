{
 "cells": [
  {
   "cell_type": "markdown",
   "id": "f87c23ae-c172-41d3-a4b5-67207c5f744b",
   "metadata": {},
   "source": [
    "# Chapter 4"
   ]
  },
  {
   "cell_type": "markdown",
   "id": "55c277f7-73c7-4d23-9633-288d7f3001ea",
   "metadata": {},
   "source": [
    "## Type as the base class for everything"
   ]
  },
  {
   "cell_type": "code",
   "execution_count": 36,
   "id": "94fb0162-1473-4acd-85b9-5199e26b8268",
   "metadata": {},
   "outputs": [],
   "source": [
    "class Testfortype:\n",
    "    pass"
   ]
  },
  {
   "cell_type": "code",
   "execution_count": 37,
   "id": "7b4fd751-bbf7-4beb-8db7-55500f16c0d2",
   "metadata": {},
   "outputs": [
    {
     "data": {
      "text/plain": [
       "type"
      ]
     },
     "execution_count": 37,
     "metadata": {},
     "output_type": "execute_result"
    }
   ],
   "source": [
    "type(Testfortype)"
   ]
  },
  {
   "cell_type": "code",
   "execution_count": 38,
   "id": "021e8511-3393-4089-b1ff-9a6e6de6af50",
   "metadata": {},
   "outputs": [
    {
     "data": {
      "text/plain": [
       "type"
      ]
     },
     "execution_count": 38,
     "metadata": {},
     "output_type": "execute_result"
    }
   ],
   "source": [
    "type(object)"
   ]
  },
  {
   "cell_type": "code",
   "execution_count": 39,
   "id": "6f41cf87-116c-4fab-b21c-ee6178317ad8",
   "metadata": {},
   "outputs": [
    {
     "data": {
      "text/plain": [
       "type"
      ]
     },
     "execution_count": 39,
     "metadata": {},
     "output_type": "execute_result"
    }
   ],
   "source": [
    "type(int)"
   ]
  },
  {
   "cell_type": "markdown",
   "id": "8e6702cc-91fd-4133-a211-253c3e1dbc6d",
   "metadata": {},
   "source": [
    "## The structure of a metaclass"
   ]
  },
  {
   "cell_type": "code",
   "execution_count": 40,
   "id": "35802b9c-876d-4693-9e3d-63221c26fd2e",
   "metadata": {},
   "outputs": [],
   "source": [
    "class ExampleMetaClass1(type):\n",
    "    def __new__(self, *args):\n",
    "        print('class itself: ', self)\n",
    "        print('Others: ', args)\n",
    "        return type.__new__(self, *args)"
   ]
  },
  {
   "cell_type": "code",
   "execution_count": 41,
   "id": "06bcef8c-4afc-4e4a-8d8a-74558f9ab325",
   "metadata": {},
   "outputs": [
    {
     "name": "stdout",
     "output_type": "stream",
     "text": [
      "class itself:  <class '__main__.ExampleMetaClass1'>\n",
      "Others:  ('ExampleClass1', (), {'__module__': '__main__', '__qualname__': 'ExampleClass1', 'int1': 123, 'str1': 'test', 'test': <function ExampleClass1.test at 0x1119179c0>})\n"
     ]
    }
   ],
   "source": [
    "class ExampleClass1(metaclass = ExampleMetaClass1):    \n",
    "    int1 = 123\n",
    "    str1 = 'test'\n",
    "    \n",
    "    def test():\n",
    "        print('test')\n"
   ]
  },
  {
   "cell_type": "code",
   "execution_count": 42,
   "id": "b140eb40-c105-4e1c-96cb-7ea7de7ca3bd",
   "metadata": {},
   "outputs": [],
   "source": [
    "class ExampleMetaClass2(type):\n",
    "    def __new__(classitself,classname,baseclasses,attributes):\n",
    "        print('class itself: ',classitself)\n",
    "        print('class name: ',classname)\n",
    "        print('parent class list: ',baseclasses)\n",
    "        print('attribute list: ',attributes)\n",
    "        return type.__new__(classitself,classname,baseclasses,attributes)"
   ]
  },
  {
   "cell_type": "code",
   "execution_count": 43,
   "id": "1057e5a3-12c4-497e-8e60-88a5ebb3e771",
   "metadata": {},
   "outputs": [],
   "source": [
    "class ExampleParentClass1():\n",
    "    def test1():\n",
    "        print('parent1 - test1')\n",
    "class ExampleParentClass2():\n",
    "    def test2():\n",
    "        print('parent2 - test2')"
   ]
  },
  {
   "cell_type": "code",
   "execution_count": 44,
   "id": "216e8ff1-0772-4126-9ef3-465ff1c7705f",
   "metadata": {},
   "outputs": [
    {
     "name": "stdout",
     "output_type": "stream",
     "text": [
      "class itself:  <class '__main__.ExampleMetaClass2'>\n",
      "class name:  ExampleClass2\n",
      "parent class list:  (<class '__main__.ExampleParentClass1'>, <class '__main__.ExampleParentClass2'>)\n",
      "attribute list:  {'__module__': '__main__', '__qualname__': 'ExampleClass2', 'int1': 123, 'str1': 'test', 'test3': <function ExampleClass2.test3 at 0x111915f80>}\n"
     ]
    }
   ],
   "source": [
    "class ExampleClass2(ExampleParentClass1,ExampleParentClass2, metaclass = ExampleMetaClass2):    \n",
    "    int1 = 123\n",
    "    str1 = 'test'\n",
    "    \n",
    "    def test3():\n",
    "        print('child1 - test3')"
   ]
  },
  {
   "cell_type": "code",
   "execution_count": 45,
   "id": "9b804431-66b7-4e5b-a97c-6b74c1f806b2",
   "metadata": {},
   "outputs": [
    {
     "data": {
      "text/plain": [
       "type"
      ]
     },
     "execution_count": 45,
     "metadata": {},
     "output_type": "execute_result"
    }
   ],
   "source": [
    "type(ExampleParentClass1)"
   ]
  },
  {
   "cell_type": "code",
   "execution_count": 46,
   "id": "cb29290c-e505-448a-b823-afcf1b165da6",
   "metadata": {},
   "outputs": [
    {
     "data": {
      "text/plain": [
       "type"
      ]
     },
     "execution_count": 46,
     "metadata": {},
     "output_type": "execute_result"
    }
   ],
   "source": [
    "type(ExampleMetaClass2)"
   ]
  },
  {
   "cell_type": "code",
   "execution_count": 47,
   "id": "9ddd3d64-19e5-43d5-884b-731e987ad669",
   "metadata": {},
   "outputs": [
    {
     "data": {
      "text/plain": [
       "__main__.ExampleMetaClass2"
      ]
     },
     "execution_count": 47,
     "metadata": {},
     "output_type": "execute_result"
    }
   ],
   "source": [
    "type(ExampleClass2)"
   ]
  },
  {
   "cell_type": "markdown",
   "id": "81e603f3-d9a1-4a94-a520-0553a1ddbdda",
   "metadata": {},
   "source": [
    "## The application of metaclasses"
   ]
  },
  {
   "cell_type": "code",
   "execution_count": 48,
   "id": "075aa613-d5c6-4ba7-9e90-31463e2d0885",
   "metadata": {},
   "outputs": [],
   "source": [
    "class BranchMetaClass(type):\n",
    "    def __new__(classitself, classname, baseclasses, attributes):\n",
    "        import inspect\n",
    "        newattributes = {}\n",
    "        for attribute, value in attributes.items():\n",
    "            if attribute.startswith(\"__\"):\n",
    "                newattributes[attribute] = value\n",
    "            elif inspect.isfunction(value):\n",
    "                newattributes['branch' + attribute.title()] = value\n",
    "            else:\n",
    "                newattributes[attribute] = value\n",
    "        return type.__new__(classitself, classname, baseclasses, newattributes)\n",
    "\n",
    "    @staticmethod\n",
    "    def buy_product(product,unit_price,quantity,statetax_rate,promotiontype):\n",
    "        statetax_rate = statetax_rate        \n",
    "        initialprice = unit_price*quantity \n",
    "        sales_price = initialprice + initialprice*statetax_rate\n",
    "        return sales_price, product,promotiontype\n",
    "            "
   ]
  },
  {
   "cell_type": "code",
   "execution_count": 49,
   "id": "72fd8b7b-d307-4a15-a4f5-0fb9845a128b",
   "metadata": {},
   "outputs": [],
   "source": [
    "class Brooklyn(metaclass = BranchMetaClass):\n",
    "    product_id = 100902\n",
    "    product_name = 'Iphone X'\n",
    "    product_category = 'Electronics'\n",
    "    unit_price = 700\n",
    "    \n",
    "    def maintenance_cost(self,product_type, quantity):\n",
    "        self.product_type = product_type\n",
    "        self.quantity = quantity\n",
    "        storage_cost = 100\n",
    "        if (product_type == 'Electronics'):\n",
    "            maintenance_cost = self.quantity * 0.25 + storage_cost    \n",
    "            return maintenance_cost\n",
    "        else:\n",
    "            return \"We don't stock this product\"\n"
   ]
  },
  {
   "cell_type": "code",
   "execution_count": 50,
   "id": "e6136e39-c46d-499a-8eb8-e5409755c60d",
   "metadata": {},
   "outputs": [
    {
     "data": {
      "text/plain": [
       "(1512.0, 'Iphone X', 'percentage')"
      ]
     },
     "execution_count": 50,
     "metadata": {},
     "output_type": "execute_result"
    }
   ],
   "source": [
    "Brooklyn.buy_product('Iphone X', 700, 2, 0.08, 'percentage')"
   ]
  },
  {
   "cell_type": "code",
   "execution_count": 51,
   "id": "b3785b9c-4f4c-47f5-9fb8-a9c1d3c36af3",
   "metadata": {},
   "outputs": [
    {
     "data": {
      "text/plain": [
       "['__class__',\n",
       " '__delattr__',\n",
       " '__dict__',\n",
       " '__dir__',\n",
       " '__doc__',\n",
       " '__eq__',\n",
       " '__format__',\n",
       " '__ge__',\n",
       " '__getattribute__',\n",
       " '__getstate__',\n",
       " '__gt__',\n",
       " '__hash__',\n",
       " '__init__',\n",
       " '__init_subclass__',\n",
       " '__le__',\n",
       " '__lt__',\n",
       " '__module__',\n",
       " '__ne__',\n",
       " '__new__',\n",
       " '__reduce__',\n",
       " '__reduce_ex__',\n",
       " '__repr__',\n",
       " '__setattr__',\n",
       " '__sizeof__',\n",
       " '__str__',\n",
       " '__subclasshook__',\n",
       " '__weakref__',\n",
       " 'branchMaintenance_Cost',\n",
       " 'product_category',\n",
       " 'product_id',\n",
       " 'product_name',\n",
       " 'unit_price']"
      ]
     },
     "execution_count": 51,
     "metadata": {},
     "output_type": "execute_result"
    }
   ],
   "source": [
    "dir(Brooklyn)"
   ]
  },
  {
   "cell_type": "code",
   "execution_count": 52,
   "id": "d09a59f2-f176-4aa1-b357-60d3ede4d57a",
   "metadata": {},
   "outputs": [],
   "source": [
    "brooklyn = Brooklyn()"
   ]
  },
  {
   "cell_type": "code",
   "execution_count": 53,
   "id": "81ee13cb-be50-4730-8275-235a82eee549",
   "metadata": {},
   "outputs": [
    {
     "data": {
      "text/plain": [
       "102.5"
      ]
     },
     "execution_count": 53,
     "metadata": {},
     "output_type": "execute_result"
    }
   ],
   "source": [
    "brooklyn.branchMaintenance_Cost(\"Electronics\", 10)"
   ]
  },
  {
   "cell_type": "code",
   "execution_count": 54,
   "id": "da661f22-822b-4ae1-9fcd-c8ff0a70551f",
   "metadata": {},
   "outputs": [
    {
     "data": {
      "text/plain": [
       "100902"
      ]
     },
     "execution_count": 54,
     "metadata": {},
     "output_type": "execute_result"
    }
   ],
   "source": [
    "brooklyn.product_id"
   ]
  },
  {
   "cell_type": "code",
   "execution_count": 55,
   "id": "45d0b17d-5846-4c3a-890a-5f4dcfddf94c",
   "metadata": {},
   "outputs": [],
   "source": [
    "class Queens(BranchMetaClass):\n",
    "    def maintenance_cost(product_type, quantity):\n",
    "        product_type = product_type\n",
    "        quantity = quantity\n",
    "        if (product_type == 'FMCG'):\n",
    "            maintenance_cost = quantity * 0.05\n",
    "            return maintenance_cost\n",
    "        else:\n",
    "            return \"We don't stock this product\""
   ]
  },
  {
   "cell_type": "code",
   "execution_count": 56,
   "id": "936c57f8-5138-4236-96d6-131243832cf1",
   "metadata": {},
   "outputs": [
    {
     "ename": "TypeError",
     "evalue": "BranchMetaClass.__new__() missing 3 required positional arguments: 'classname', 'baseclasses', and 'attributes'",
     "output_type": "error",
     "traceback": [
      "\u001b[0;31m---------------------------------------------------------------------------\u001b[0m",
      "\u001b[0;31mTypeError\u001b[0m                                 Traceback (most recent call last)",
      "Cell \u001b[0;32mIn[56], line 1\u001b[0m\n\u001b[0;32m----> 1\u001b[0m queens \u001b[38;5;241m=\u001b[39m \u001b[43mQueens\u001b[49m\u001b[43m(\u001b[49m\u001b[43m)\u001b[49m\n",
      "\u001b[0;31mTypeError\u001b[0m: BranchMetaClass.__new__() missing 3 required positional arguments: 'classname', 'baseclasses', and 'attributes'"
     ]
    }
   ],
   "source": [
    "queens = Queens()"
   ]
  },
  {
   "cell_type": "code",
   "execution_count": 57,
   "id": "9ffa37e9-e8ff-4ab8-8e93-a8d57e65b3e8",
   "metadata": {},
   "outputs": [
    {
     "data": {
      "text/plain": [
       "6.0"
      ]
     },
     "execution_count": 57,
     "metadata": {},
     "output_type": "execute_result"
    }
   ],
   "source": [
    "Queens.maintenance_cost('FMCG',120)"
   ]
  },
  {
   "cell_type": "code",
   "execution_count": 58,
   "id": "c7d3bb50-4549-4319-bf3d-cb5e32f22382",
   "metadata": {},
   "outputs": [
    {
     "data": {
      "text/plain": [
       "(1040.0, 'Iphone', None)"
      ]
     },
     "execution_count": 58,
     "metadata": {},
     "output_type": "execute_result"
    }
   ],
   "source": [
    "Queens.buy_product('Iphone',1000,1,0.04,None)"
   ]
  },
  {
   "cell_type": "markdown",
   "id": "730d279d-ed2a-49e1-8cb2-9fb2d2c0c268",
   "metadata": {},
   "source": [
    "## Inheriting as Parent and Meta class"
   ]
  },
  {
   "cell_type": "code",
   "execution_count": 59,
   "id": "66bf5cdc-ff9d-4290-904c-3dedf27b50af",
   "metadata": {},
   "outputs": [],
   "source": [
    "class Queens(BranchMetaClass,metaclass = BranchMetaClass):\n",
    "    def maintenance_cost(product_type, quantity):\n",
    "        product_type = product_type\n",
    "        quantity = quantity\n",
    "        if (product_type == 'FMCG'):\n",
    "            maintenance_cost = quantity * 0.05\n",
    "            return maintenance_cost\n",
    "        else:\n",
    "            return \"We don't stock this product\""
   ]
  },
  {
   "cell_type": "code",
   "execution_count": 60,
   "id": "c0acf705-50ff-4230-a194-b850a0a75c84",
   "metadata": {},
   "outputs": [
    {
     "data": {
      "text/plain": [
       "117.0"
      ]
     },
     "execution_count": 60,
     "metadata": {},
     "output_type": "execute_result"
    }
   ],
   "source": [
    "Queens.branchMaintenance_Cost('FMCG',2340)"
   ]
  },
  {
   "cell_type": "code",
   "execution_count": 61,
   "id": "1eee6bf1-9ba6-4996-84f6-2ff10af210e3",
   "metadata": {},
   "outputs": [
    {
     "data": {
      "text/plain": [
       "(1564.5, 'Iphone', None)"
      ]
     },
     "execution_count": 61,
     "metadata": {},
     "output_type": "execute_result"
    }
   ],
   "source": [
    "Queens.buy_product('Iphone',1500,1,0.043,None)"
   ]
  },
  {
   "cell_type": "code",
   "execution_count": 62,
   "id": "feda9b26-6377-41ea-9ef4-fc9bd8be5deb",
   "metadata": {},
   "outputs": [
    {
     "ename": "TypeError",
     "evalue": "BranchMetaClass.__new__() missing 3 required positional arguments: 'classname', 'baseclasses', and 'attributes'",
     "output_type": "error",
     "traceback": [
      "\u001b[0;31m---------------------------------------------------------------------------\u001b[0m",
      "\u001b[0;31mTypeError\u001b[0m                                 Traceback (most recent call last)",
      "Cell \u001b[0;32mIn[62], line 1\u001b[0m\n\u001b[0;32m----> 1\u001b[0m queens \u001b[38;5;241m=\u001b[39m \u001b[43mQueens\u001b[49m\u001b[43m(\u001b[49m\u001b[43m)\u001b[49m\n",
      "\u001b[0;31mTypeError\u001b[0m: BranchMetaClass.__new__() missing 3 required positional arguments: 'classname', 'baseclasses', and 'attributes'"
     ]
    }
   ],
   "source": [
    "queens = Queens()"
   ]
  },
  {
   "cell_type": "markdown",
   "id": "2b187a29-1b34-4486-9123-215fbd42a716",
   "metadata": {},
   "source": [
    "## Switching Meta classes"
   ]
  },
  {
   "cell_type": "code",
   "execution_count": 63,
   "id": "925cb663-8ad8-4548-9cee-fe117f075028",
   "metadata": {},
   "outputs": [],
   "source": [
    "class IncomeStatementMetaClass(type):\n",
    "    def __new__(classitself, classname, baseclasses, attributes):\n",
    "        \n",
    "        newattributes = {}\n",
    "        for attribute, value in attributes.items():\n",
    "            if attribute.startswith(\"__\"):\n",
    "                newattributes[attribute] = value\n",
    "            elif (\"revenue\" in attribute) or \\\n",
    "            (\"expense\" in attribute) or \\\n",
    "            (\"profit\" in attribute) or \\\n",
    "            (\"loss\" in attribute):\n",
    "                newattributes['IncomeStatement_' + attribute.title()] = value\n",
    "            else:\n",
    "                newattributes[attribute] = value\n",
    "        return type.__new__(classitself, classname, baseclasses, newattributes)"
   ]
  },
  {
   "cell_type": "code",
   "execution_count": 64,
   "id": "0ae728c3-2740-4aa2-9157-b76df7f2182c",
   "metadata": {},
   "outputs": [],
   "source": [
    "class BalanceSheetMetaClass(type):\n",
    "    def __new__(classitself, classname, baseclasses, attributes):\n",
    "        \n",
    "        newattributes = {}\n",
    "        for attribute, value in attributes.items():\n",
    "            if attribute.startswith(\"__\"):\n",
    "                newattributes[attribute] = value\n",
    "            elif (\"assets\" in attribute) or \\\n",
    "            (\"liabilities\" in attribute) or \\\n",
    "            (\"goodwill\" in attribute) or \\\n",
    "            (\"cash\" in attribute):\n",
    "                newattributes['BalanceSheet_' + attribute.title()] = value\n",
    "            else:\n",
    "                newattributes[attribute] = value\n",
    "        return type.__new__(classitself, classname, baseclasses, newattributes)"
   ]
  },
  {
   "cell_type": "code",
   "execution_count": 65,
   "id": "b29390de-33bb-4d4f-81fb-ff25822fa29e",
   "metadata": {},
   "outputs": [],
   "source": [
    "class Malibu:\n",
    "    profit = 4354365\n",
    "    loss = 43000\n",
    "    assets = 15000\n",
    "    liabilities = 4000\n",
    "    def calc_revenue(quantity,unitsales_price):\n",
    "        totalrevenue = quantity * unitsaleprice \n",
    "        return totalrevenue\n",
    "    \n",
    "    def calc_expense(totalrevenue,netincome, netloss):\n",
    "        totalexpense = totalrevenue - (netincome + netloss)\n",
    "        return totalexpense  \n",
    "    \n",
    "    def calc_totalassets(cash,inventory,accountsreceivable):\n",
    "        totalassets = cash + inventory + accountsreceivable\n",
    "        return totalassets\n",
    "    \n",
    "    def calc_totalliabilities(debt,accruedexpense,accountspayable):\n",
    "        totalliabilities = debt + accruedexpense + accountspayable\n",
    "        return totalliabilities"
   ]
  },
  {
   "cell_type": "code",
   "execution_count": 66,
   "id": "5b8730dd-e24b-465c-9bc0-6ae34cf7cbdf",
   "metadata": {},
   "outputs": [
    {
     "ename": "SyntaxError",
     "evalue": "invalid syntax (3676963949.py, line 1)",
     "output_type": "error",
     "traceback": [
      "\u001b[0;36m  Cell \u001b[0;32mIn[66], line 1\u001b[0;36m\u001b[0m\n\u001b[0;31m    Malibu.\u001b[0m\n\u001b[0m           ^\u001b[0m\n\u001b[0;31mSyntaxError\u001b[0m\u001b[0;31m:\u001b[0m invalid syntax\n"
     ]
    }
   ],
   "source": [
    "Malibu."
   ]
  },
  {
   "cell_type": "code",
   "execution_count": 67,
   "id": "2c9a7be3-a753-4c8d-8443-79ed4b9b27d7",
   "metadata": {},
   "outputs": [],
   "source": [
    "class Malibu(metaclass = IncomeStatementMetaClass):\n",
    "    profit = 4354365\n",
    "    loss = 43000\n",
    "    assets = 15000\n",
    "    liabilities = 4000\n",
    "    def calc_revenue(quantity,unitsales_price):\n",
    "        totalrevenue = quantity * unitsaleprice \n",
    "        return totalrevenue\n",
    "    \n",
    "    def calc_expense(totalrevenue,netincome, netloss):\n",
    "        totalexpense = totalrevenue - (netincome + netloss)\n",
    "        return totalexpense  \n",
    "    \n",
    "    def calc_totalassets(cash,inventory,accountsreceivable):\n",
    "        totalassets = cash + inventory + accountsreceivable\n",
    "        return totalassets\n",
    "    \n",
    "    def calc_totalliabilities(debt,accruedexpense,accountspayable):\n",
    "        totalliabilities = debt + accruedexpense + accountspayable\n",
    "        return totalliabilities"
   ]
  },
  {
   "cell_type": "code",
   "execution_count": 68,
   "id": "e0e8582a-374f-4595-a60c-a62f8152b277",
   "metadata": {},
   "outputs": [
    {
     "ename": "SyntaxError",
     "evalue": "invalid syntax (3676963949.py, line 1)",
     "output_type": "error",
     "traceback": [
      "\u001b[0;36m  Cell \u001b[0;32mIn[68], line 1\u001b[0;36m\u001b[0m\n\u001b[0;31m    Malibu.\u001b[0m\n\u001b[0m           ^\u001b[0m\n\u001b[0;31mSyntaxError\u001b[0m\u001b[0;31m:\u001b[0m invalid syntax\n"
     ]
    }
   ],
   "source": [
    "Malibu."
   ]
  },
  {
   "cell_type": "code",
   "execution_count": 69,
   "id": "6492b5d8-db90-4a85-a5f7-0827deca19d6",
   "metadata": {},
   "outputs": [],
   "source": [
    "class Malibu(metaclass = BalanceSheetMetaClass):\n",
    "    profit = 4354365\n",
    "    loss = 43000\n",
    "    assets = 15000\n",
    "    liabilities = 4000\n",
    "    def calc_revenue(quantity,unitsales_price):\n",
    "        totalrevenue = quantity * unitsaleprice \n",
    "        return totalrevenue\n",
    "    \n",
    "    def calc_expense(totalrevenue,netincome, netloss):\n",
    "        totalexpense = totalrevenue - (netincome + netloss)\n",
    "        return totalexpense  \n",
    "    \n",
    "    def calc_totalassets(cash,inventory,accountsreceivable):\n",
    "        totalassets = cash + inventory + accountsreceivable\n",
    "        return totalassets\n",
    "    \n",
    "    def calc_totalliabilities(debt,accruedexpense,accountspayable):\n",
    "        totalliabilities = debt + accruedexpense + accountspayable\n",
    "        return totalliabilities"
   ]
  },
  {
   "cell_type": "code",
   "execution_count": 70,
   "id": "0c580346-afba-45ae-bb59-35b855304693",
   "metadata": {},
   "outputs": [
    {
     "ename": "SyntaxError",
     "evalue": "invalid syntax (3676963949.py, line 1)",
     "output_type": "error",
     "traceback": [
      "\u001b[0;36m  Cell \u001b[0;32mIn[70], line 1\u001b[0;36m\u001b[0m\n\u001b[0;31m    Malibu.\u001b[0m\n\u001b[0m           ^\u001b[0m\n\u001b[0;31mSyntaxError\u001b[0m\u001b[0;31m:\u001b[0m invalid syntax\n"
     ]
    }
   ],
   "source": [
    "Malibu."
   ]
  },
  {
   "cell_type": "markdown",
   "id": "30231859-0d9a-4eb0-a156-00a543bfa0b1",
   "metadata": {},
   "source": [
    "## Inheritance in Meta classes"
   ]
  },
  {
   "cell_type": "code",
   "execution_count": 71,
   "id": "242777b8-0719-441b-a5fb-da6f01ae58b2",
   "metadata": {},
   "outputs": [],
   "source": [
    "\n",
    "class California(metaclass = IncomeStatementMetaClass):\n",
    "    profit = 4354365\n",
    "    loss = 43000\n",
    "    def calc_revenue(quantity,unitsales_price):\n",
    "        totalrevenue = quantity * unitsaleprice \n",
    "        return totalrevenue\n",
    "    \n",
    "    def calc_expense(totalrevenue,netincome, netloss):\n",
    "        totalexpense = totalrevenue - (netincome + netloss)\n",
    "        return totalexpense "
   ]
  },
  {
   "cell_type": "code",
   "execution_count": 72,
   "id": "52b2e717-2ac9-4bc6-8374-62cabe2016de",
   "metadata": {},
   "outputs": [
    {
     "ename": "TypeError",
     "evalue": "metaclass conflict: the metaclass of a derived class must be a (non-strict) subclass of the metaclasses of all its bases",
     "output_type": "error",
     "traceback": [
      "\u001b[0;31m---------------------------------------------------------------------------\u001b[0m",
      "\u001b[0;31mTypeError\u001b[0m                                 Traceback (most recent call last)",
      "Cell \u001b[0;32mIn[72], line 1\u001b[0m\n\u001b[0;32m----> 1\u001b[0m \u001b[38;5;28;43;01mclass\u001b[39;49;00m\u001b[43m \u001b[49m\u001b[38;5;21;43;01mPasadena\u001b[39;49;00m\u001b[43m(\u001b[49m\u001b[43mCalifornia\u001b[49m\u001b[43m,\u001b[49m\u001b[43mmetaclass\u001b[49m\u001b[43m \u001b[49m\u001b[38;5;241;43m=\u001b[39;49m\u001b[43m \u001b[49m\u001b[43mBalanceSheetMetaClass\u001b[49m\u001b[43m)\u001b[49m\u001b[43m:\u001b[49m\n\u001b[1;32m      2\u001b[0m \u001b[43m    \u001b[49m\u001b[43massets\u001b[49m\u001b[43m \u001b[49m\u001b[38;5;241;43m=\u001b[39;49m\u001b[43m \u001b[49m\u001b[38;5;241;43m18000\u001b[39;49m\n\u001b[1;32m      3\u001b[0m \u001b[43m    \u001b[49m\u001b[43mliabilities\u001b[49m\u001b[43m \u001b[49m\u001b[38;5;241;43m=\u001b[39;49m\u001b[43m \u001b[49m\u001b[38;5;241;43m5000\u001b[39;49m\n",
      "\u001b[0;31mTypeError\u001b[0m: metaclass conflict: the metaclass of a derived class must be a (non-strict) subclass of the metaclasses of all its bases"
     ]
    }
   ],
   "source": [
    "class Pasadena(California,metaclass = BalanceSheetMetaClass):\n",
    "    assets = 18000\n",
    "    liabilities = 5000\n",
    "    def calc_totalassets(cash,inventory,accountsreceivable):\n",
    "        totalassets = cash + inventory + accountsreceivable\n",
    "        return totalassets\n",
    "    \n",
    "    def calc_totalliabilities(debt,accruedexpense,accountspayable):\n",
    "        totalliabilities = debt + accruedexpense + accountspayable\n",
    "        return totalliabilities"
   ]
  },
  {
   "cell_type": "code",
   "execution_count": 73,
   "id": "13d4606e-16ed-4fff-86a3-a4c17472db23",
   "metadata": {},
   "outputs": [],
   "source": [
    "class BalanceSheetMetaClass(IncomeStatementMetaClass):\n",
    "    def __new__(classitself, classname, baseclasses, attributes):\n",
    "        \n",
    "        newattributes = {}\n",
    "        for attribute, value in attributes.items():\n",
    "            if attribute.startswith(\"__\"):\n",
    "                newattributes[attribute] = value\n",
    "            elif (\"assets\" in attribute) or \\\n",
    "            (\"liabilities\" in attribute) or \\\n",
    "            (\"goodwill\" in attribute) or \\\n",
    "            (\"cash\" in attribute):\n",
    "                newattributes['BalanceSheet_' + attribute.title()] = value\n",
    "            else:\n",
    "                newattributes[attribute] = value\n",
    "        return type.__new__(classitself, classname, baseclasses, newattributes)"
   ]
  },
  {
   "cell_type": "code",
   "execution_count": 74,
   "id": "1674ff2a-cb09-401f-9293-0e739a7100ed",
   "metadata": {},
   "outputs": [],
   "source": [
    "class California(metaclass = IncomeStatementMetaClass):\n",
    "    profit = 4354365\n",
    "    loss = 43000\n",
    "    def calc_revenue(quantity,unitsales_price):\n",
    "        totalrevenue = quantity * unitsaleprice \n",
    "        return totalrevenue\n",
    "    \n",
    "    def calc_expense(totalrevenue,netincome, netloss):\n",
    "        totalexpense = totalrevenue - (netincome + netloss)\n",
    "        return totalexpense  "
   ]
  },
  {
   "cell_type": "code",
   "execution_count": 75,
   "id": "f3dbae94-2652-4ecd-a36a-e789b95b1fbe",
   "metadata": {},
   "outputs": [],
   "source": [
    "class Pasadena(California,metaclass = BalanceSheetMetaClass):\n",
    "    assets = 18000\n",
    "    liabilities = 5000\n",
    "    def calc_totalassets(cash,inventory,accountsreceivable):\n",
    "        totalassets = cash + inventory + accountsreceivable\n",
    "        return totalassets\n",
    "    \n",
    "    def calc_totalliabilities(debt,accruedexpense,accountspayable):\n",
    "        totalliabilities = debt + accruedexpense + accountspayable\n",
    "        return totalliabilities"
   ]
  },
  {
   "cell_type": "markdown",
   "id": "d81dd4a7-a355-4d0a-87c6-dc4ea1b6c09e",
   "metadata": {},
   "source": [
    "## Manipulating Class Variable"
   ]
  },
  {
   "cell_type": "code",
   "execution_count": 76,
   "id": "5fe45af5-e728-4b11-95fb-2aa9af95c56e",
   "metadata": {},
   "outputs": [],
   "source": [
    "class SchemaMetaClass(type):\n",
    "    def __new__(classitself, classname, baseclasses, attributes):\n",
    "        \n",
    "        newattributes = {}\n",
    "        for attribute, value in attributes.items():\n",
    "            if attribute.startswith(\"__\"):\n",
    "                newattributes[attribute] = value\n",
    "            elif type(value)==int or type(value)==float:\n",
    "                newattributes[attribute] = {}\n",
    "                newattributes[attribute]['ColumnName'] = attribute.title()\n",
    "                newattributes[attribute]['Value'] = value\n",
    "                newattributes[attribute]['Type'] = 'NUMERIC'\n",
    "                newattributes[attribute]['Length'] = len(str(value))\n",
    "            elif type(value)==str:\n",
    "                newattributes[attribute] = {}\n",
    "                newattributes[attribute]['ColumnName'] = attribute.title()\n",
    "                newattributes[attribute]['Value'] = value\n",
    "                newattributes[attribute]['Type'] = 'VARCHAR'\n",
    "                newattributes[attribute]['Length'] = len(value)\n",
    "            elif type(value)==bool:\n",
    "                newattributes[attribute] = {}\n",
    "                newattributes[attribute]['ColumnName'] = attribute.title()\n",
    "                newattributes[attribute]['Value'] = value\n",
    "                newattributes[attribute]['Type'] = 'BOOLEAN'\n",
    "                newattributes[attribute]['Length'] = None\n",
    "            else:\n",
    "                newattributes[attribute] = value                \n",
    "        return type.__new__(classitself, classname, baseclasses, newattributes)"
   ]
  },
  {
   "cell_type": "code",
   "execution_count": 77,
   "id": "9eb0c574-d0ea-418f-bd5f-0e267899d65a",
   "metadata": {},
   "outputs": [],
   "source": [
    "class Arizona():\n",
    "    product_id = 200443\n",
    "    product_name = 'Iphone'\n",
    "    product_category = 'Electronics'\n",
    "    sales_quantity = 2\n",
    "    tax_rate = 0.05\n",
    "    sales_price = 1200\n",
    "    profit = 70\n",
    "    loss = 0\n",
    "    sales_margin = 0.1\n",
    "    promotion = '20%Off'\n",
    "    promotion_reason = 'New Year'  \n",
    "    in_stock = True\n",
    "    \n",
    "    def create_schema(self):\n",
    "        import pandas as pd\n",
    "        tableschema = pd.DataFrame([self.product_id,\n",
    "                                     self.product_name,\n",
    "                                     self.product_category,\n",
    "                                     self.sales_quantity,\n",
    "                                     self.tax_rate,\n",
    "                                     self.sales_price,\n",
    "                                     self.profit,\n",
    "                                     self.loss,\n",
    "                                     self.sales_margin,\n",
    "                                     self.promotion,\n",
    "                                     self.promotion_reason,\n",
    "                                     self.in_stock])\n",
    "        tableschema.drop(labels = ['Value'], axis = 1, inplace = True)\n",
    "        return tableschema "
   ]
  },
  {
   "cell_type": "code",
   "execution_count": 78,
   "id": "a24b15eb-595b-4a2d-b693-6e3ecee18374",
   "metadata": {},
   "outputs": [],
   "source": [
    "objarizona = Arizona()"
   ]
  },
  {
   "cell_type": "code",
   "execution_count": 79,
   "id": "5767bd59-6760-4a5e-8cbf-9f2537b189e4",
   "metadata": {},
   "outputs": [
    {
     "data": {
      "text/plain": [
       "'Iphone'"
      ]
     },
     "execution_count": 79,
     "metadata": {},
     "output_type": "execute_result"
    }
   ],
   "source": [
    "objarizona.product_name"
   ]
  },
  {
   "cell_type": "code",
   "execution_count": 80,
   "id": "e78de75e-6332-4406-aff2-495dc639c6b6",
   "metadata": {},
   "outputs": [],
   "source": [
    "class Arizona(metaclass = SchemaMetaClass):\n",
    "    product_id = 200443\n",
    "    product_name = 'Iphone'\n",
    "    product_category = 'Electronics'\n",
    "    sales_quantity = 2\n",
    "    tax_rate = 0.05\n",
    "    sales_price = 1200\n",
    "    profit = 70\n",
    "    loss = 0\n",
    "    sales_margin = 0.1\n",
    "    promotion = '20%Off'\n",
    "    promotion_reason = 'New Year'  \n",
    "    in_stock = True\n",
    "    \n",
    "    def create_schema(self):\n",
    "        import pandas as pd\n",
    "        tableschema = pd.DataFrame([self.product_id,\n",
    "                                     self.product_name,\n",
    "                                     self.product_category,\n",
    "                                     self.sales_quantity,\n",
    "                                     self.tax_rate,\n",
    "                                     self.sales_price,\n",
    "                                     self.profit,\n",
    "                                     self.loss,\n",
    "                                     self.sales_margin,\n",
    "                                     self.promotion,\n",
    "                                     self.promotion_reason,\n",
    "                                     self.in_stock])\n",
    "        tableschema.drop(labels = ['Value'], axis = 1, inplace = True)\n",
    "        return tableschema "
   ]
  },
  {
   "cell_type": "code",
   "execution_count": 81,
   "id": "52bce20d-cf71-4f45-9770-01e9395fcc9e",
   "metadata": {},
   "outputs": [],
   "source": [
    "objarizona = Arizona()"
   ]
  },
  {
   "cell_type": "code",
   "execution_count": 82,
   "id": "d747366e-8821-4301-a6a3-2743ac8d7aa5",
   "metadata": {},
   "outputs": [
    {
     "data": {
      "text/plain": [
       "{'ColumnName': 'Product_Name',\n",
       " 'Value': 'Iphone',\n",
       " 'Type': 'VARCHAR',\n",
       " 'Length': 6}"
      ]
     },
     "execution_count": 82,
     "metadata": {},
     "output_type": "execute_result"
    }
   ],
   "source": [
    "objarizona.product_name"
   ]
  },
  {
   "cell_type": "code",
   "execution_count": 83,
   "id": "5af74e55-226e-4e11-b123-c7991d804e83",
   "metadata": {},
   "outputs": [
    {
     "data": {
      "text/plain": [
       "{'ColumnName': 'Product_Category',\n",
       " 'Value': 'Electronics',\n",
       " 'Type': 'VARCHAR',\n",
       " 'Length': 11}"
      ]
     },
     "execution_count": 83,
     "metadata": {},
     "output_type": "execute_result"
    }
   ],
   "source": [
    "objarizona.product_category"
   ]
  },
  {
   "cell_type": "code",
   "execution_count": 84,
   "id": "0ee3c7df-657d-4830-9aef-83f5be6400fc",
   "metadata": {},
   "outputs": [
    {
     "data": {
      "text/plain": [
       "{'ColumnName': 'Sales_Quantity', 'Value': 2, 'Type': 'NUMERIC', 'Length': 1}"
      ]
     },
     "execution_count": 84,
     "metadata": {},
     "output_type": "execute_result"
    }
   ],
   "source": [
    "objarizona.sales_quantity"
   ]
  },
  {
   "cell_type": "code",
   "execution_count": 85,
   "id": "38633168-6466-451a-9eef-3900460711f8",
   "metadata": {},
   "outputs": [
    {
     "data": {
      "text/html": [
       "<div>\n",
       "<style scoped>\n",
       "    .dataframe tbody tr th:only-of-type {\n",
       "        vertical-align: middle;\n",
       "    }\n",
       "\n",
       "    .dataframe tbody tr th {\n",
       "        vertical-align: top;\n",
       "    }\n",
       "\n",
       "    .dataframe thead th {\n",
       "        text-align: right;\n",
       "    }\n",
       "</style>\n",
       "<table border=\"1\" class=\"dataframe\">\n",
       "  <thead>\n",
       "    <tr style=\"text-align: right;\">\n",
       "      <th></th>\n",
       "      <th>ColumnName</th>\n",
       "      <th>Type</th>\n",
       "      <th>Length</th>\n",
       "    </tr>\n",
       "  </thead>\n",
       "  <tbody>\n",
       "    <tr>\n",
       "      <th>0</th>\n",
       "      <td>Product_Id</td>\n",
       "      <td>NUMERIC</td>\n",
       "      <td>6.0</td>\n",
       "    </tr>\n",
       "    <tr>\n",
       "      <th>1</th>\n",
       "      <td>Product_Name</td>\n",
       "      <td>VARCHAR</td>\n",
       "      <td>6.0</td>\n",
       "    </tr>\n",
       "    <tr>\n",
       "      <th>2</th>\n",
       "      <td>Product_Category</td>\n",
       "      <td>VARCHAR</td>\n",
       "      <td>11.0</td>\n",
       "    </tr>\n",
       "    <tr>\n",
       "      <th>3</th>\n",
       "      <td>Sales_Quantity</td>\n",
       "      <td>NUMERIC</td>\n",
       "      <td>1.0</td>\n",
       "    </tr>\n",
       "    <tr>\n",
       "      <th>4</th>\n",
       "      <td>Tax_Rate</td>\n",
       "      <td>NUMERIC</td>\n",
       "      <td>4.0</td>\n",
       "    </tr>\n",
       "    <tr>\n",
       "      <th>5</th>\n",
       "      <td>Sales_Price</td>\n",
       "      <td>NUMERIC</td>\n",
       "      <td>4.0</td>\n",
       "    </tr>\n",
       "    <tr>\n",
       "      <th>6</th>\n",
       "      <td>Profit</td>\n",
       "      <td>NUMERIC</td>\n",
       "      <td>2.0</td>\n",
       "    </tr>\n",
       "    <tr>\n",
       "      <th>7</th>\n",
       "      <td>Loss</td>\n",
       "      <td>NUMERIC</td>\n",
       "      <td>1.0</td>\n",
       "    </tr>\n",
       "    <tr>\n",
       "      <th>8</th>\n",
       "      <td>Sales_Margin</td>\n",
       "      <td>NUMERIC</td>\n",
       "      <td>3.0</td>\n",
       "    </tr>\n",
       "    <tr>\n",
       "      <th>9</th>\n",
       "      <td>Promotion</td>\n",
       "      <td>VARCHAR</td>\n",
       "      <td>6.0</td>\n",
       "    </tr>\n",
       "    <tr>\n",
       "      <th>10</th>\n",
       "      <td>Promotion_Reason</td>\n",
       "      <td>VARCHAR</td>\n",
       "      <td>8.0</td>\n",
       "    </tr>\n",
       "    <tr>\n",
       "      <th>11</th>\n",
       "      <td>In_Stock</td>\n",
       "      <td>BOOLEAN</td>\n",
       "      <td>NaN</td>\n",
       "    </tr>\n",
       "  </tbody>\n",
       "</table>\n",
       "</div>"
      ],
      "text/plain": [
       "          ColumnName     Type  Length\n",
       "0         Product_Id  NUMERIC     6.0\n",
       "1       Product_Name  VARCHAR     6.0\n",
       "2   Product_Category  VARCHAR    11.0\n",
       "3     Sales_Quantity  NUMERIC     1.0\n",
       "4           Tax_Rate  NUMERIC     4.0\n",
       "5        Sales_Price  NUMERIC     4.0\n",
       "6             Profit  NUMERIC     2.0\n",
       "7               Loss  NUMERIC     1.0\n",
       "8       Sales_Margin  NUMERIC     3.0\n",
       "9          Promotion  VARCHAR     6.0\n",
       "10  Promotion_Reason  VARCHAR     8.0\n",
       "11          In_Stock  BOOLEAN     NaN"
      ]
     },
     "execution_count": 85,
     "metadata": {},
     "output_type": "execute_result"
    }
   ],
   "source": [
    "objarizona.create_schema()"
   ]
  },
  {
   "cell_type": "code",
   "execution_count": null,
   "id": "fb373ed0-8c85-4cff-a4f0-6bfd73b6b829",
   "metadata": {},
   "outputs": [],
   "source": []
  }
 ],
 "metadata": {
  "kernelspec": {
   "display_name": "Python 3 (ipykernel)",
   "language": "python",
   "name": "python3"
  },
  "language_info": {
   "codemirror_mode": {
    "name": "ipython",
    "version": 3
   },
   "file_extension": ".py",
   "mimetype": "text/x-python",
   "name": "python",
   "nbconvert_exporter": "python",
   "pygments_lexer": "ipython3",
   "version": "3.11.9"
  }
 },
 "nbformat": 4,
 "nbformat_minor": 5
}
