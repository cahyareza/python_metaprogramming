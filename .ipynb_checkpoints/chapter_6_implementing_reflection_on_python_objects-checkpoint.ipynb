{
 "cells": [
  {
   "cell_type": "markdown",
   "id": "762628e0-0c61-4a76-988e-770e73dda339",
   "metadata": {},
   "source": [
    "# Usage of id to delete duplicates"
   ]
  },
  {
   "cell_type": "code",
   "execution_count": 1,
   "id": "d8e36560-be87-4692-a2d2-d47423d2a0ff",
   "metadata": {},
   "outputs": [],
   "source": [
    "class Coupon:\n",
    "    def __init__(self,product_name,product_category,brand,source,expiry_date,quantity):\n",
    "        self.product_name = product_name\n",
    "        self.product_category = product_category\n",
    "        self.brand = brand\n",
    "        self.source = source\n",
    "        self.expiry_date = expiry_date\n",
    "        self.quantity = quantity\n",
    "        \n",
    "    def generate_coupon(self):\n",
    "        import random\n",
    "        couponId =  random.sample(range(1,9),5)\n",
    "        for i in couponId:\n",
    "            print('***********------------------**************')\n",
    "            print('Product:', self.product_name)\n",
    "            print('Product Category:', self.product_category)\n",
    "            print('Coupon ID:', i)\n",
    "            print('Brand:', self.brand)\n",
    "            print('Source:', self.source)\n",
    "            print('Expiry Date:', self.expiry_date)\n",
    "            print('Quantity:', self.quantity)\n",
    "            print('***********------------------**************')"
   ]
  },
  {
   "cell_type": "code",
   "execution_count": 2,
   "id": "2d9ccc20-ce07-4937-9b1d-37356d58cd51",
   "metadata": {},
   "outputs": [],
   "source": [
    "Coupon1 = Coupon"
   ]
  },
  {
   "cell_type": "code",
   "execution_count": 3,
   "id": "9e167d2a-cfd6-4f95-a461-9546c415789f",
   "metadata": {},
   "outputs": [
    {
     "data": {
      "text/plain": [
       "4422514208"
      ]
     },
     "execution_count": 3,
     "metadata": {},
     "output_type": "execute_result"
    }
   ],
   "source": [
    "id(Coupon)"
   ]
  },
  {
   "cell_type": "code",
   "execution_count": 4,
   "id": "33d9a4bd-6a23-4bbe-92c4-f1cf0239f5e1",
   "metadata": {},
   "outputs": [
    {
     "data": {
      "text/plain": [
       "4422514208"
      ]
     },
     "execution_count": 4,
     "metadata": {},
     "output_type": "execute_result"
    }
   ],
   "source": [
    "id(Coupon1)"
   ]
  },
  {
   "cell_type": "code",
   "execution_count": 5,
   "id": "f935fcc4-e516-44c9-b377-6505b3a13821",
   "metadata": {},
   "outputs": [
    {
     "name": "stdout",
     "output_type": "stream",
     "text": [
      "***********------------------**************\n",
      "Product: Potato Chips\n",
      "Product Category: Snacks\n",
      "Coupon ID: 4\n",
      "Brand: ABCBrand1\n",
      "Source: Manhattan Store\n",
      "Expiry Date: 10/1/2021\n",
      "Quantity: 2\n",
      "***********------------------**************\n",
      "***********------------------**************\n",
      "Product: Potato Chips\n",
      "Product Category: Snacks\n",
      "Coupon ID: 1\n",
      "Brand: ABCBrand1\n",
      "Source: Manhattan Store\n",
      "Expiry Date: 10/1/2021\n",
      "Quantity: 2\n",
      "***********------------------**************\n",
      "***********------------------**************\n",
      "Product: Potato Chips\n",
      "Product Category: Snacks\n",
      "Coupon ID: 2\n",
      "Brand: ABCBrand1\n",
      "Source: Manhattan Store\n",
      "Expiry Date: 10/1/2021\n",
      "Quantity: 2\n",
      "***********------------------**************\n",
      "***********------------------**************\n",
      "Product: Potato Chips\n",
      "Product Category: Snacks\n",
      "Coupon ID: 6\n",
      "Brand: ABCBrand1\n",
      "Source: Manhattan Store\n",
      "Expiry Date: 10/1/2021\n",
      "Quantity: 2\n",
      "***********------------------**************\n",
      "***********------------------**************\n",
      "Product: Potato Chips\n",
      "Product Category: Snacks\n",
      "Coupon ID: 7\n",
      "Brand: ABCBrand1\n",
      "Source: Manhattan Store\n",
      "Expiry Date: 10/1/2021\n",
      "Quantity: 2\n",
      "***********------------------**************\n"
     ]
    }
   ],
   "source": [
    "Coupon(\"Potato Chips\",\"Snacks\",\"ABCBrand1\",\"Manhattan Store\",\"10/1/2021\",2).generate_coupon()"
   ]
  },
  {
   "cell_type": "code",
   "execution_count": 6,
   "id": "0dbe1cf5-3c81-4d18-ad49-7c0e8ca8d617",
   "metadata": {},
   "outputs": [
    {
     "name": "stdout",
     "output_type": "stream",
     "text": [
      "***********------------------**************\n",
      "Product: Potato Chips\n",
      "Product Category: Snacks\n",
      "Coupon ID: 7\n",
      "Brand: ABCBrand1\n",
      "Source: Manhattan Store\n",
      "Expiry Date: 10/1/2021\n",
      "Quantity: 2\n",
      "***********------------------**************\n",
      "***********------------------**************\n",
      "Product: Potato Chips\n",
      "Product Category: Snacks\n",
      "Coupon ID: 1\n",
      "Brand: ABCBrand1\n",
      "Source: Manhattan Store\n",
      "Expiry Date: 10/1/2021\n",
      "Quantity: 2\n",
      "***********------------------**************\n",
      "***********------------------**************\n",
      "Product: Potato Chips\n",
      "Product Category: Snacks\n",
      "Coupon ID: 3\n",
      "Brand: ABCBrand1\n",
      "Source: Manhattan Store\n",
      "Expiry Date: 10/1/2021\n",
      "Quantity: 2\n",
      "***********------------------**************\n",
      "***********------------------**************\n",
      "Product: Potato Chips\n",
      "Product Category: Snacks\n",
      "Coupon ID: 5\n",
      "Brand: ABCBrand1\n",
      "Source: Manhattan Store\n",
      "Expiry Date: 10/1/2021\n",
      "Quantity: 2\n",
      "***********------------------**************\n",
      "***********------------------**************\n",
      "Product: Potato Chips\n",
      "Product Category: Snacks\n",
      "Coupon ID: 2\n",
      "Brand: ABCBrand1\n",
      "Source: Manhattan Store\n",
      "Expiry Date: 10/1/2021\n",
      "Quantity: 2\n",
      "***********------------------**************\n"
     ]
    }
   ],
   "source": [
    "Coupon1(\"Potato Chips\",\"Snacks\",\"ABCBrand1\",\"Manhattan Store\",\"10/1/2021\",2).generate_coupon()"
   ]
  },
  {
   "cell_type": "code",
   "execution_count": 7,
   "id": "d087dbe6-230c-4658-a630-056148f3a8dc",
   "metadata": {},
   "outputs": [],
   "source": [
    "def delete_duplicates(directory = dir()):\n",
    "    class_id_count = {}\n",
    "    duplicates = []\n",
    "    ids = []\n",
    "    classes = []\n",
    "    classnames = []\n",
    "    for obj in directory:\n",
    "        if type(eval(obj)) == type:\n",
    "            ids.append(id(eval(obj)))\n",
    "            classes.append(eval(obj))\n",
    "            classnames.append(obj)\n",
    "\n",
    "    for i in ids:\n",
    "        if i not in class_id_count:\n",
    "            class_id_count[i] = 1\n",
    "        elif (class_id_count[i] == 1):\n",
    "            duplicates.append(i)\n",
    "            class_id_count[i] += 1\n",
    "\n",
    "    dupe_set = {}\n",
    "    for cls,clsname in zip(classes,classnames):\n",
    "        for clsid in duplicates:\n",
    "            if (id(cls)==clsid):\n",
    "                print(clsname,cls)\n",
    "                dupe_set[clsname] = str(cls).split('.')[1].rstrip(\"'>'\")\n",
    "\n",
    "    for key,value in dupe_set.items():\n",
    "        if (key!=value):\n",
    "            del globals()[key]"
   ]
  },
  {
   "cell_type": "code",
   "execution_count": 8,
   "id": "e5df9bb3-d657-4611-84fd-62d0acb6b91f",
   "metadata": {},
   "outputs": [
    {
     "name": "stdout",
     "output_type": "stream",
     "text": [
      "Coupon <class '__main__.Coupon'>\n",
      "Coupon1 <class '__main__.Coupon'>\n"
     ]
    }
   ],
   "source": [
    "delete_duplicates(directory = dir())"
   ]
  },
  {
   "cell_type": "code",
   "execution_count": 9,
   "id": "728d2788-9d11-4e86-978f-572926dfe0f1",
   "metadata": {},
   "outputs": [
    {
     "data": {
      "text/plain": [
       "__main__.Coupon"
      ]
     },
     "execution_count": 9,
     "metadata": {},
     "output_type": "execute_result"
    }
   ],
   "source": [
    "Coupon"
   ]
  },
  {
   "cell_type": "code",
   "execution_count": 10,
   "id": "f5e494e0-fb30-4a7b-a2cd-6cda20e9d73e",
   "metadata": {},
   "outputs": [
    {
     "ename": "NameError",
     "evalue": "name 'Coupon1' is not defined",
     "output_type": "error",
     "traceback": [
      "\u001b[0;31m---------------------------------------------------------------------------\u001b[0m",
      "\u001b[0;31mNameError\u001b[0m                                 Traceback (most recent call last)",
      "Cell \u001b[0;32mIn[10], line 1\u001b[0m\n\u001b[0;32m----> 1\u001b[0m \u001b[43mCoupon1\u001b[49m\n",
      "\u001b[0;31mNameError\u001b[0m: name 'Coupon1' is not defined"
     ]
    }
   ],
   "source": [
    "Coupon1"
   ]
  },
  {
   "cell_type": "markdown",
   "id": "dfc14ed0-9d41-4e4e-99c3-6a33d5526ec9",
   "metadata": {},
   "source": [
    "# Use callable to dynamically check and generate methods"
   ]
  },
  {
   "cell_type": "code",
   "execution_count": 11,
   "id": "7a1f06c1-a2cd-499a-8cb0-7b131718e4db",
   "metadata": {},
   "outputs": [],
   "source": [
    "class SimpleCoupon:\n",
    "    pass"
   ]
  },
  {
   "cell_type": "code",
   "execution_count": 12,
   "id": "23129f1c-3e03-48d4-9e2e-ad3590251c4c",
   "metadata": {},
   "outputs": [
    {
     "data": {
      "text/plain": [
       "True"
      ]
     },
     "execution_count": 12,
     "metadata": {},
     "output_type": "execute_result"
    }
   ],
   "source": [
    "callable(SimpleCoupon)"
   ]
  },
  {
   "cell_type": "code",
   "execution_count": 13,
   "id": "def86f4b-b8cc-4edf-93ed-f96d18318087",
   "metadata": {},
   "outputs": [],
   "source": [
    "def create_coupon(product, product_category, brand, source, expiry_date, quantity):\n",
    "\n",
    "    def generate_coupon(product, product_category, brand, source, expiry_date, quantity):\n",
    "        import random\n",
    "        couponId =  random.sample(range(100000000000,900000000000),3)\n",
    "        for i in couponId:\n",
    "            print('***********------------------**************')\n",
    "            print('Product:', product)\n",
    "            print('Product Category:', product_category)\n",
    "            print('Coupon ID:', i)\n",
    "            print('Brand:', brand)\n",
    "            print('Source:', source)\n",
    "            print('Expiry Date:', expiry_date)\n",
    "            print('Quantity:', quantity)\n",
    "            print('***********------------------**************')\n",
    "\n",
    "    return generate_coupon"
   ]
  },
  {
   "cell_type": "code",
   "execution_count": 14,
   "id": "6a97246c-bc3c-46ca-a6a8-39060c42c7c6",
   "metadata": {},
   "outputs": [],
   "source": [
    "if callable(SimpleCoupon):\n",
    "    # Class-Level Attribute\n",
    "    SimpleCoupon.coupon_details = {\"product\": \"Honey Mustard Sauce\",\n",
    "                                   \"product_category\": \"Condiments\",\n",
    "                                   \"brand\": \"ABCBrand3\",\n",
    "                                   \"source\": \"Pasadena Store\",\n",
    "                                   \"expiry_date\": \"10/1/2021\",\n",
    "                                   \"quantity\": 2}"
   ]
  },
  {
   "cell_type": "code",
   "execution_count": 15,
   "id": "de18760f-6385-40f5-b9c0-ce4378e3b0be",
   "metadata": {},
   "outputs": [],
   "source": [
    "if callable(SimpleCoupon):\n",
    "    SimpleCoupon.generate_coupon = create_coupon(SimpleCoupon.coupon_details['product'], SimpleCoupon.coupon_details['product_category'],\n",
    "                                                SimpleCoupon.coupon_details['brand'], SimpleCoupon.coupon_details['source'],\n",
    "                                                SimpleCoupon.coupon_details['expiry_date'], SimpleCoupon.coupon_details['quantity'])"
   ]
  },
  {
   "cell_type": "code",
   "execution_count": 16,
   "id": "68261c7c-1c8a-4082-b655-8ad9a6a8df1f",
   "metadata": {},
   "outputs": [
    {
     "name": "stdout",
     "output_type": "stream",
     "text": [
      "***********------------------**************\n",
      "Product: Honey Mustard Sauce\n",
      "Product Category: Condiments\n",
      "Coupon ID: 591061453005\n",
      "Brand: ABCBrand3\n",
      "Source: Pasadena Store\n",
      "Expiry Date: 10/1/2021\n",
      "Quantity: 2\n",
      "***********------------------**************\n",
      "***********------------------**************\n",
      "Product: Honey Mustard Sauce\n",
      "Product Category: Condiments\n",
      "Coupon ID: 513391933463\n",
      "Brand: ABCBrand3\n",
      "Source: Pasadena Store\n",
      "Expiry Date: 10/1/2021\n",
      "Quantity: 2\n",
      "***********------------------**************\n",
      "***********------------------**************\n",
      "Product: Honey Mustard Sauce\n",
      "Product Category: Condiments\n",
      "Coupon ID: 502784162238\n",
      "Brand: ABCBrand3\n",
      "Source: Pasadena Store\n",
      "Expiry Date: 10/1/2021\n",
      "Quantity: 2\n",
      "***********------------------**************\n"
     ]
    }
   ],
   "source": [
    "SimpleCoupon.generate_coupon(SimpleCoupon.coupon_details['product'],SimpleCoupon.coupon_details['product_category'],\n",
    "                             SimpleCoupon.coupon_details['brand'],SimpleCoupon.coupon_details['source'],\n",
    "                             SimpleCoupon.coupon_details['expiry_date'],SimpleCoupon.coupon_details['quantity'])"
   ]
  },
  {
   "cell_type": "markdown",
   "id": "60106e34-ef10-4977-87c2-51895cc0398b",
   "metadata": {},
   "source": [
    "# Use Hasattr to set values"
   ]
  },
  {
   "cell_type": "code",
   "execution_count": 17,
   "id": "fb7ecd4f-54cc-471a-a755-a010bafdd660",
   "metadata": {},
   "outputs": [],
   "source": [
    "class CustomCoupon:\n",
    "    product_name = \"Honey Mustard Sauce\"\n",
    "    product_category = \"Condiments\"\n",
    "    brand = \"ABCBrand3\"\n",
    "    source = \"Store\"\n",
    "    expiry_date = \"10/1/2021\"\n",
    "    quantity = 10\n",
    "    manufacturer = None\n",
    "    store = None\n",
    "    \n",
    "    def generate_coupon(self):\n",
    "        import random\n",
    "        couponId =  random.sample(range(100000000000,900000000000),1)\n",
    "        for i in couponId:\n",
    "            print('***********------------------**************')\n",
    "            print('Product:', self.product_name)\n",
    "            print('Product Category:', self.product_category)\n",
    "            print('Coupon ID:', i)\n",
    "            print('Brand:', self.brand)\n",
    "            print('Source:', self.source)\n",
    "            print('Expiry Date:', self.expiry_date)\n",
    "            print('Quantity:', self.quantity)\n",
    "            if(self.manufacturer is not None):\n",
    "                print('Manufacturer:', self.manufacturer)\n",
    "            elif(self.store is not None):\n",
    "                print('Store:', self.store)\n",
    "            print('***********------------------**************')"
   ]
  },
  {
   "cell_type": "code",
   "execution_count": 18,
   "id": "062acc29-b9aa-428a-88d4-aebd55614c08",
   "metadata": {},
   "outputs": [],
   "source": [
    "coupon = CustomCoupon()"
   ]
  },
  {
   "cell_type": "code",
   "execution_count": 19,
   "id": "95d36251-6daa-433d-a230-1579ea50ca48",
   "metadata": {},
   "outputs": [
    {
     "name": "stdout",
     "output_type": "stream",
     "text": [
      "Store\n"
     ]
    }
   ],
   "source": [
    "if hasattr(coupon,'source'):\n",
    "    print(getattr(coupon,'source'))"
   ]
  },
  {
   "cell_type": "code",
   "execution_count": 20,
   "id": "f6c7948f-f9b2-4156-b35a-c34778cd9acb",
   "metadata": {},
   "outputs": [
    {
     "name": "stdout",
     "output_type": "stream",
     "text": [
      "***********------------------**************\n",
      "Product: Honey Mustard Sauce\n",
      "Product Category: Condiments\n",
      "Coupon ID: 862978320899\n",
      "Brand: ABCBrand3\n",
      "Source: Store\n",
      "Expiry Date: 10/1/2021\n",
      "Quantity: 10\n",
      "***********------------------**************\n"
     ]
    }
   ],
   "source": [
    "coupon.generate_coupon()"
   ]
  },
  {
   "cell_type": "code",
   "execution_count": 21,
   "id": "e684bc75-dc9a-4ea3-9776-746909153e96",
   "metadata": {},
   "outputs": [],
   "source": [
    "def check_attribute(couponobj,store,manufacturer):\n",
    "    if hasattr(couponobj,'source'):\n",
    "        if(str(getattr(couponobj,'source')) == 'Store'):\n",
    "            setattr(couponobj,'store',store)\n",
    "        else:\n",
    "            setattr(couponobj,'store', None)\n",
    "        if(str(getattr(couponobj,'source')) == 'Manufacturer'):\n",
    "            setattr(couponobj,'manufacturer',manufacturer)\n",
    "        else:\n",
    "            setattr(couponobj,'manufacturer', None)  "
   ]
  },
  {
   "cell_type": "code",
   "execution_count": 22,
   "id": "3c739987-18a8-427b-b928-16c057b63244",
   "metadata": {},
   "outputs": [
    {
     "data": {
      "text/plain": [
       "'Store'"
      ]
     },
     "execution_count": 22,
     "metadata": {},
     "output_type": "execute_result"
    }
   ],
   "source": [
    "coupon.source"
   ]
  },
  {
   "cell_type": "code",
   "execution_count": 23,
   "id": "1700285b-7633-4b35-aa6e-006c5b29996b",
   "metadata": {},
   "outputs": [],
   "source": [
    "check_attribute(coupon,\"Brooklyn Store\", \"XYZ Manufacturer\")"
   ]
  },
  {
   "cell_type": "code",
   "execution_count": 24,
   "id": "aec9a345-f7dd-48b5-84bc-b1bdb008ee60",
   "metadata": {},
   "outputs": [
    {
     "name": "stdout",
     "output_type": "stream",
     "text": [
      "***********------------------**************\n",
      "Product: Honey Mustard Sauce\n",
      "Product Category: Condiments\n",
      "Coupon ID: 852291647174\n",
      "Brand: ABCBrand3\n",
      "Source: Store\n",
      "Expiry Date: 10/1/2021\n",
      "Quantity: 10\n",
      "Store: Brooklyn Store\n",
      "***********------------------**************\n"
     ]
    }
   ],
   "source": [
    "coupon.generate_coupon()"
   ]
  },
  {
   "cell_type": "code",
   "execution_count": 25,
   "id": "0769ef46-a3b6-4706-a8e8-019ec4ee0385",
   "metadata": {},
   "outputs": [],
   "source": [
    "coupon.source = 'Manufacturer'\n",
    "check_attribute(coupon,\"Brooklyn Store\", \"XYZ Manufacturer\")"
   ]
  },
  {
   "cell_type": "code",
   "execution_count": 26,
   "id": "b51a5d41-56c4-4c18-82aa-9021882e75a2",
   "metadata": {},
   "outputs": [
    {
     "data": {
      "text/plain": [
       "'XYZ Manufacturer'"
      ]
     },
     "execution_count": 26,
     "metadata": {},
     "output_type": "execute_result"
    }
   ],
   "source": [
    "coupon.manufacturer"
   ]
  },
  {
   "cell_type": "code",
   "execution_count": 27,
   "id": "ad246d89-282a-47df-acd2-c37100eac0b6",
   "metadata": {},
   "outputs": [],
   "source": [
    "coupon.store"
   ]
  },
  {
   "cell_type": "code",
   "execution_count": 28,
   "id": "d7bdeaee-30c1-4346-8f82-d85b568b4959",
   "metadata": {},
   "outputs": [
    {
     "name": "stdout",
     "output_type": "stream",
     "text": [
      "***********------------------**************\n",
      "Product: Honey Mustard Sauce\n",
      "Product Category: Condiments\n",
      "Coupon ID: 585137902992\n",
      "Brand: ABCBrand3\n",
      "Source: Manufacturer\n",
      "Expiry Date: 10/1/2021\n",
      "Quantity: 10\n",
      "Manufacturer: XYZ Manufacturer\n",
      "***********------------------**************\n"
     ]
    }
   ],
   "source": [
    "coupon.generate_coupon()"
   ]
  },
  {
   "cell_type": "markdown",
   "id": "cc29d592-0f54-4b33-bbda-007a89ebf7d0",
   "metadata": {},
   "source": [
    "# Use isinstance to modify an object"
   ]
  },
  {
   "cell_type": "code",
   "execution_count": 29,
   "id": "ca867467-167d-4705-9e24-46c914f7b9f2",
   "metadata": {},
   "outputs": [],
   "source": [
    "coupon1 = CustomCoupon()"
   ]
  },
  {
   "cell_type": "code",
   "execution_count": 30,
   "id": "70fe5b6f-1346-41aa-989d-f89281997d20",
   "metadata": {},
   "outputs": [],
   "source": [
    "class SimpleCoupon:\n",
    "    product_name = \"Strawberry Ice Cream\"\n",
    "    product_category = \"Desserts\"\n",
    "    brand = \"ABCBrand3\"\n",
    "    store = \"Los Angeles Store\"\n",
    "    expiry_date = \"10/1/2021\"\n",
    "    quantity = 10"
   ]
  },
  {
   "cell_type": "code",
   "execution_count": 31,
   "id": "2925d808-29b4-4595-bff0-509273bf43b9",
   "metadata": {},
   "outputs": [],
   "source": [
    "coupon2 = SimpleCoupon()"
   ]
  },
  {
   "cell_type": "code",
   "execution_count": 32,
   "id": "716e47c6-244f-4a9b-8f62-63b36ba8c6fd",
   "metadata": {},
   "outputs": [
    {
     "data": {
      "text/plain": [
       "True"
      ]
     },
     "execution_count": 32,
     "metadata": {},
     "output_type": "execute_result"
    }
   ],
   "source": [
    "isinstance(coupon1,CustomCoupon)"
   ]
  },
  {
   "cell_type": "code",
   "execution_count": 33,
   "id": "39d0210c-c7c6-4a1a-8906-0e37a6942441",
   "metadata": {},
   "outputs": [
    {
     "data": {
      "text/plain": [
       "True"
      ]
     },
     "execution_count": 33,
     "metadata": {},
     "output_type": "execute_result"
    }
   ],
   "source": [
    "isinstance(coupon2,SimpleCoupon)"
   ]
  },
  {
   "cell_type": "code",
   "execution_count": 34,
   "id": "827aace3-82f0-4f6a-9a67-975f854725c7",
   "metadata": {},
   "outputs": [],
   "source": [
    "def check_instance(couponobject,couponclass,store,manufacturer):\n",
    "    if isinstance(couponobject,couponclass):\n",
    "        if hasattr(couponobject,'source'):\n",
    "            if(str(getattr(couponobject,'source')) == 'Store'):\n",
    "                setattr(couponobject,'store',store)\n",
    "            else:\n",
    "                setattr(couponobject,'store',None)\n",
    "            if(str(getattr(couponobject,'source')) == 'Manufacturer'):\n",
    "                setattr(couponobject,'manufacturer',manufacturer)\n",
    "            else:\n",
    "                setattr(couponobject,'manufacturer',None)\n",
    "    else:\n",
    "        print(couponobject,'cannot be customized')"
   ]
  },
  {
   "cell_type": "code",
   "execution_count": 35,
   "id": "50230801-6718-4e0d-bf58-c2b1c3b3ce4a",
   "metadata": {},
   "outputs": [],
   "source": [
    "check_instance(coupon1,CustomCoupon,'Malibu Beach Store','XYZ Manufacturer')"
   ]
  },
  {
   "cell_type": "code",
   "execution_count": 36,
   "id": "ee0cac22-fd39-4fae-88a2-0944ed91f59a",
   "metadata": {},
   "outputs": [
    {
     "data": {
      "text/plain": [
       "'Malibu Beach Store'"
      ]
     },
     "execution_count": 36,
     "metadata": {},
     "output_type": "execute_result"
    }
   ],
   "source": [
    "coupon1.store"
   ]
  },
  {
   "cell_type": "code",
   "execution_count": 37,
   "id": "30faf70c-d301-498b-9558-20697271e92c",
   "metadata": {},
   "outputs": [
    {
     "name": "stdout",
     "output_type": "stream",
     "text": [
      "***********------------------**************\n",
      "Product: Honey Mustard Sauce\n",
      "Product Category: Condiments\n",
      "Coupon ID: 498514112033\n",
      "Brand: ABCBrand3\n",
      "Source: Store\n",
      "Expiry Date: 10/1/2021\n",
      "Quantity: 10\n",
      "Store: Malibu Beach Store\n",
      "***********------------------**************\n"
     ]
    }
   ],
   "source": [
    "coupon1.generate_coupon()"
   ]
  },
  {
   "cell_type": "code",
   "execution_count": 38,
   "id": "fbfd62d8-1c3d-4192-9f8a-a7dc06d8f666",
   "metadata": {},
   "outputs": [
    {
     "name": "stdout",
     "output_type": "stream",
     "text": [
      "<__main__.SimpleCoupon object at 0x107beba50> cannot be customized\n"
     ]
    }
   ],
   "source": [
    "check_instance(coupon2,CustomCoupon,'Malibu Beach Store','XYZ Manufacturer')"
   ]
  },
  {
   "cell_type": "markdown",
   "id": "2860c5cd-44cd-4f3d-a751-3e2e1b42e6b7",
   "metadata": {},
   "source": [
    "# Use issubclass to modify a class"
   ]
  },
  {
   "cell_type": "code",
   "execution_count": 39,
   "id": "b74be382-9953-4494-be71-a5fdc3c728b9",
   "metadata": {},
   "outputs": [],
   "source": [
    "class StoreCoupon:\n",
    "    product_name = \"Strawberry Ice Cream\"\n",
    "    product_category = \"Desserts\"\n",
    "    brand = \"ABCBrand3\"\n",
    "    store = \"Los Angeles Store\"\n",
    "    expiry_date = \"10/1/2021\"\n",
    "    quantity = 10"
   ]
  },
  {
   "cell_type": "code",
   "execution_count": 40,
   "id": "9e810c22-79cc-4b30-9ded-873362a2d626",
   "metadata": {},
   "outputs": [],
   "source": [
    "def create_store_coupon(product_name, product_category, brand, store, expiry_date, quantity):\n",
    "\n",
    "    def generate_store_coupon(product_name, product_category, brand, store, expiry_date, quantity):\n",
    "        import random\n",
    "        couponId =  random.sample(range(100000000000,900000000000),1)\n",
    "        for i in couponId:\n",
    "            print('***********------------------**************')\n",
    "            print('Product:', product_name)\n",
    "            print('Product Category:', product_category)\n",
    "            print('Coupon ID:', i)\n",
    "            print('Brand:', brand)\n",
    "            print('Store:', store)\n",
    "            print('Expiry Date:', expiry_date)\n",
    "            print('Quantity:', quantity)\n",
    "            print('***********------------------**************')\n",
    "\n",
    "    return generate_store_coupon"
   ]
  },
  {
   "cell_type": "code",
   "execution_count": 41,
   "id": "bf22e721-594c-4cd8-81de-31c86f70352d",
   "metadata": {},
   "outputs": [],
   "source": [
    "class ManufacturerCoupon:\n",
    "    product_name = \"Strawberry Ice Cream\"\n",
    "    product_category = \"Desserts\"\n",
    "    brand = \"ABCBrand3\"\n",
    "    manufacturer = \"ABC Manufacturer\"\n",
    "    expiry_date = \"10/1/2021\"\n",
    "    quantity = 10"
   ]
  },
  {
   "cell_type": "code",
   "execution_count": 42,
   "id": "81b4024a-f5aa-49cf-9110-c04b093e6630",
   "metadata": {},
   "outputs": [],
   "source": [
    "def create_manufacturer_coupon(product_name, product_category, brand, manufacturer, expiry_date, quantity):\n",
    "\n",
    "    def generate_manufacturer_coupon(product_name, product_category, brand, manufacturer, expiry_date, quantity):\n",
    "        import random\n",
    "        couponId =  random.sample(range(100000000000,900000000000),1)\n",
    "        for i in couponId:\n",
    "            print('***********------------------**************')\n",
    "            print('Product:', product_name)\n",
    "            print('Product Category:', product_category)\n",
    "            print('Coupon ID:', i)\n",
    "            print('Brand:', brand)\n",
    "            print('Manufacturer:', manufacturer)\n",
    "            print('Expiry Date:', expiry_date)\n",
    "            print('Quantity:', quantity)\n",
    "            print('***********------------------**************')\n",
    "\n",
    "    return generate_manufacturer_coupon"
   ]
  },
  {
   "cell_type": "code",
   "execution_count": 43,
   "id": "eb76b194-675e-4817-a3f0-b18bd5461085",
   "metadata": {},
   "outputs": [],
   "source": [
    "class IceCreamCoupon(StoreCoupon):\n",
    "    pass"
   ]
  },
  {
   "cell_type": "code",
   "execution_count": 44,
   "id": "11d04583-1f51-47a3-8ae9-0eaea2cf18c9",
   "metadata": {},
   "outputs": [],
   "source": [
    "def check_parent():\n",
    "    if issubclass(IceCreamCoupon, StoreCoupon):\n",
    "        IceCreamCoupon.generate_store_coupon = create_store_coupon(IceCreamCoupon.product_name, \n",
    "                                                                   IceCreamCoupon.product_category,\n",
    "                                                                   IceCreamCoupon.brand, IceCreamCoupon.store,\n",
    "                                                                   IceCreamCoupon.expiry_date, IceCreamCoupon.quantity)\n",
    "    elif issubclass(IceCreamCoupon, ManufacturerCoupon):\n",
    "        IceCreamCoupon.generate_manufacturer_coupon = create_manufacturer_coupon(IceCreamCoupon.product_name, \n",
    "                                                                                 IceCreamCoupon.product_category,\n",
    "                                                                                 IceCreamCoupon.brand, \n",
    "                                                                                 IceCreamCoupon.manufacturer,\n",
    "                                                                                 IceCreamCoupon.expiry_date, \n",
    "                                                                                 IceCreamCoupon.quantity)"
   ]
  },
  {
   "cell_type": "code",
   "execution_count": 45,
   "id": "e4998498-2de5-4b06-b196-d6d8c6f7b4e3",
   "metadata": {},
   "outputs": [],
   "source": [
    "check_parent()"
   ]
  },
  {
   "cell_type": "code",
   "execution_count": 46,
   "id": "70690a21-fc8c-4f92-beb9-b4eeb1154e5f",
   "metadata": {},
   "outputs": [
    {
     "name": "stdout",
     "output_type": "stream",
     "text": [
      "***********------------------**************\n",
      "Product: Strawberry Ice Cream\n",
      "Product Category: Desserts\n",
      "Coupon ID: 647645730815\n",
      "Brand: ABCBrand3\n",
      "Store: Los Angeles Store\n",
      "Expiry Date: 10/1/2021\n",
      "Quantity: 10\n",
      "***********------------------**************\n"
     ]
    }
   ],
   "source": [
    "IceCreamCoupon.generate_store_coupon(IceCreamCoupon.product_name, IceCreamCoupon.product_category,\n",
    "                                     IceCreamCoupon.brand,IceCreamCoupon.store,\n",
    "                                     IceCreamCoupon.expiry_date,IceCreamCoupon.quantity)"
   ]
  },
  {
   "cell_type": "code",
   "execution_count": 47,
   "id": "66df9111-4ee6-4822-a666-5f7b5a9ef03b",
   "metadata": {},
   "outputs": [],
   "source": [
    "class IceCreamCoupon(ManufacturerCoupon):\n",
    "    pass"
   ]
  },
  {
   "cell_type": "code",
   "execution_count": 48,
   "id": "3ead7aac-4f88-49f8-b576-0f19ac1564e4",
   "metadata": {},
   "outputs": [],
   "source": [
    "check_parent()"
   ]
  },
  {
   "cell_type": "code",
   "execution_count": 49,
   "id": "795ab4f4-fc71-432e-b004-1e1e32a832c0",
   "metadata": {},
   "outputs": [
    {
     "name": "stdout",
     "output_type": "stream",
     "text": [
      "***********------------------**************\n",
      "Product: Strawberry Ice Cream\n",
      "Product Category: Desserts\n",
      "Coupon ID: 848222449161\n",
      "Brand: ABCBrand3\n",
      "Manufacturer: ABC Manufacturer\n",
      "Expiry Date: 10/1/2021\n",
      "Quantity: 10\n",
      "***********------------------**************\n"
     ]
    }
   ],
   "source": [
    "IceCreamCoupon.generate_manufacturer_coupon(IceCreamCoupon.product_name,IceCreamCoupon.product_category,\n",
    "                                            IceCreamCoupon.brand,IceCreamCoupon.manufacturer,\n",
    "                                            IceCreamCoupon.expiry_date,IceCreamCoupon.quantity)"
   ]
  },
  {
   "cell_type": "markdown",
   "id": "408cef1d-bda3-4a9c-936f-dc4a9745cbdb",
   "metadata": {},
   "source": [
    "# Applying property on a class"
   ]
  },
  {
   "cell_type": "code",
   "execution_count": 51,
   "id": "a21a04cb-8ae3-4004-bbe0-39ea0bd65ef1",
   "metadata": {},
   "outputs": [],
   "source": [
    "class CouponwithProperty:\n",
    "    def __init__(self):\n",
    "        self._coupon_details = None\n",
    "    \n",
    "    @property\n",
    "    def coupon_details(self):\n",
    "        return self.coupon_details\n",
    "    \n",
    "    @coupon_details.getter\n",
    "    def coupon_details(self):\n",
    "        print(\"get coupon_details\")\n",
    "        return self._coupon_details\n",
    "\n",
    "    @coupon_details.setter\n",
    "    def coupon_details(self, coupon):\n",
    "        print(\"set coupon_details\")\n",
    "        self._coupon_details = coupon\n",
    "\n",
    "    @coupon_details.deleter\n",
    "    def coupon_details(self):\n",
    "        print(\"Sorry this attribute cannot be deleted\")"
   ]
  },
  {
   "cell_type": "code",
   "execution_count": 52,
   "id": "9703f4f2-175c-4821-a21d-7de38dca6b30",
   "metadata": {},
   "outputs": [],
   "source": [
    "fmcgCoupon = CouponwithProperty()"
   ]
  },
  {
   "cell_type": "code",
   "execution_count": 53,
   "id": "c16190e7-a329-4051-9abe-98c295214ac8",
   "metadata": {},
   "outputs": [
    {
     "name": "stdout",
     "output_type": "stream",
     "text": [
      "get coupon_details\n"
     ]
    }
   ],
   "source": [
    "fmcgCoupon.coupon_details"
   ]
  },
  {
   "cell_type": "code",
   "execution_count": 54,
   "id": "5a62de90-27a5-49eb-ab48-0565474f0db4",
   "metadata": {},
   "outputs": [
    {
     "name": "stdout",
     "output_type": "stream",
     "text": [
      "set coupon_details\n"
     ]
    }
   ],
   "source": [
    "fmcgCoupon.coupon_details = {\n",
    "        'Product': 'Strawberry Ice Cream',\n",
    "        'Product Category': 'Desserts',\n",
    "        'Coupon ID': 190537749828,\n",
    "        'Brand': 'ABCBrand3',\n",
    "        'Manufacturer': 'ABCBrand3',\n",
    "        'Expiry Date': 'ABC Manufacturer',\n",
    "        'Quantity': '10/1/2021'\n",
    "        }"
   ]
  },
  {
   "cell_type": "code",
   "execution_count": 55,
   "id": "528bba63-3405-4531-b9e9-6c9b2e4091ba",
   "metadata": {},
   "outputs": [
    {
     "name": "stdout",
     "output_type": "stream",
     "text": [
      "get coupon_details\n"
     ]
    },
    {
     "data": {
      "text/plain": [
       "{'Product': 'Strawberry Ice Cream',\n",
       " 'Product Category': 'Desserts',\n",
       " 'Coupon ID': 190537749828,\n",
       " 'Brand': 'ABCBrand3',\n",
       " 'Manufacturer': 'ABCBrand3',\n",
       " 'Expiry Date': 'ABC Manufacturer',\n",
       " 'Quantity': '10/1/2021'}"
      ]
     },
     "execution_count": 55,
     "metadata": {},
     "output_type": "execute_result"
    }
   ],
   "source": [
    "fmcgCoupon.coupon_details"
   ]
  },
  {
   "cell_type": "code",
   "execution_count": 56,
   "id": "b3565745-2acd-497b-bfe9-a52c8d9f60ad",
   "metadata": {},
   "outputs": [
    {
     "name": "stdout",
     "output_type": "stream",
     "text": [
      "Sorry this attribute cannot be deleted\n"
     ]
    }
   ],
   "source": [
    "del fmcgCoupon.coupon_details"
   ]
  },
  {
   "cell_type": "code",
   "execution_count": 57,
   "id": "2e7e2685-f6ba-4ce3-b7b0-c548b4ade539",
   "metadata": {},
   "outputs": [
    {
     "name": "stdout",
     "output_type": "stream",
     "text": [
      "get coupon_details\n"
     ]
    },
    {
     "data": {
      "text/plain": [
       "{'Product': 'Strawberry Ice Cream',\n",
       " 'Product Category': 'Desserts',\n",
       " 'Coupon ID': 190537749828,\n",
       " 'Brand': 'ABCBrand3',\n",
       " 'Manufacturer': 'ABCBrand3',\n",
       " 'Expiry Date': 'ABC Manufacturer',\n",
       " 'Quantity': '10/1/2021'}"
      ]
     },
     "execution_count": 57,
     "metadata": {},
     "output_type": "execute_result"
    }
   ],
   "source": [
    "fmcgCoupon.coupon_details"
   ]
  },
  {
   "cell_type": "code",
   "execution_count": null,
   "id": "014d24f3-4c92-4ee2-85d2-8da161626199",
   "metadata": {},
   "outputs": [],
   "source": []
  }
 ],
 "metadata": {
  "kernelspec": {
   "display_name": "Python 3 (ipykernel)",
   "language": "python",
   "name": "python3"
  },
  "language_info": {
   "codemirror_mode": {
    "name": "ipython",
    "version": 3
   },
   "file_extension": ".py",
   "mimetype": "text/x-python",
   "name": "python",
   "nbconvert_exporter": "python",
   "pygments_lexer": "ipython3",
   "version": "3.11.9"
  }
 },
 "nbformat": 4,
 "nbformat_minor": 5
}
