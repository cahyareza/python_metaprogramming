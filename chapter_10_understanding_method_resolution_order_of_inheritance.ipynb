{
 "cells": [
  {
   "cell_type": "markdown",
   "id": "58a8c4f3-f4e0-41f8-9a7f-130980b105fc",
   "metadata": {},
   "source": [
    "# Understanding Code through Abstract Syntax Tree"
   ]
  },
  {
   "cell_type": "code",
   "execution_count": 1,
   "id": "00765b2b-18a7-4167-8bb9-abce9d425bb9",
   "metadata": {},
   "outputs": [],
   "source": [
    "class Branch:\n",
    "    def __init__(self, branch_id, branch_street, branch_city, branch_state, branch_zip, product, sales, invoice):\n",
    "       \n",
    "        self.branch_id = branch_id\n",
    "        self.branch_street = branch_street\n",
    "        self.branch_city = branch_city\n",
    "        self.branch_state = branch_state\n",
    "        self.branch_zip = branch_zip\n",
    "        self.product = product\n",
    "        self.sales = sales\n",
    "        self.invoice = invoice\n",
    "        \n",
    "    def get_product(self):\n",
    "        return self.product\n",
    "    \n",
    "    def get_sales(self):\n",
    "        return self.sales\n",
    "        \n",
    "    def get_invoice(self):\n",
    "        return self.invoice"
   ]
  },
  {
   "cell_type": "code",
   "execution_count": 2,
   "id": "fc3c216f-43d9-4422-a079-9edc1e8fe043",
   "metadata": {},
   "outputs": [
    {
     "data": {
      "text/plain": [
       "[__main__.Branch, object]"
      ]
     },
     "execution_count": 2,
     "metadata": {},
     "output_type": "execute_result"
    }
   ],
   "source": [
    "Branch.mro()"
   ]
  },
  {
   "cell_type": "markdown",
   "id": "cf12a948-ac9c-4183-b4f7-80044d29b4a8",
   "metadata": {},
   "source": [
    "# Understanding MRO in Single inheritance"
   ]
  },
  {
   "cell_type": "code",
   "execution_count": 3,
   "id": "da095a31-b7ac-4bfe-b6bd-48d875db166e",
   "metadata": {},
   "outputs": [],
   "source": [
    "class Branch:\n",
    "\n",
    "    def __init__(self, branch, sales, product):\n",
    "        self.branch = branch\n",
    "        self.sales = sales\n",
    "        self.product = product\n",
    "    \n",
    "    def set_branch(self, value):\n",
    "        self.branch = value\n",
    "            \n",
    "    def set_sales(self, value):\n",
    "        self.sales = value\n",
    "            \n",
    "    def set_product(self, value):\n",
    "        self.product = value\n",
    "        \n",
    "    def calc_tax(self):\n",
    "        branch = self.branch\n",
    "        product = self.product\n",
    "        sales = self.sales\n",
    "        pricebeforetax = sales['purchase_price'] + sales['purchase_price'] * sales['profit_margin']\n",
    "        finalselling_price = pricebeforetax + (pricebeforetax * sales['tax_rate'])\n",
    "        sales['selling_price'] = finalselling_price\n",
    "        return branch, product, sales"
   ]
  },
  {
   "cell_type": "code",
   "execution_count": 4,
   "id": "b20e4c08-926f-4633-a7b4-3eab9055ead9",
   "metadata": {},
   "outputs": [],
   "source": [
    "class NYC(Branch):\n",
    "    def __init__(self, intercitybranch):\n",
    "        self.intercitybranch = intercitybranch\n",
    "        \n",
    "    def set_management(self, value):\n",
    "        self.intercitybranch = value\n",
    "            \n",
    "    def calc_tax_nyc(self):\n",
    "        branch = self.branch\n",
    "        intercitybranch = self.intercitybranch\n",
    "        product = self.product\n",
    "        sales = self.sales\n",
    "        pricebeforetax = sales['purchase_price'] + sales['purchase_price'] * sales['profit_margin']\n",
    "        finalselling_price = pricebeforetax + (pricebeforetax * (sales['tax_rate'] + sales['local_rate']))  \n",
    "        sales['selling_price'] = finalselling_price\n",
    "        return branch, intercitybranch, product, sales "
   ]
  },
  {
   "cell_type": "code",
   "execution_count": 5,
   "id": "eef38d24-5650-4b43-91db-d603bdbf6922",
   "metadata": {},
   "outputs": [
    {
     "data": {
      "text/plain": [
       "[__main__.NYC, __main__.Branch, object]"
      ]
     },
     "execution_count": 5,
     "metadata": {},
     "output_type": "execute_result"
    }
   ],
   "source": [
    "NYC.mro()"
   ]
  },
  {
   "cell_type": "code",
   "execution_count": 6,
   "id": "3d9c1ce3-b5db-4e60-bdca-4b0f2899f10c",
   "metadata": {},
   "outputs": [],
   "source": [
    "branch = {'branch_id' : 2021,\n",
    "'branch_street' : '40097 5th Main Street',\n",
    "'branchBorough' : 'Manhattan',                                                 \n",
    "'branch_city' : 'New York City',\n",
    "'branch_state' : 'New York',\n",
    "'branch_zip' : 11007}\n",
    "\n",
    "product = {'product_id' : 100002,\n",
    "    'product_name' : 'WashingMachine',\n",
    "    'productBrand' : 'Whirlpool'  \n",
    "}\n",
    "\n",
    "sales = {\n",
    "    'purchase_price' : 450,\n",
    "    'profit_margin' : 0.19,\n",
    "    'tax_rate' : 0.4,\n",
    "    'local_rate' : 0.055      \n",
    "}\n",
    "\n",
    "intercitybranch = {\n",
    "    \n",
    "}"
   ]
  },
  {
   "cell_type": "code",
   "execution_count": 7,
   "id": "f4786f89-0945-4723-8df9-c469a75e3b87",
   "metadata": {},
   "outputs": [],
   "source": [
    "branch_manhattan = NYC(intercitybranch)"
   ]
  },
  {
   "cell_type": "code",
   "execution_count": 8,
   "id": "e91bb65f-e3a2-40df-bfd1-1d1182c5fba5",
   "metadata": {},
   "outputs": [],
   "source": [
    "branch_manhattan.set_management({'regionalManager' : 'John M',\n",
    "    'branchManager' : 'Tom H',\n",
    "    'subbranch_id' : '2021-01' })"
   ]
  },
  {
   "cell_type": "code",
   "execution_count": 9,
   "id": "811f5e1e-3738-4187-ba28-d1ea89ae7446",
   "metadata": {},
   "outputs": [],
   "source": [
    "branch_manhattan.set_branch(branch)"
   ]
  },
  {
   "cell_type": "code",
   "execution_count": 10,
   "id": "90cd8222-d51b-4dc8-96ea-5ce59cc57950",
   "metadata": {},
   "outputs": [],
   "source": [
    "branch_manhattan.set_product(product)"
   ]
  },
  {
   "cell_type": "code",
   "execution_count": 11,
   "id": "21c57974-94a3-45bc-9aed-332fd3598018",
   "metadata": {},
   "outputs": [],
   "source": [
    "branch_manhattan.set_sales(sales)"
   ]
  },
  {
   "cell_type": "code",
   "execution_count": 12,
   "id": "d7c1edd5-dbb2-4b1b-a231-3d5742bdf8da",
   "metadata": {},
   "outputs": [
    {
     "data": {
      "text/plain": [
       "({'branch_id': 2021,\n",
       "  'branch_street': '40097 5th Main Street',\n",
       "  'branchBorough': 'Manhattan',\n",
       "  'branch_city': 'New York City',\n",
       "  'branch_state': 'New York',\n",
       "  'branch_zip': 11007},\n",
       " {'regionalManager': 'John M',\n",
       "  'branchManager': 'Tom H',\n",
       "  'subbranch_id': '2021-01'},\n",
       " {'product_id': 100002,\n",
       "  'product_name': 'WashingMachine',\n",
       "  'productBrand': 'Whirlpool'},\n",
       " {'purchase_price': 450,\n",
       "  'profit_margin': 0.19,\n",
       "  'tax_rate': 0.4,\n",
       "  'local_rate': 0.055,\n",
       "  'selling_price': 779.1525})"
      ]
     },
     "execution_count": 12,
     "metadata": {},
     "output_type": "execute_result"
    }
   ],
   "source": [
    "branch_manhattan.calc_tax_nyc()"
   ]
  },
  {
   "cell_type": "markdown",
   "id": "e8c2d11b-6b50-49ec-90b1-5bb2308af561",
   "metadata": {},
   "source": [
    "# Understanding MRO in Multiple inheritance"
   ]
  },
  {
   "cell_type": "code",
   "execution_count": 13,
   "id": "45a8238f-922f-42cb-af96-e1df2ab03f20",
   "metadata": {},
   "outputs": [],
   "source": [
    "class Product:\n",
    "    _product_id = 100902\n",
    "    _product_name = 'Iphone X'\n",
    "    _product_category = 'Electronics'\n",
    "    _unit_price = 700\n",
    "    \n",
    "    def get_product(self):\n",
    "        return self._product_id, self._product_name, self._product_category, self._unit_price\n",
    "\n",
    "class Branch:\n",
    "    _branch_id = 2021\n",
    "    _branch_street = '40097 5th Main Street'\n",
    "    _branch_borough = 'Manhattan'\n",
    "    _branch_city = 'New York City'\n",
    "    _branch_state = 'New York'\n",
    "    _branch_zip = 11007\n",
    "    \n",
    "    def get_branch(self):\n",
    "        return self._branch_id, self._branch_street, self._branch_borough, self._branch_city, self._branch_state, self._branch_zip"
   ]
  },
  {
   "cell_type": "code",
   "execution_count": 14,
   "id": "1e8141d2-8ad7-4a94-bcba-7e432b2b3203",
   "metadata": {},
   "outputs": [],
   "source": [
    "class Sales(Product, Branch):\n",
    "    date = '08/02/2021'\n",
    "    def get_sales(self):\n",
    "        return self.date, Product.get_product(self), Branch.get_branch(self)"
   ]
  },
  {
   "cell_type": "code",
   "execution_count": 15,
   "id": "14bb17d9-0bb9-418b-aef2-3408eac6ff39",
   "metadata": {},
   "outputs": [
    {
     "data": {
      "text/plain": [
       "[__main__.Sales, __main__.Product, __main__.Branch, object]"
      ]
     },
     "execution_count": 15,
     "metadata": {},
     "output_type": "execute_result"
    }
   ],
   "source": [
    "Sales.mro()"
   ]
  },
  {
   "cell_type": "code",
   "execution_count": 16,
   "id": "65d6fd31-f0f1-4d6c-b20b-b11c4d8efbeb",
   "metadata": {},
   "outputs": [],
   "source": [
    "class Invoice(Branch, Product):\n",
    "    date = '08/02/2021'\n",
    "    def get_invoice(self):\n",
    "        return self.date, Branch.get_branch(self), Product.get_product(self)"
   ]
  },
  {
   "cell_type": "code",
   "execution_count": 17,
   "id": "2137da2e-3433-4454-8e61-d0c9374b0315",
   "metadata": {},
   "outputs": [
    {
     "data": {
      "text/plain": [
       "[__main__.Invoice, __main__.Branch, __main__.Product, object]"
      ]
     },
     "execution_count": 17,
     "metadata": {},
     "output_type": "execute_result"
    }
   ],
   "source": [
    "Invoice.mro()"
   ]
  },
  {
   "cell_type": "markdown",
   "id": "42e24b3e-fd68-478c-acd7-69527848d4d6",
   "metadata": {},
   "source": [
    "# Reviewing MRO in Multilevel inheritance"
   ]
  },
  {
   "cell_type": "code",
   "execution_count": 18,
   "id": "52a92ccf-c3cd-4a01-a28b-e22c67ab6332",
   "metadata": {},
   "outputs": [],
   "source": [
    "class StoreCoupon:\n",
    "    product_name = \"Strawberry Ice Cream\"\n",
    "    product_category = \"Desserts\"\n",
    "    brand = \"ABCBrand3\"\n",
    "    store = \"Los Angeles Store\"\n",
    "    expiry_date = \"10/1/2021\"\n",
    "    quantity = 10\n",
    "    \n",
    "    def generate_coupon(self):\n",
    "        import random\n",
    "        coupon_id =  random.sample(range(100000000000,900000000000),2)\n",
    "        for i in coupon_id:\n",
    "            print('***********------------------**************')\n",
    "            print('Product:', self.product_name)\n",
    "            print('Product Category:', self.product_category)\n",
    "            print('Coupon ID:', i)\n",
    "            print('Brand:', self.brand)\n",
    "            print('Store:', self.store)\n",
    "            print('Expiry Date:', self.expiry_date)\n",
    "            print('Quantity:', self.quantity)\n",
    "            print('***********------------------**************')"
   ]
  },
  {
   "cell_type": "code",
   "execution_count": 19,
   "id": "1ae04aaa-d657-486c-95d0-7594d9dcb971",
   "metadata": {},
   "outputs": [],
   "source": [
    "class SendStoreCoupon(StoreCoupon):\n",
    "    pass"
   ]
  },
  {
   "cell_type": "code",
   "execution_count": 20,
   "id": "9d7efba8-731a-4182-94a1-9ddb0c9a0bf8",
   "metadata": {},
   "outputs": [
    {
     "data": {
      "text/plain": [
       "[__main__.SendStoreCoupon, __main__.StoreCoupon, object]"
      ]
     },
     "execution_count": 20,
     "metadata": {},
     "output_type": "execute_result"
    }
   ],
   "source": [
    "SendStoreCoupon.mro()"
   ]
  },
  {
   "cell_type": "code",
   "execution_count": 21,
   "id": "d2759ccf-445c-434a-9aba-52c6ec781112",
   "metadata": {},
   "outputs": [],
   "source": [
    "class SendCoupon(SendStoreCoupon):\n",
    "    pass"
   ]
  },
  {
   "cell_type": "code",
   "execution_count": 22,
   "id": "96168d8d-8d95-48aa-ac30-4e6f62deb583",
   "metadata": {},
   "outputs": [
    {
     "data": {
      "text/plain": [
       "[__main__.SendCoupon, __main__.SendStoreCoupon, __main__.StoreCoupon, object]"
      ]
     },
     "execution_count": 22,
     "metadata": {},
     "output_type": "execute_result"
    }
   ],
   "source": [
    "SendCoupon.mro()"
   ]
  },
  {
   "cell_type": "code",
   "execution_count": 23,
   "id": "f8b9939e-6dc3-4045-bae5-a13bb586e111",
   "metadata": {},
   "outputs": [],
   "source": [
    "coupon = SendCoupon()"
   ]
  },
  {
   "cell_type": "code",
   "execution_count": 24,
   "id": "b62b919f-e03e-4803-beed-c191b5e712bf",
   "metadata": {},
   "outputs": [
    {
     "name": "stdout",
     "output_type": "stream",
     "text": [
      "***********------------------**************\n",
      "Product: Strawberry Ice Cream\n",
      "Product Category: Desserts\n",
      "Coupon ID: 457926410188\n",
      "Brand: ABCBrand3\n",
      "Store: Los Angeles Store\n",
      "Expiry Date: 10/1/2021\n",
      "Quantity: 10\n",
      "***********------------------**************\n",
      "***********------------------**************\n",
      "Product: Strawberry Ice Cream\n",
      "Product Category: Desserts\n",
      "Coupon ID: 349227176809\n",
      "Brand: ABCBrand3\n",
      "Store: Los Angeles Store\n",
      "Expiry Date: 10/1/2021\n",
      "Quantity: 10\n",
      "***********------------------**************\n"
     ]
    }
   ],
   "source": [
    "coupon.generate_coupon()"
   ]
  },
  {
   "cell_type": "markdown",
   "id": "447d51ad-0c84-42c9-b333-475d83430dd2",
   "metadata": {},
   "source": [
    "# Impact of unintended change of order in inheritance"
   ]
  },
  {
   "cell_type": "code",
   "execution_count": 25,
   "id": "6d848b1a-22d2-4752-8d2e-a7b6dbf189c8",
   "metadata": {},
   "outputs": [],
   "source": [
    "class CommonCounter():\n",
    "    def __init__(self,items,name):\n",
    "        self.items = items\n",
    "        self.name = name\n",
    "        \n",
    "    def return_cart(self):\n",
    "        cartItems = self.items\n",
    "        return cartItems\n",
    "    \n",
    "    def goto_counter(self):\n",
    "        countername = self.name\n",
    "        return countername"
   ]
  },
  {
   "cell_type": "code",
   "execution_count": 26,
   "id": "220fff8a-29a9-43ce-88cb-0e4176d4967e",
   "metadata": {},
   "outputs": [
    {
     "data": {
      "text/plain": [
       "[__main__.CommonCounter, object]"
      ]
     },
     "execution_count": 26,
     "metadata": {},
     "output_type": "execute_result"
    }
   ],
   "source": [
    "CommonCounter.mro()"
   ]
  },
  {
   "cell_type": "code",
   "execution_count": 27,
   "id": "ab5214b1-b19e-4613-bc30-c250186530bb",
   "metadata": {},
   "outputs": [],
   "source": [
    "class CheckItems():\n",
    "    def __init__(self, item_type = None):\n",
    "        self.item_type = item_type\n",
    "    \n",
    "    def review_items(self, item_type = None):\n",
    "        veg_cart = ['Vegetables', 'Dairy', 'Fruits']\n",
    "        if (item_type == 'Electronics'):\n",
    "            print(\"Move to Electronics Counter\")\n",
    "        elif (item_type in veg_cart):        \n",
    "            print(\"Move to Vege Counter\")"
   ]
  },
  {
   "cell_type": "code",
   "execution_count": 28,
   "id": "c1e07ecb-93e6-4eca-9179-398a87d2e910",
   "metadata": {},
   "outputs": [
    {
     "data": {
      "text/plain": [
       "[__main__.CheckItems, object]"
      ]
     },
     "execution_count": 28,
     "metadata": {},
     "output_type": "execute_result"
    }
   ],
   "source": [
    "CheckItems.mro()"
   ]
  },
  {
   "cell_type": "code",
   "execution_count": 29,
   "id": "c823088c-4c9d-4162-ae42-8eb3a3cba5cb",
   "metadata": {},
   "outputs": [],
   "source": [
    "class ElectronicsCounter(CommonCounter,CheckItems):\n",
    "    def __init__(status = None):\n",
    "        self.status = status\n",
    "        \n",
    "    def test_electronics(self):\n",
    "        teststatus = []\n",
    "        for i in self.status:\n",
    "            teststatus.append(i)\n",
    "        return teststatus"
   ]
  },
  {
   "cell_type": "code",
   "execution_count": 30,
   "id": "f2c44fbb-6f6b-48df-af36-7c9cea994c3c",
   "metadata": {},
   "outputs": [
    {
     "data": {
      "text/plain": [
       "[__main__.ElectronicsCounter,\n",
       " __main__.CommonCounter,\n",
       " __main__.CheckItems,\n",
       " object]"
      ]
     },
     "execution_count": 30,
     "metadata": {},
     "output_type": "execute_result"
    }
   ],
   "source": [
    "ElectronicsCounter.mro()"
   ]
  },
  {
   "cell_type": "code",
   "execution_count": 31,
   "id": "407fcf13-339c-4bae-a659-fb71106da7d9",
   "metadata": {},
   "outputs": [],
   "source": [
    "class VegeCounter(CheckItems,CommonCounter):\n",
    "    def __init__(weights = None):\n",
    "        self.weights = weights\n",
    "        \n",
    "    def weigh_items(self):\n",
    "        item_weight = dict(zip(self.items, self.weights))\n",
    "        return item_weight"
   ]
  },
  {
   "cell_type": "code",
   "execution_count": 32,
   "id": "79fee1a8-20c3-47b9-aefc-9ea1d080cb3f",
   "metadata": {},
   "outputs": [
    {
     "data": {
      "text/plain": [
       "[__main__.VegeCounter, __main__.CheckItems, __main__.CommonCounter, object]"
      ]
     },
     "execution_count": 32,
     "metadata": {},
     "output_type": "execute_result"
    }
   ],
   "source": [
    "VegeCounter.mro()"
   ]
  },
  {
   "cell_type": "code",
   "execution_count": 33,
   "id": "3d8b138c-4344-4737-a685-f2275357aea0",
   "metadata": {},
   "outputs": [
    {
     "ename": "TypeError",
     "evalue": "Cannot create a consistent method resolution\norder (MRO) for bases CommonCounter, CheckItems",
     "output_type": "error",
     "traceback": [
      "\u001b[0;31m---------------------------------------------------------------------------\u001b[0m",
      "\u001b[0;31mTypeError\u001b[0m                                 Traceback (most recent call last)",
      "Cell \u001b[0;32mIn[33], line 1\u001b[0m\n\u001b[0;32m----> 1\u001b[0m \u001b[38;5;28;43;01mclass\u001b[39;49;00m\u001b[43m \u001b[49m\u001b[38;5;21;43;01mScanCode\u001b[39;49;00m\u001b[43m(\u001b[49m\u001b[43mElectronicsCounter\u001b[49m\u001b[43m,\u001b[49m\u001b[43mVegeCounter\u001b[49m\u001b[43m)\u001b[49m\u001b[43m:\u001b[49m\n\u001b[1;32m      2\u001b[0m \u001b[43m    \u001b[49m\u001b[38;5;28;43;01mpass\u001b[39;49;00m\n",
      "\u001b[0;31mTypeError\u001b[0m: Cannot create a consistent method resolution\norder (MRO) for bases CommonCounter, CheckItems"
     ]
    }
   ],
   "source": [
    "class ScanCode(ElectronicsCounter,VegeCounter):\n",
    "    pass"
   ]
  },
  {
   "cell_type": "code",
   "execution_count": 34,
   "id": "10d98feb-a247-4987-867f-73ff53dba2b4",
   "metadata": {},
   "outputs": [
    {
     "ename": "NameError",
     "evalue": "name 'ScanCode' is not defined",
     "output_type": "error",
     "traceback": [
      "\u001b[0;31m---------------------------------------------------------------------------\u001b[0m",
      "\u001b[0;31mNameError\u001b[0m                                 Traceback (most recent call last)",
      "Cell \u001b[0;32mIn[34], line 1\u001b[0m\n\u001b[0;32m----> 1\u001b[0m \u001b[43mScanCode\u001b[49m\u001b[38;5;241m.\u001b[39mmro()\n",
      "\u001b[0;31mNameError\u001b[0m: name 'ScanCode' is not defined"
     ]
    }
   ],
   "source": [
    "ScanCode.mro()"
   ]
  }
 ],
 "metadata": {
  "kernelspec": {
   "display_name": "Python 3 (ipykernel)",
   "language": "python",
   "name": "python3"
  },
  "language_info": {
   "codemirror_mode": {
    "name": "ipython",
    "version": 3
   },
   "file_extension": ".py",
   "mimetype": "text/x-python",
   "name": "python",
   "nbconvert_exporter": "python",
   "pygments_lexer": "ipython3",
   "version": "3.11.9"
  }
 },
 "nbformat": 4,
 "nbformat_minor": 5
}
