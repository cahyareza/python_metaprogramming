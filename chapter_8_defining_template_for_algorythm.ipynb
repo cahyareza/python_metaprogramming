{
 "cells": [
  {
   "cell_type": "markdown",
   "id": "43ee30bf-b52d-42fa-b471-6a04c945cc25",
   "metadata": {},
   "source": [
    "# Templates"
   ]
  },
  {
   "cell_type": "markdown",
   "id": "28466e63-ecf0-4ecf-9169-7d954c9509bb",
   "metadata": {},
   "source": [
    "## Vegetable counter - Definition"
   ]
  },
  {
   "cell_type": "code",
   "execution_count": 1,
   "id": "f9e1584c-b585-4bf1-be7a-5a19775078c6",
   "metadata": {},
   "outputs": [],
   "source": [
    "def return_cart(*items):\n",
    "    cart_items = []\n",
    "    for i in items:\n",
    "        cart_items.append(i)\n",
    "    return cart_items"
   ]
  },
  {
   "cell_type": "code",
   "execution_count": 2,
   "id": "083dd9ab-ea91-41a0-b95d-b9d17ef38b60",
   "metadata": {},
   "outputs": [],
   "source": [
    "def return_cart(*items):\n",
    "    return list(items)"
   ]
  },
  {
   "cell_type": "code",
   "execution_count": 3,
   "id": "d14d084b-22fa-4d4c-9c78-36aa130903bf",
   "metadata": {},
   "outputs": [
    {
     "data": {
      "text/plain": [
       "['onions', 'tomatoes', 'carrots', 'lettuce']"
      ]
     },
     "execution_count": 3,
     "metadata": {},
     "output_type": "execute_result"
    }
   ],
   "source": [
    "return_cart('onions','tomatoes','carrots','lettuce')"
   ]
  },
  {
   "cell_type": "code",
   "execution_count": 4,
   "id": "43790428-ee78-4b3a-ba9c-28b157769cbd",
   "metadata": {},
   "outputs": [],
   "source": [
    "class VegCounter():\n",
    "    def return_cart(self,*items):\n",
    "        cart_items = list(items)\n",
    "        return cart_items\n",
    "    \n",
    "    def goto_vege_counter(self):\n",
    "        return 'Vegetables & Dairy'\n",
    "    \n",
    "    def weigh_items(self,*weights,cart_items = None):\n",
    "        weight = list(weights)\n",
    "        item_weight = dict(zip(cart_items, weight))\n",
    "        return item_weight\n",
    "        \n",
    "    def add_price_tag(self,*units,weights = None):\n",
    "        pricetag = []\n",
    "        for item,price in zip(weights.items(),list(units)):\n",
    "            pricetag.append(item[1]*price)\n",
    "        return pricetag\n",
    "    \n",
    "    def scan_bar_code(self,*scan):\n",
    "        codes = list(scan)\n",
    "        return codes\n",
    "          \n",
    "    def add_billing(self,codes=None,pricetag=None):\n",
    "        self.codes = codes\n",
    "        self.pricetag = pricetag\n",
    "        bill = dict(zip(self.codes, self.pricetag))\n",
    "        return bill\n",
    "        \n",
    "    def add_tax(self,*tax):\n",
    "        taxed = list(tax)\n",
    "        return taxed\n",
    "    \n",
    "    def calc_bill(self,bill,taxes,cart_items):\n",
    "        items = []\n",
    "        calc_bill = []\n",
    "        for item,tax in zip(bill.items(),taxes):\n",
    "            items.append(item[1])\n",
    "            calc_bill.append(item[1] + item[1]*tax)\n",
    "        finalbill = dict(zip(cart_items, calc_bill))\n",
    "        return finalbill\n",
    "        \n",
    "    def print_invoice(self,finalbill):\n",
    "        final_total = sum(finalbill.values())\n",
    "        print('**************ABC Megamart*****************')\n",
    "        print('***********------------------**************')\n",
    "        print('Counter Name: ', self.goto_vege_counter())\n",
    "        for item,price in finalbill.items():\n",
    "            print(item,\": \", price)\n",
    "        print('Total:',final_total)\n",
    "        print('***********------------------**************')\n",
    "    \n",
    "    def receive_payment(self,finalbill):\n",
    "        final_total = sum(finalbill.values())\n",
    "        print('**************ABC Megamart*****************')\n",
    "        print('***********------------------**************')\n",
    "        print('Counter Name: ', self.goto_vege_counter())\n",
    "        for item,price in finalbill.items():\n",
    "            print(item,\": \", price)\n",
    "        print('Total:',final_total)\n",
    "        print('***********------------------**************')\n",
    "        print('***************PAID************************')"
   ]
  },
  {
   "cell_type": "code",
   "execution_count": 5,
   "id": "efd2b4ae-1c6e-426b-8bc8-ad89eddaf0ce",
   "metadata": {},
   "outputs": [],
   "source": [
    "veg = VegCounter()\n",
    "cart = veg.return_cart('onions','tomatoes','carrots','lettuce')\n",
    "item_weight = veg.weigh_items(1,2,1.5,2.5,cart_items = cart)\n",
    "pricetag = veg.add_price_tag(7,2,3,5,weights = item_weight)\n",
    "codes = veg.scan_bar_code(113323,3434332,2131243,2332783)\n",
    "bill = veg.add_billing(codes,pricetag)\n",
    "taxes = veg.add_tax(0.04,0.03,0.035,0.025)\n",
    "finalbill = veg.calc_bill(bill,taxes,cart)"
   ]
  },
  {
   "cell_type": "code",
   "execution_count": 6,
   "id": "22e7ca98-f276-4cbd-9e0b-8a6f4f3e1912",
   "metadata": {},
   "outputs": [
    {
     "name": "stdout",
     "output_type": "stream",
     "text": [
      "**************ABC Megamart*****************\n",
      "***********------------------**************\n",
      "Counter Name:  Vegetables & Dairy\n",
      "onions :  7.28\n",
      "tomatoes :  4.12\n",
      "carrots :  4.6575\n",
      "lettuce :  12.8125\n",
      "Total: 28.87\n",
      "***********------------------**************\n"
     ]
    }
   ],
   "source": [
    "veg.print_invoice(finalbill)"
   ]
  },
  {
   "cell_type": "code",
   "execution_count": 7,
   "id": "2032b21f-b61e-4260-bd4a-e22121fd1109",
   "metadata": {},
   "outputs": [
    {
     "name": "stdout",
     "output_type": "stream",
     "text": [
      "**************ABC Megamart*****************\n",
      "***********------------------**************\n",
      "Counter Name:  Vegetables & Dairy\n",
      "onions :  7.28\n",
      "tomatoes :  4.12\n",
      "carrots :  4.6575\n",
      "lettuce :  12.8125\n",
      "Total: 28.87\n",
      "***********------------------**************\n",
      "***************PAID************************\n"
     ]
    }
   ],
   "source": [
    "veg.receive_payment(finalbill)"
   ]
  },
  {
   "cell_type": "markdown",
   "id": "022390c9-3993-455c-bd41-81f00e01e3e8",
   "metadata": {},
   "source": [
    "## Less than 10 items counter"
   ]
  },
  {
   "cell_type": "code",
   "execution_count": 8,
   "id": "72890a50-8909-4ff8-bfea-a4080680786c",
   "metadata": {},
   "outputs": [],
   "source": [
    "class LessThan10Counter():\n",
    "    def return_cart(self,*items):\n",
    "        cart_items = list(items)\n",
    "        return cart_items\n",
    "    \n",
    "    def goto_less_t10_counter(self):\n",
    "        return 'Less than 10 counter'\n",
    "    \n",
    "    def review_items(self,item_type = None):\n",
    "        veg_cart = ['Vegetables', 'Dairy', 'Fruits']\n",
    "        if (item_type == 'Electronics'):\n",
    "            print(\"Move to Electronics Counter\")\n",
    "        elif (item_type in veg_cart):        \n",
    "            print(\"Move to Vege Counter\")\n",
    "            \n",
    "    def count_items(self,cart_items = None):\n",
    "        if len(cart_items)<=10:\n",
    "            print(\"Move to Less than 10 items counter\")\n",
    "        else:\n",
    "            print(\"Move to Greater than 10 items counter\")\n",
    "    \n",
    "    def scan_bar_code(self,*scan):\n",
    "        codes = list(scan)\n",
    "        return codes\n",
    "          \n",
    "    def add_billing(self,*units,codes=None):\n",
    "        pricetag = []\n",
    "        for i in units:\n",
    "            pricetag.append(i)\n",
    "        bill = dict(zip(codes, pricetag))\n",
    "        return bill\n",
    "        \n",
    "    def add_tax(self,*tax):\n",
    "        taxed = list(tax)\n",
    "        return taxed\n",
    "    \n",
    "    def calc_bill(self,bill,taxes,cart_items):\n",
    "        items = []\n",
    "        cart_items = cart_items\n",
    "        calc_bill = []\n",
    "        for item,tax in zip(bill.items(),taxes):\n",
    "            items.append(item[1])\n",
    "            calc_bill.append(item[1] + item[1]*tax)\n",
    "        finalbill = dict(zip(cart_items, calc_bill))\n",
    "        return finalbill\n",
    "        \n",
    "    def print_invoice(self,finalbill):\n",
    "        final_total = sum(finalbill.values())\n",
    "        print('**************ABC Megamart*****************')\n",
    "        print('***********------------------**************')\n",
    "        print('Counter Name: ', self.goto_less_t10_counter())\n",
    "        for item,price in finalbill.items():\n",
    "            print(item,\": \", price)\n",
    "        print('Total:',final_total)\n",
    "        print('***********------------------**************')\n",
    "    \n",
    "    def receive_payment(self,finalbill):\n",
    "        final_total = sum(finalbill.values())\n",
    "        print('**************ABC Megamart*****************')\n",
    "        print('***********------------------**************')\n",
    "        print('Counter Name: ', self.goto_less_t10_counter())\n",
    "        for item,price in finalbill.items():\n",
    "            print(item,\": \", price)\n",
    "        print('Total:',final_total)\n",
    "        print('***********------------------**************')\n",
    "        print('***************PAID************************')"
   ]
  },
  {
   "cell_type": "code",
   "execution_count": 9,
   "id": "997788e0-e340-4ccd-8174-88bb74aa152a",
   "metadata": {},
   "outputs": [
    {
     "name": "stdout",
     "output_type": "stream",
     "text": [
      "Move to Less than 10 items counter\n"
     ]
    }
   ],
   "source": [
    "less10 = LessThan10Counter()\n",
    "cart = less10.return_cart('paperclips','blue pens','stapler','pencils')\n",
    "less10.review_items(item_type = ['stationary'])\n",
    "less10.count_items(cart)\n",
    "codes = less10.scan_bar_code(113323,3434332,2131243,2332783)\n",
    "bill = less10.add_billing(10,15,12,14,codes = codes)\n",
    "taxes = less10.add_tax(0.04,0.03,0.035,0.025)\n",
    "finalbill = less10.calc_bill(bill,taxes,cart)"
   ]
  },
  {
   "cell_type": "code",
   "execution_count": 10,
   "id": "7e448b6f-69de-4043-b6bc-60e20cde3537",
   "metadata": {},
   "outputs": [
    {
     "name": "stdout",
     "output_type": "stream",
     "text": [
      "**************ABC Megamart*****************\n",
      "***********------------------**************\n",
      "Counter Name:  Less than 10 counter\n",
      "paperclips :  10.4\n",
      "blue pens :  15.45\n",
      "stapler :  12.42\n",
      "pencils :  14.35\n",
      "Total: 52.620000000000005\n",
      "***********------------------**************\n"
     ]
    }
   ],
   "source": [
    "less10.print_invoice(finalbill)"
   ]
  },
  {
   "cell_type": "code",
   "execution_count": 11,
   "id": "491c977f-5c88-4f30-8803-3d787e13d5c2",
   "metadata": {},
   "outputs": [
    {
     "name": "stdout",
     "output_type": "stream",
     "text": [
      "**************ABC Megamart*****************\n",
      "***********------------------**************\n",
      "Counter Name:  Less than 10 counter\n",
      "paperclips :  10.4\n",
      "blue pens :  15.45\n",
      "stapler :  12.42\n",
      "pencils :  14.35\n",
      "Total: 52.620000000000005\n",
      "***********------------------**************\n",
      "***************PAID************************\n"
     ]
    }
   ],
   "source": [
    "less10.receive_payment(finalbill)"
   ]
  },
  {
   "cell_type": "markdown",
   "id": "2d417b22-65d4-4011-b7cd-d62b807136b7",
   "metadata": {},
   "source": [
    "## Greater than 10 items counter"
   ]
  },
  {
   "cell_type": "code",
   "execution_count": 12,
   "id": "ea339b3d-2d8d-4a55-9a1c-20fac1793a68",
   "metadata": {},
   "outputs": [],
   "source": [
    "class GreaterThan10Counter():\n",
    "    def return_cart(self,*items):\n",
    "        cart_items = list(items)\n",
    "        return cart_items\n",
    "    \n",
    "    def goto_greater_t10_counter(self):\n",
    "        return 'Greater than 10 counter'\n",
    "    \n",
    "    def review_items(self,item_type = None):\n",
    "        veg_cart = ['Vegetables', 'Dairy', 'Fruits']\n",
    "        if (item_type == 'Electronics'):\n",
    "            print(\"Move to Electronics Counter\")\n",
    "        elif (item_type in veg_cart):        \n",
    "            print(\"Move to Vege Counter\")\n",
    "            \n",
    "    def count_items(self,cart_items = None):\n",
    "        if len(cart_items)>10:\n",
    "            print(\"Move to Greater than 10 items counter\")\n",
    "        else:\n",
    "            print(\"Move to Less than 10 items counter\")\n",
    "    \n",
    "    def scan_bar_code(self,*scan):\n",
    "        codes = list(scan)\n",
    "        return codes\n",
    "          \n",
    "    def add_billing(self,*units,codes=None):\n",
    "        self.codes = codes\n",
    "        pricetag = []\n",
    "        for i in units:\n",
    "            pricetag.append(i)\n",
    "        bill = dict(zip(self.codes, pricetag))\n",
    "        return bill\n",
    "    \n",
    "    def apply_coupon(self):\n",
    "        coupon_discount = 0.1\n",
    "        return coupon_discount        \n",
    "        \n",
    "    def add_tax(self,*tax):\n",
    "        taxed = list(tax)\n",
    "        return taxed\n",
    "    \n",
    "    def calc_bill(self,bill,taxes,cart_items):\n",
    "        items = []\n",
    "        cart_items = cart_items\n",
    "        calc_bill = []\n",
    "        for item,tax in zip(bill.items(),taxes):\n",
    "            items.append(item[1])\n",
    "            calc_bill.append(item[1] + item[1]*tax)\n",
    "        finalbill = dict(zip(cart_items, calc_bill))\n",
    "        return finalbill\n",
    "        \n",
    "    def print_invoice(self,finalbill):\n",
    "        final_total = sum(finalbill.values())\n",
    "        print('**************ABC Megamart*****************')\n",
    "        print('***********------------------**************')\n",
    "        print('Counter Name: ', self.goto_greater_t10_counter())\n",
    "        for item,price in finalbill.items():\n",
    "            print(item,\": \", price)\n",
    "        print('Total:',final_total - final_total * self.apply_coupon())\n",
    "        print('***********------------------**************')\n",
    "    \n",
    "    def receive_payment(self,finalbill):\n",
    "        final_total = sum(finalbill.values())\n",
    "        print('**************ABC Megamart*****************')\n",
    "        print('***********------------------**************')\n",
    "        print('Counter Name: ', self.goto_greater_t10_counter())\n",
    "        for item,price in finalbill.items():\n",
    "            print(item,\": \", price)\n",
    "        print('Total:',final_total - final_total * self.apply_coupon())\n",
    "        print('***********------------------**************')\n",
    "        print('***************PAID************************')"
   ]
  },
  {
   "cell_type": "code",
   "execution_count": 13,
   "id": "c60187f6-5eec-4866-bce6-97fc24185ef1",
   "metadata": {},
   "outputs": [
    {
     "name": "stdout",
     "output_type": "stream",
     "text": [
      "Move to Greater than 10 items counter\n"
     ]
    }
   ],
   "source": [
    "greater = GreaterThan10Counter()\n",
    "cart = greater.return_cart('paper clips','blue pens','stapler','pencils','a4paper','a3paper','chart',\n",
    "                          'sketch pens','canvas','water color','acrylic colors')\n",
    "greater.review_items(item_type = ['stationary'])\n",
    "greater.count_items(cart)"
   ]
  },
  {
   "cell_type": "code",
   "execution_count": 14,
   "id": "9acbf648-080f-40dc-b1de-c1e038f89ef1",
   "metadata": {},
   "outputs": [
    {
     "data": {
      "text/plain": [
       "0.1"
      ]
     },
     "execution_count": 14,
     "metadata": {},
     "output_type": "execute_result"
    }
   ],
   "source": [
    "codes = greater.scan_bar_code(113323,3434332,2131243,2332783)\n",
    "bill = greater.add_billing(10,15,12,14,codes = codes)\n",
    "taxes = greater.add_tax(0.04,0.03,0.035,0.025)\n",
    "greater.apply_coupon()"
   ]
  },
  {
   "cell_type": "code",
   "execution_count": 15,
   "id": "0d6a12d9-5c34-4a6d-b5ab-a99ef55b0d88",
   "metadata": {},
   "outputs": [],
   "source": [
    "finalbill = greater.calc_bill(bill,taxes,cart)"
   ]
  },
  {
   "cell_type": "code",
   "execution_count": 16,
   "id": "19819d61-d56f-4e56-82c1-30b0b4b82c95",
   "metadata": {},
   "outputs": [
    {
     "name": "stdout",
     "output_type": "stream",
     "text": [
      "**************ABC Megamart*****************\n",
      "***********------------------**************\n",
      "Counter Name:  Greater than 10 counter\n",
      "paper clips :  10.4\n",
      "blue pens :  15.45\n",
      "stapler :  12.42\n",
      "pencils :  14.35\n",
      "Total: 47.358000000000004\n",
      "***********------------------**************\n"
     ]
    }
   ],
   "source": [
    "greater.print_invoice(finalbill)"
   ]
  },
  {
   "cell_type": "code",
   "execution_count": 17,
   "id": "7a717e87-c782-4655-9fb0-7bea7b2f306b",
   "metadata": {},
   "outputs": [
    {
     "name": "stdout",
     "output_type": "stream",
     "text": [
      "**************ABC Megamart*****************\n",
      "***********------------------**************\n",
      "Counter Name:  Greater than 10 counter\n",
      "paper clips :  10.4\n",
      "blue pens :  15.45\n",
      "stapler :  12.42\n",
      "pencils :  14.35\n",
      "Total: 47.358000000000004\n",
      "***********------------------**************\n",
      "***************PAID************************\n"
     ]
    }
   ],
   "source": [
    "greater.receive_payment(finalbill)"
   ]
  },
  {
   "cell_type": "markdown",
   "id": "485bf96d-61ac-454f-99d6-5823d7dfb483",
   "metadata": {},
   "source": [
    "## Electronics Counter"
   ]
  },
  {
   "cell_type": "code",
   "execution_count": 18,
   "id": "363e09aa-03fd-47f4-9100-42f798b06783",
   "metadata": {},
   "outputs": [],
   "source": [
    "class ElectronicsCounter():\n",
    "    def return_cart(self,*items):\n",
    "        cart_items = list(items)\n",
    "        return cart_items\n",
    "    \n",
    "    def goto_electronics_counter(self):\n",
    "        return 'Electronics counter'\n",
    "    \n",
    "    def review_items(self,item_type = None):\n",
    "        veg_cart = ['Vegetables', 'Dairy', 'Fruits']\n",
    "        if (item_type == 'Electronics'):\n",
    "            print(\"Move to Electronics Counter\")\n",
    "        elif (item_type in veg_cart):        \n",
    "            print(\"Move to Vege Counter\")\n",
    "            \n",
    "    def test_electronics(self,*status):\n",
    "        teststatus = list(status)\n",
    "        return teststatus\n",
    "    \n",
    "    def scan_bar_code(self,*scan):\n",
    "        codes = list(scan)\n",
    "        return codes\n",
    "          \n",
    "    def add_billing(self,*units,codes=None):\n",
    "        self.codes = codes\n",
    "        pricetag = []\n",
    "        for i in units:\n",
    "            pricetag.append(i)\n",
    "        bill = dict(zip(self.codes, pricetag))\n",
    "        return bill\n",
    "        \n",
    "    def add_tax(self,*tax):\n",
    "        taxed = list(tax)\n",
    "        return taxed\n",
    "    \n",
    "    def apply_coupon(self):\n",
    "        coupon_discount = 0.1\n",
    "        return coupon_discount\n",
    "    \n",
    "    def calc_bill(self,bill,taxes,cart_items):\n",
    "        items = []\n",
    "        calc_bill = []\n",
    "        for item,tax in zip(bill.items(),taxes):\n",
    "            items.append(item[1])\n",
    "            calc_bill.append(item[1] + item[1]*tax)\n",
    "        finalbill = dict(zip(cart_items, calc_bill))\n",
    "        return finalbill\n",
    "        \n",
    "    def print_invoice(self,finalbill):\n",
    "        final_total = sum(finalbill.values())\n",
    "        print('**************ABC Megamart*****************')\n",
    "        print('***********------------------**************')\n",
    "        print('Counter Name: ', self.goto_electronics_counter())\n",
    "        for item,price in finalbill.items():\n",
    "            print(item,\": \", price)\n",
    "        print('Total:',final_total - final_total * self.apply_coupon())\n",
    "        print('***********------------------**************')\n",
    "    \n",
    "    def receive_payment(self,finalbill):\n",
    "        final_total = sum(finalbill.values())\n",
    "        print('**************ABC Megamart*****************')\n",
    "        print('***********------------------**************')\n",
    "        print('Counter Name: ', self.goto_electronics_counter())\n",
    "        for item,price in finalbill.items():\n",
    "            print(item,\": \", price)\n",
    "        print('Total:',final_total)\n",
    "        print('***********------------------**************')\n",
    "        print('***************PAID************************')"
   ]
  },
  {
   "cell_type": "code",
   "execution_count": 19,
   "id": "d3e426ee-6511-46e1-98bf-3d61ac4b1313",
   "metadata": {},
   "outputs": [
    {
     "data": {
      "text/plain": [
       "['pass', 'pass', 'pass']"
      ]
     },
     "execution_count": 19,
     "metadata": {},
     "output_type": "execute_result"
    }
   ],
   "source": [
    "electronics = ElectronicsCounter()\n",
    "cart = electronics.return_cart('television','keyboard','mouse')\n",
    "electronics.review_items(item_type = ['Electronics'])\n",
    "electronics.test_electronics('pass','pass','pass')"
   ]
  },
  {
   "cell_type": "code",
   "execution_count": 20,
   "id": "83e0382d-8dd6-49fb-9dc7-5bbfec5c696e",
   "metadata": {},
   "outputs": [
    {
     "data": {
      "text/plain": [
       "0.1"
      ]
     },
     "execution_count": 20,
     "metadata": {},
     "output_type": "execute_result"
    }
   ],
   "source": [
    "codes = electronics.scan_bar_code(113323,3434332,2131243)\n",
    "bill = electronics.add_billing(100,16,14,codes = codes)\n",
    "taxes = electronics.add_tax(0.04,0.03,0.035)\n",
    "electronics.apply_coupon()"
   ]
  },
  {
   "cell_type": "code",
   "execution_count": 21,
   "id": "c6b52e3a-ea2e-4c9f-bfe1-4927e747023e",
   "metadata": {},
   "outputs": [],
   "source": [
    "finalbill = electronics.calc_bill(bill,taxes,cart)"
   ]
  },
  {
   "cell_type": "code",
   "execution_count": 22,
   "id": "90de2523-56f9-46fc-a3c5-a32155e0c0f8",
   "metadata": {},
   "outputs": [
    {
     "name": "stdout",
     "output_type": "stream",
     "text": [
      "**************ABC Megamart*****************\n",
      "***********------------------**************\n",
      "Counter Name:  Electronics counter\n",
      "television :  104.0\n",
      "keyboard :  16.48\n",
      "mouse :  14.49\n",
      "Total: 121.473\n",
      "***********------------------**************\n"
     ]
    }
   ],
   "source": [
    "electronics.print_invoice(finalbill)"
   ]
  },
  {
   "cell_type": "code",
   "execution_count": 23,
   "id": "40632dde-cc09-4e46-9808-ca78519e7b8c",
   "metadata": {},
   "outputs": [
    {
     "name": "stdout",
     "output_type": "stream",
     "text": [
      "**************ABC Megamart*****************\n",
      "***********------------------**************\n",
      "Counter Name:  Electronics counter\n",
      "television :  104.0\n",
      "keyboard :  16.48\n",
      "mouse :  14.49\n",
      "Total: 134.97\n",
      "***********------------------**************\n",
      "***************PAID************************\n"
     ]
    }
   ],
   "source": [
    "electronics.receive_payment(finalbill)"
   ]
  },
  {
   "cell_type": "markdown",
   "id": "c7a42200-1752-453a-89d2-a79ff20fc6e1",
   "metadata": {},
   "source": [
    "## Templates"
   ]
  },
  {
   "cell_type": "code",
   "execution_count": 24,
   "id": "dc6609e0-fed7-4790-af35-eeb8b399d639",
   "metadata": {},
   "outputs": [],
   "source": [
    "from abc import ABC, abstractmethod \n",
    "\n",
    "class CommonCounter(ABC):\n",
    "    def __init__(self,items,name,scan,units,tax,item_type = None, weights = None, status = None):\n",
    "        self.items = items\n",
    "        self.name = name\n",
    "        self.scan = scan\n",
    "        self.units = units\n",
    "        self.tax = tax\n",
    "        self.item_type = item_type\n",
    "        self.weights = weights\n",
    "        self.status = status\n",
    "        \n",
    "    def return_cart(self):\n",
    "        cart_items = []\n",
    "        for i in self.items:\n",
    "            cart_items.append(i)\n",
    "        return cart_items\n",
    "    \n",
    "    def goto_counter(self):\n",
    "        countername = self.name\n",
    "        return countername\n",
    "\n",
    "    def scan_bar_code(self):\n",
    "        codes = []\n",
    "        for i in self.scan:\n",
    "            codes.append(i)\n",
    "        return codes\n",
    "          \n",
    "    def add_billing(self):\n",
    "        self.codes = self.scan_bar_code()\n",
    "        pricetag = []\n",
    "        for i in self.units:\n",
    "            pricetag.append(i)\n",
    "        bill = dict(zip(self.codes, pricetag))\n",
    "        return bill\n",
    "        \n",
    "    def add_tax(self):\n",
    "        taxed = []\n",
    "        for i in self.tax:\n",
    "            taxed.append(i)\n",
    "        return taxed\n",
    "    \n",
    "    def calc_bill(self):\n",
    "        bill = self.add_billing()\n",
    "        items = []\n",
    "        cart_items = self.return_cart()\n",
    "        calc_bill = []\n",
    "        taxes = self.add_tax()\n",
    "        for item,tax in zip(bill.items(),taxes):\n",
    "            items.append(item[1])\n",
    "            calc_bill.append(item[1] + item[1]*tax)\n",
    "        finalbill = dict(zip(cart_items, calc_bill))\n",
    "        return finalbill\n",
    "        \n",
    "    def receive_payment(self):\n",
    "        finalbill = self.calc_bill()\n",
    "        final_total = sum(finalbill.values())\n",
    "        print('**************ABC Megamart*****************')\n",
    "        print('***********------------------**************')\n",
    "        print('Counter Name: ', self.goto_counter())\n",
    "        for item,price in finalbill.items():\n",
    "            print(item,\": \", price)\n",
    "        print('Total:',final_total)\n",
    "        print('***********------------------**************')\n",
    "        print('***************PAID************************')\n",
    "    \n",
    "    def apply_coupon(self):\n",
    "        return 0\n",
    "          \n",
    "    def weigh_items(self):\n",
    "        pass\n",
    "        \n",
    "    def add_price_tag(self):\n",
    "        pass\n",
    "        \n",
    "    def count_items(self):\n",
    "        pass\n",
    "        \n",
    "    def test_electronics(self):\n",
    "        pass\n",
    "        \n",
    "    @abstractmethod\n",
    "    def review_items(self):\n",
    "        pass\n",
    "    \n",
    "    def pipeline_template(self):\n",
    "        self.return_cart()\n",
    "        self.goto_counter()\n",
    "        self.review_items()\n",
    "        self.count_items()\n",
    "        self.test_electronics()\n",
    "        self.weigh_items()\n",
    "        self.add_price_tag()\n",
    "        self.scan_bar_code()\n",
    "        self.add_billing()\n",
    "        self.add_tax()\n",
    "        self.apply_coupon()\n",
    "        self.calc_bill()\n",
    "        self.receive_payment()"
   ]
  },
  {
   "cell_type": "code",
   "execution_count": 25,
   "id": "f20e218f-fed1-4013-8eda-9853fecb4653",
   "metadata": {},
   "outputs": [],
   "source": [
    "class VegeCounter(CommonCounter):\n",
    "    def review_items(self):\n",
    "        if (self.item_type in ['Vegetables', 'Dairy', 'Fruits']):\n",
    "            print(\"Move to Vege Counter\")\n",
    "\n",
    "    def weigh_items(self):\n",
    "        item_weight = dict(zip(self.items, self.weights))\n",
    "        return item_weight\n",
    "    \n",
    "    def add_price_tag(self):\n",
    "        pricetag = []\n",
    "        item_weight = self.weigh_items()\n",
    "        for item,price in zip(item_weight.items(),self.units):\n",
    "            pricetag.append(item[1]*price)\n",
    "        return pricetag "
   ]
  },
  {
   "cell_type": "code",
   "execution_count": 26,
   "id": "885b7666-8f70-40a5-a3d3-a4ec3de6044e",
   "metadata": {},
   "outputs": [],
   "source": [
    "class ElectronicsCounter(CommonCounter):\n",
    "    def review_items(self):\n",
    "        if ('Electronics' in self.item_type):\n",
    "            print(\"Move to Electronics Counter\")\n",
    "         \n",
    "    def test_electronics(self):\n",
    "        teststatus = []\n",
    "        for i in self.status:\n",
    "            teststatus.append(i)\n",
    "        return teststatus"
   ]
  },
  {
   "cell_type": "code",
   "execution_count": 27,
   "id": "e9a859d1-4e8d-4a8b-9d5f-6b71875379d8",
   "metadata": {},
   "outputs": [],
   "source": [
    "def run_pipeline(counter = CommonCounter):\n",
    "    counter.pipeline_template()"
   ]
  },
  {
   "cell_type": "code",
   "execution_count": 28,
   "id": "a40121ac-b776-40e2-a1f1-f4cf98458521",
   "metadata": {},
   "outputs": [
    {
     "name": "stdout",
     "output_type": "stream",
     "text": [
      "**************ABC Megamart*****************\n",
      "***********------------------**************\n",
      "Counter Name:  ['Vegetable Counter']\n",
      "onions :  10.4\n",
      "lettuce :  15.45\n",
      "apples :  12.42\n",
      "oranges :  14.35\n",
      "Total: 52.620000000000005\n",
      "***********------------------**************\n",
      "***************PAID************************\n"
     ]
    }
   ],
   "source": [
    "run_pipeline(VegeCounter(items = ['onions','lettuce','apples','oranges'],\n",
    "                         name = ['Vegetable Counter'],\n",
    "                         scan = [113323,3434332,2131243,2332783],\n",
    "                         units = [10,15,12,14],\n",
    "                         tax = [0.04,0.03,0.035,0.025],\n",
    "                         item_type = ['Vegetables'],\n",
    "                         weights = [1,2,1.5,2.5]))"
   ]
  },
  {
   "cell_type": "code",
   "execution_count": 29,
   "id": "b741c441-fe9f-439f-9a0b-44659f8db1f9",
   "metadata": {},
   "outputs": [
    {
     "name": "stdout",
     "output_type": "stream",
     "text": [
      "Move to Electronics Counter\n",
      "**************ABC Megamart*****************\n",
      "***********------------------**************\n",
      "Counter Name:  ['Electronics Counter']\n",
      "television :  104.0\n",
      "keyboard :  16.48\n",
      "mouse :  14.49\n",
      "Total: 134.97\n",
      "***********------------------**************\n",
      "***************PAID************************\n"
     ]
    }
   ],
   "source": [
    "run_pipeline(ElectronicsCounter(items = ['television','keyboard','mouse'],\n",
    "                                name = ['Electronics Counter'],\n",
    "                                scan = [113323,3434332,2131243],\n",
    "                                units = [100,16,14],\n",
    "                                tax = [0.04,0.03,0.035],\n",
    "                                item_type = ['Electronics'],\n",
    "                                status = ['pass','pass','pass']))"
   ]
  },
  {
   "cell_type": "code",
   "execution_count": null,
   "id": "79f9f86c-7bf3-40ae-9e97-86d128382820",
   "metadata": {},
   "outputs": [],
   "source": []
  }
 ],
 "metadata": {
  "kernelspec": {
   "display_name": "Python 3 (ipykernel)",
   "language": "python",
   "name": "python3"
  },
  "language_info": {
   "codemirror_mode": {
    "name": "ipython",
    "version": 3
   },
   "file_extension": ".py",
   "mimetype": "text/x-python",
   "name": "python",
   "nbconvert_exporter": "python",
   "pygments_lexer": "ipython3",
   "version": "3.11.9"
  }
 },
 "nbformat": 4,
 "nbformat_minor": 5
}
