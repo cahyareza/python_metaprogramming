{
 "cells": [
  {
   "cell_type": "markdown",
   "id": "0c856e11-c9cf-4fb6-a18d-3496acd2af50",
   "metadata": {},
   "source": [
    "# Chapter 5"
   ]
  },
  {
   "cell_type": "markdown",
   "id": "4e7396bf-bbf4-49c8-9fd9-e18698296b55",
   "metadata": {},
   "source": [
    "## Using the built-in function - id"
   ]
  },
  {
   "cell_type": "code",
   "execution_count": 1,
   "id": "6bc89626-4510-4f85-8a2a-c7e5c06a2ac7",
   "metadata": {},
   "outputs": [],
   "source": [
    "class Billing:\n",
    "    def __init__(self,product_name,unit_price,quantity,tax):\n",
    "        self.product_name = product_name\n",
    "        self.unit_price = unit_price\n",
    "        self.quantity = quantity\n",
    "        self.tax = tax\n",
    "        \n",
    "    def generate_bill(self):\n",
    "        total = self.unit_price * self.quantity \n",
    "        final_total = total + total*self.tax\n",
    "        print('***********------------------**************')\n",
    "        print('Product:', self.product_name)\n",
    "        print('Total:',final_total)\n",
    "        print('***********------------------**************')"
   ]
  },
  {
   "cell_type": "code",
   "execution_count": 2,
   "id": "89d352e1-8d6b-4e11-a421-9f6f3f7e79a6",
   "metadata": {},
   "outputs": [],
   "source": [
    "billing = Billing('Delmonte Cheese',6,4,0.054)"
   ]
  },
  {
   "cell_type": "code",
   "execution_count": 3,
   "id": "654c0a22-efa4-4b97-919a-71bda737d6ed",
   "metadata": {},
   "outputs": [
    {
     "name": "stdout",
     "output_type": "stream",
     "text": [
      "***********------------------**************\n",
      "Product: Delmonte Cheese\n",
      "Total: 25.296\n",
      "***********------------------**************\n"
     ]
    }
   ],
   "source": [
    "billing.generate_bill()"
   ]
  },
  {
   "cell_type": "code",
   "execution_count": 4,
   "id": "0f0c3ea3-e225-43c1-8f16-c2c0a34aa043",
   "metadata": {},
   "outputs": [],
   "source": [
    "def generate_bill(product_name,unit_price,quantity,tax):\n",
    "    total = unit_price * quantity \n",
    "    final_total = total + total*tax\n",
    "    print('***********------------------**************')\n",
    "    print('Product:', product_name)\n",
    "    print('Total:',final_total)\n",
    "    print('***********------------------**************')"
   ]
  },
  {
   "cell_type": "code",
   "execution_count": 5,
   "id": "bb9755c3-72e7-4417-a82a-bc06454ffb31",
   "metadata": {},
   "outputs": [],
   "source": [
    "Invoicing = Billing"
   ]
  },
  {
   "cell_type": "code",
   "execution_count": 6,
   "id": "2ca33300-4210-4eba-b420-46e1d90a5764",
   "metadata": {},
   "outputs": [
    {
     "data": {
      "text/plain": [
       "<__main__.Billing at 0x10730f790>"
      ]
     },
     "execution_count": 6,
     "metadata": {},
     "output_type": "execute_result"
    }
   ],
   "source": [
    "Invoicing('Delmonte Cheese',6,4,0.054)"
   ]
  },
  {
   "cell_type": "code",
   "execution_count": 7,
   "id": "10609ebb-f913-4db7-8d60-58c55d4cc0a6",
   "metadata": {},
   "outputs": [
    {
     "data": {
      "text/plain": [
       "5408571600"
      ]
     },
     "execution_count": 7,
     "metadata": {},
     "output_type": "execute_result"
    }
   ],
   "source": [
    "id(Billing)"
   ]
  },
  {
   "cell_type": "code",
   "execution_count": 8,
   "id": "848ff989-2b64-47a2-b21f-a21b6e085f95",
   "metadata": {},
   "outputs": [
    {
     "data": {
      "text/plain": [
       "5408571600"
      ]
     },
     "execution_count": 8,
     "metadata": {},
     "output_type": "execute_result"
    }
   ],
   "source": [
    "id(Invoicing)"
   ]
  },
  {
   "cell_type": "code",
   "execution_count": 9,
   "id": "c3752554-c6f8-49d9-a6cb-e541affa9dbe",
   "metadata": {},
   "outputs": [
    {
     "data": {
      "text/plain": [
       "4415481600"
      ]
     },
     "execution_count": 9,
     "metadata": {},
     "output_type": "execute_result"
    }
   ],
   "source": [
    "id(generate_bill)"
   ]
  },
  {
   "cell_type": "markdown",
   "id": "c3d5003e-b3c3-4c61-aa95-25283e5094ca",
   "metadata": {},
   "source": [
    "## Debug unintentional assignments using id"
   ]
  },
  {
   "cell_type": "code",
   "execution_count": 10,
   "id": "3c205829-b974-4e1e-b550-baf3fd756fd6",
   "metadata": {},
   "outputs": [
    {
     "name": "stdout",
     "output_type": "stream",
     "text": [
      "Billing <class '__main__.Billing'>\n",
      "Invoicing <class '__main__.Billing'>\n"
     ]
    }
   ],
   "source": [
    "class_id_count = {}\n",
    "duplicates = []\n",
    "ids = []\n",
    "classes = []\n",
    "classnames = []\n",
    "for obj in dir():\n",
    "    if type(eval(obj)) == type:\n",
    "        ids.append(id(eval(obj)))\n",
    "        classes.append(eval(obj))\n",
    "        classnames.append(obj)\n",
    "\n",
    "for i in ids:\n",
    "    if i not in class_id_count:\n",
    "        class_id_count[i] = 1\n",
    "    elif (class_id_count[i] == 1):\n",
    "        duplicates.append(i)\n",
    "        class_id_count[i] += 1\n",
    "\n",
    "for cls,clsname in zip(classes,classnames):\n",
    "    for clsid in duplicates:\n",
    "        if (id(cls)==clsid):\n",
    "            print(clsname,cls)"
   ]
  },
  {
   "cell_type": "code",
   "execution_count": 11,
   "id": "4417a431-3068-40ea-a732-d4be53a50216",
   "metadata": {},
   "outputs": [
    {
     "data": {
      "text/plain": [
       "{5408571600: 2}"
      ]
     },
     "execution_count": 11,
     "metadata": {},
     "output_type": "execute_result"
    }
   ],
   "source": [
    "class_id_count"
   ]
  },
  {
   "cell_type": "code",
   "execution_count": 12,
   "id": "8cbb5c9a-8404-46d3-8e09-36610fa61575",
   "metadata": {},
   "outputs": [
    {
     "data": {
      "text/plain": [
       "[5408571600]"
      ]
     },
     "execution_count": 12,
     "metadata": {},
     "output_type": "execute_result"
    }
   ],
   "source": [
    "duplicates"
   ]
  },
  {
   "cell_type": "code",
   "execution_count": 13,
   "id": "0a38a3b8-ad33-45f0-990b-7965280f6fab",
   "metadata": {},
   "outputs": [
    {
     "data": {
      "text/plain": [
       "[5408571600, 5408571600]"
      ]
     },
     "execution_count": 13,
     "metadata": {},
     "output_type": "execute_result"
    }
   ],
   "source": [
    "ids\n"
   ]
  },
  {
   "cell_type": "code",
   "execution_count": 14,
   "id": "9f747c8d-a7c8-43c8-a67b-bf23b4a20f16",
   "metadata": {},
   "outputs": [
    {
     "data": {
      "text/plain": [
       "[__main__.Billing, __main__.Billing]"
      ]
     },
     "execution_count": 14,
     "metadata": {},
     "output_type": "execute_result"
    }
   ],
   "source": [
    "classes\n"
   ]
  },
  {
   "cell_type": "code",
   "execution_count": 15,
   "id": "3417f241-36b2-4858-a34f-d3f56ac5c88d",
   "metadata": {},
   "outputs": [
    {
     "data": {
      "text/plain": [
       "['Billing', 'Invoicing']"
      ]
     },
     "execution_count": 15,
     "metadata": {},
     "output_type": "execute_result"
    }
   ],
   "source": [
    "classnames"
   ]
  },
  {
   "cell_type": "markdown",
   "id": "b8fc46a1-6804-4c6b-b2c0-2174b905d39f",
   "metadata": {},
   "source": [
    "## Find if an object is callable"
   ]
  },
  {
   "cell_type": "code",
   "execution_count": 2,
   "id": "00a9ce90-4086-4c4a-a208-a43cd8781c04",
   "metadata": {},
   "outputs": [],
   "source": [
    "import product"
   ]
  },
  {
   "cell_type": "code",
   "execution_count": 3,
   "id": "cdb91d82-3de6-408f-9c35-9bd9304106be",
   "metadata": {},
   "outputs": [],
   "source": [
    "prodobj = product.Product()"
   ]
  },
  {
   "cell_type": "code",
   "execution_count": 4,
   "id": "6d8b3c7d-f2f6-4da5-b4d0-e7e95ebfa992",
   "metadata": {},
   "outputs": [
    {
     "data": {
      "text/plain": [
       "True"
      ]
     },
     "execution_count": 4,
     "metadata": {},
     "output_type": "execute_result"
    }
   ],
   "source": [
    "callable(product.Product)"
   ]
  },
  {
   "cell_type": "code",
   "execution_count": 5,
   "id": "cd1d1f37-22bc-448a-a6cb-a80e5837727c",
   "metadata": {},
   "outputs": [
    {
     "data": {
      "text/plain": [
       "False"
      ]
     },
     "execution_count": 5,
     "metadata": {},
     "output_type": "execute_result"
    }
   ],
   "source": [
    "callable(prodobj)"
   ]
  },
  {
   "cell_type": "code",
   "execution_count": 7,
   "id": "b2109935-1300-4d67-ba33-a2012b50e749",
   "metadata": {},
   "outputs": [],
   "source": [
    "prodobj.product_id = 12009"
   ]
  },
  {
   "cell_type": "code",
   "execution_count": 8,
   "id": "f961fbc2-7f14-46f4-9228-35e1dd5bec64",
   "metadata": {},
   "outputs": [
    {
     "name": "stdout",
     "output_type": "stream",
     "text": [
      "(100902, 'Iphone X', 'Electronics', 700)\n"
     ]
    }
   ],
   "source": [
    "if callable(prodobj.get_product):\n",
    "    print(prodobj.get_product())\n",
    "else:\n",
    "    print(\"This object is not callable\")"
   ]
  },
  {
   "cell_type": "code",
   "execution_count": 9,
   "id": "ce38f4b6-3687-4aef-a5e5-235613c18380",
   "metadata": {},
   "outputs": [
    {
     "name": "stdout",
     "output_type": "stream",
     "text": [
      "This is not a method\n"
     ]
    }
   ],
   "source": [
    "if callable(prodobj):\n",
    "    print(prodobj)\n",
    "else:\n",
    "    print('This is not a method')"
   ]
  },
  {
   "cell_type": "markdown",
   "id": "66934c26-7e44-4b41-be98-4cdef119c71c",
   "metadata": {},
   "source": [
    "## Check if object has attribute"
   ]
  },
  {
   "cell_type": "code",
   "execution_count": 10,
   "id": "c0c7ce23-3494-4a7a-8c61-212f23ecb4cb",
   "metadata": {},
   "outputs": [],
   "source": [
    "class Inventory:\n",
    "    def __init__(self,product_id,product_name,date,unit_price,quantity,unit_discount,tax):  \n",
    "        self.product_id = product_id\n",
    "        self.product_name = product_name\n",
    "        self.date = date\n",
    "        self.unit_price = unit_price\n",
    "        self.quantity = quantity\n",
    "        self.unit_discount = unit_discount\n",
    "        self.tax = tax\n",
    "    \n",
    "    def calc_amount_before_tax(self,quantity=None,unit_price=None,\n",
    "                            unit_discount=None):\n",
    "        if (quantity is None):\n",
    "            self.quantity = self.quantity\n",
    "        else:\n",
    "            self.quantity = quantity\n",
    "            \n",
    "        if (unit_price is None):\n",
    "            self.unit_price = self.unit_price\n",
    "        else:\n",
    "            self.unit_price = unit_price\n",
    "        \n",
    "        if (unit_discount is None):\n",
    "            self.unit_discount = self.unit_discount\n",
    "        else:\n",
    "            self.unit_discount = unit_discount\n",
    "        amount_before_tax = self.quantity * (self.unit_price - self.unit_discount)\n",
    "        return amount_before_tax\n",
    "        \n",
    "    def calc_amount_after_tax(self, quantity=None,unit_price=None,\n",
    "                           unit_discount=None,tax=None):\n",
    "        if (quantity is None):\n",
    "            self.quantity = self.quantity\n",
    "        else:\n",
    "            self.quantity = quantity\n",
    "            \n",
    "        if (unit_price is None):\n",
    "            self.unit_price = self.unit_price\n",
    "        else:\n",
    "            self.unit_price = unit_price\n",
    "        \n",
    "        if (unit_discount is None):\n",
    "            self.unit_discount = self.unit_discount\n",
    "        else:\n",
    "            self.unit_discount = unit_discount\n",
    "            \n",
    "        if (tax is None):\n",
    "            self.tax = self.tax\n",
    "        else:\n",
    "            self.tax = tax\n",
    "        amount_after_tax = self.calc_amount_before_tax(self.quantity,self.unit_price,\n",
    "                                                  self.unit_discount) + self.tax\n",
    "        return amount_after_tax\n",
    "        \n",
    "    def return_inventory(self):\n",
    "        import pandas as pd\n",
    "        inventory_schema = pd.DataFrame([self.product_id,\n",
    "                                        self.product_name,\n",
    "                                        self.date,\n",
    "                                        self.unit_price,\n",
    "                                        self.quantity,\n",
    "                                        self.unit_discount,\n",
    "                                        self.tax,\n",
    "                                        self.calc_amount_before_tax(),\n",
    "                                        self.calc_amount_after_tax()]).transpose()\n",
    "        inventory_schema.columns = [\"product_id\",\"product_name\",\"Date\",\"unit_price\",\"Quantity\",\"unit_discount\",\"Tax\",\"Amount Before Tax\", \"Amount After Tax\"]\n",
    "        return inventory_schema   "
   ]
  },
  {
   "cell_type": "code",
   "execution_count": 11,
   "id": "e828b7e2-2ad3-4449-8b42-20421f46d032",
   "metadata": {},
   "outputs": [],
   "source": [
    "inventory = Inventory(300021,\n",
    "                'Samsung-Refrigerator',\n",
    "                '08/04/2021',\n",
    "                200,\n",
    "                25,\n",
    "                10,\n",
    "                0.0522)"
   ]
  },
  {
   "cell_type": "code",
   "execution_count": 12,
   "id": "f46949e2-6d88-4aab-b899-49b2bc588f5c",
   "metadata": {},
   "outputs": [
    {
     "data": {
      "text/plain": [
       "300021"
      ]
     },
     "execution_count": 12,
     "metadata": {},
     "output_type": "execute_result"
    }
   ],
   "source": [
    "inventory.product_id"
   ]
  },
  {
   "cell_type": "code",
   "execution_count": 13,
   "id": "96ae1402-2cf6-40e7-91ca-805b19da5dc4",
   "metadata": {},
   "outputs": [
    {
     "data": {
      "text/html": [
       "<div>\n",
       "<style scoped>\n",
       "    .dataframe tbody tr th:only-of-type {\n",
       "        vertical-align: middle;\n",
       "    }\n",
       "\n",
       "    .dataframe tbody tr th {\n",
       "        vertical-align: top;\n",
       "    }\n",
       "\n",
       "    .dataframe thead th {\n",
       "        text-align: right;\n",
       "    }\n",
       "</style>\n",
       "<table border=\"1\" class=\"dataframe\">\n",
       "  <thead>\n",
       "    <tr style=\"text-align: right;\">\n",
       "      <th></th>\n",
       "      <th>product_id</th>\n",
       "      <th>product_name</th>\n",
       "      <th>Date</th>\n",
       "      <th>unit_price</th>\n",
       "      <th>Quantity</th>\n",
       "      <th>unit_discount</th>\n",
       "      <th>Tax</th>\n",
       "      <th>Amount Before Tax</th>\n",
       "      <th>Amount After Tax</th>\n",
       "    </tr>\n",
       "  </thead>\n",
       "  <tbody>\n",
       "    <tr>\n",
       "      <th>0</th>\n",
       "      <td>300021</td>\n",
       "      <td>Samsung-Refrigerator</td>\n",
       "      <td>08/04/2021</td>\n",
       "      <td>200</td>\n",
       "      <td>25</td>\n",
       "      <td>10</td>\n",
       "      <td>0.0522</td>\n",
       "      <td>4750</td>\n",
       "      <td>4750.0522</td>\n",
       "    </tr>\n",
       "  </tbody>\n",
       "</table>\n",
       "</div>"
      ],
      "text/plain": [
       "  product_id          product_name        Date unit_price Quantity  \\\n",
       "0     300021  Samsung-Refrigerator  08/04/2021        200       25   \n",
       "\n",
       "  unit_discount     Tax Amount Before Tax Amount After Tax  \n",
       "0            10  0.0522              4750        4750.0522  "
      ]
     },
     "execution_count": 13,
     "metadata": {},
     "output_type": "execute_result"
    }
   ],
   "source": [
    "inventory.return_inventory()"
   ]
  },
  {
   "cell_type": "code",
   "execution_count": 14,
   "id": "6b12f2aa-f7ca-4ee4-b6a9-bc2e0eab781f",
   "metadata": {},
   "outputs": [
    {
     "data": {
      "text/plain": [
       "['__class__',\n",
       " '__delattr__',\n",
       " '__dict__',\n",
       " '__dir__',\n",
       " '__doc__',\n",
       " '__eq__',\n",
       " '__format__',\n",
       " '__ge__',\n",
       " '__getattribute__',\n",
       " '__getstate__',\n",
       " '__gt__',\n",
       " '__hash__',\n",
       " '__init__',\n",
       " '__init_subclass__',\n",
       " '__le__',\n",
       " '__lt__',\n",
       " '__module__',\n",
       " '__ne__',\n",
       " '__new__',\n",
       " '__reduce__',\n",
       " '__reduce_ex__',\n",
       " '__repr__',\n",
       " '__setattr__',\n",
       " '__sizeof__',\n",
       " '__str__',\n",
       " '__subclasshook__',\n",
       " '__weakref__',\n",
       " 'calc_amount_after_tax',\n",
       " 'calc_amount_before_tax',\n",
       " 'return_inventory']"
      ]
     },
     "execution_count": 14,
     "metadata": {},
     "output_type": "execute_result"
    }
   ],
   "source": [
    "dir(Inventory)"
   ]
  },
  {
   "cell_type": "code",
   "execution_count": 15,
   "id": "f7dab3c9-02b8-4d91-a239-537bc7760818",
   "metadata": {},
   "outputs": [
    {
     "name": "stdout",
     "output_type": "stream",
     "text": [
      "<function Inventory.__init__ at 0x10736eca0>\n",
      "<function Inventory.calc_amount_after_tax at 0x10736cb80>\n",
      "<function Inventory.calc_amount_before_tax at 0x10736e520>\n",
      "<function Inventory.return_inventory at 0x10736f2e0>\n"
     ]
    }
   ],
   "source": [
    "for i in dir(Inventory):\n",
    "     if (hasattr(Inventory,i)):\n",
    "            if type(getattr(inventory, i)) is type(getattr(inventory,'__init__')):\n",
    "                print(getattr(Inventory,i))\n"
   ]
  },
  {
   "cell_type": "markdown",
   "id": "bf154423-4dfc-48be-9cea-d3df2d2d171f",
   "metadata": {},
   "source": [
    "## Check if object is an instance"
   ]
  },
  {
   "cell_type": "code",
   "execution_count": 16,
   "id": "7cfe8ac2-c3b0-4d12-9ed9-eac0f6e1edbd",
   "metadata": {},
   "outputs": [],
   "source": [
    "inventory_fmcg = Inventory(100011,\n",
    "                'Delmonte Ketchup',\n",
    "                '09/04/2021',\n",
    "                5,\n",
    "                0.25,\n",
    "                0.10,\n",
    "                0.0522)\n"
   ]
  },
  {
   "cell_type": "code",
   "execution_count": 17,
   "id": "dd66a368-8189-4a9b-92ff-17c35e6ced42",
   "metadata": {},
   "outputs": [
    {
     "data": {
      "text/plain": [
       "1.225"
      ]
     },
     "execution_count": 17,
     "metadata": {},
     "output_type": "execute_result"
    }
   ],
   "source": [
    "inventory_fmcg.calc_amount_before_tax()"
   ]
  },
  {
   "cell_type": "code",
   "execution_count": 18,
   "id": "ba9cfba6-76d3-4bf4-8735-9ab0c79c026f",
   "metadata": {},
   "outputs": [
    {
     "data": {
      "text/html": [
       "<div>\n",
       "<style scoped>\n",
       "    .dataframe tbody tr th:only-of-type {\n",
       "        vertical-align: middle;\n",
       "    }\n",
       "\n",
       "    .dataframe tbody tr th {\n",
       "        vertical-align: top;\n",
       "    }\n",
       "\n",
       "    .dataframe thead th {\n",
       "        text-align: right;\n",
       "    }\n",
       "</style>\n",
       "<table border=\"1\" class=\"dataframe\">\n",
       "  <thead>\n",
       "    <tr style=\"text-align: right;\">\n",
       "      <th></th>\n",
       "      <th>product_id</th>\n",
       "      <th>product_name</th>\n",
       "      <th>Date</th>\n",
       "      <th>unit_price</th>\n",
       "      <th>Quantity</th>\n",
       "      <th>unit_discount</th>\n",
       "      <th>Tax</th>\n",
       "      <th>Amount Before Tax</th>\n",
       "      <th>Amount After Tax</th>\n",
       "    </tr>\n",
       "  </thead>\n",
       "  <tbody>\n",
       "    <tr>\n",
       "      <th>0</th>\n",
       "      <td>100011</td>\n",
       "      <td>Delmonte Ketchup</td>\n",
       "      <td>09/04/2021</td>\n",
       "      <td>5</td>\n",
       "      <td>0.25</td>\n",
       "      <td>0.1</td>\n",
       "      <td>0.0522</td>\n",
       "      <td>1.225</td>\n",
       "      <td>1.2772</td>\n",
       "    </tr>\n",
       "  </tbody>\n",
       "</table>\n",
       "</div>"
      ],
      "text/plain": [
       "  product_id      product_name        Date unit_price Quantity unit_discount  \\\n",
       "0     100011  Delmonte Ketchup  09/04/2021          5     0.25           0.1   \n",
       "\n",
       "      Tax Amount Before Tax Amount After Tax  \n",
       "0  0.0522             1.225           1.2772  "
      ]
     },
     "execution_count": 18,
     "metadata": {},
     "output_type": "execute_result"
    }
   ],
   "source": [
    "inventory_fmcg.return_inventory()"
   ]
  },
  {
   "cell_type": "code",
   "execution_count": 19,
   "id": "b70c5635-12e9-47ab-b6ac-8ba2d75c6845",
   "metadata": {},
   "outputs": [
    {
     "data": {
      "text/plain": [
       "True"
      ]
     },
     "execution_count": 19,
     "metadata": {},
     "output_type": "execute_result"
    }
   ],
   "source": [
    "isinstance(inventory_fmcg,Inventory)"
   ]
  },
  {
   "cell_type": "code",
   "execution_count": 20,
   "id": "cc93c294-8442-4f14-ad25-1cfdbcde9ead",
   "metadata": {},
   "outputs": [
    {
     "data": {
      "text/html": [
       "<div>\n",
       "<style scoped>\n",
       "    .dataframe tbody tr th:only-of-type {\n",
       "        vertical-align: middle;\n",
       "    }\n",
       "\n",
       "    .dataframe tbody tr th {\n",
       "        vertical-align: top;\n",
       "    }\n",
       "\n",
       "    .dataframe thead th {\n",
       "        text-align: right;\n",
       "    }\n",
       "</style>\n",
       "<table border=\"1\" class=\"dataframe\">\n",
       "  <thead>\n",
       "    <tr style=\"text-align: right;\">\n",
       "      <th></th>\n",
       "      <th>product_id</th>\n",
       "      <th>product_name</th>\n",
       "      <th>Date</th>\n",
       "      <th>unit_price</th>\n",
       "      <th>Quantity</th>\n",
       "      <th>unit_discount</th>\n",
       "      <th>Tax</th>\n",
       "      <th>Amount Before Tax</th>\n",
       "      <th>Amount After Tax</th>\n",
       "    </tr>\n",
       "  </thead>\n",
       "  <tbody>\n",
       "    <tr>\n",
       "      <th>0</th>\n",
       "      <td>300021</td>\n",
       "      <td>Samsung-Refrigerator</td>\n",
       "      <td>08/04/2021</td>\n",
       "      <td>200</td>\n",
       "      <td>25</td>\n",
       "      <td>10</td>\n",
       "      <td>0.0522</td>\n",
       "      <td>4750</td>\n",
       "      <td>4750.0522</td>\n",
       "    </tr>\n",
       "  </tbody>\n",
       "</table>\n",
       "</div>"
      ],
      "text/plain": [
       "  product_id          product_name        Date unit_price Quantity  \\\n",
       "0     300021  Samsung-Refrigerator  08/04/2021        200       25   \n",
       "\n",
       "  unit_discount     Tax Amount Before Tax Amount After Tax  \n",
       "0            10  0.0522              4750        4750.0522  "
      ]
     },
     "metadata": {},
     "output_type": "display_data"
    }
   ],
   "source": [
    "if isinstance(inventory,Inventory):\n",
    "    display(inventory.return_inventory())\n",
    "else:\n",
    "    print(\"Object reallocated to\",  type(inventory), \", please correct it\")"
   ]
  },
  {
   "cell_type": "code",
   "execution_count": 21,
   "id": "d0a89162-c8bd-4e04-8fce-03054141ce43",
   "metadata": {},
   "outputs": [],
   "source": [
    "inventory = \"test\""
   ]
  },
  {
   "cell_type": "code",
   "execution_count": 22,
   "id": "8c4f3584-7d1a-4f0f-bdd1-ef4c11a1a2f8",
   "metadata": {},
   "outputs": [
    {
     "ename": "AttributeError",
     "evalue": "'str' object has no attribute 'return_inventory'",
     "output_type": "error",
     "traceback": [
      "\u001b[0;31m---------------------------------------------------------------------------\u001b[0m",
      "\u001b[0;31mAttributeError\u001b[0m                            Traceback (most recent call last)",
      "Cell \u001b[0;32mIn[22], line 1\u001b[0m\n\u001b[0;32m----> 1\u001b[0m \u001b[43minventory\u001b[49m\u001b[38;5;241;43m.\u001b[39;49m\u001b[43mreturn_inventory\u001b[49m()\n",
      "\u001b[0;31mAttributeError\u001b[0m: 'str' object has no attribute 'return_inventory'"
     ]
    }
   ],
   "source": [
    "inventory.return_inventory()"
   ]
  },
  {
   "cell_type": "code",
   "execution_count": 23,
   "id": "b0a8a107-a62e-4a1d-bd90-6e613b5fae67",
   "metadata": {},
   "outputs": [
    {
     "name": "stdout",
     "output_type": "stream",
     "text": [
      "Object reallocated to <class 'str'> , please correct it\n"
     ]
    }
   ],
   "source": [
    "if isinstance(inventory,Inventory):\n",
    "    print(inventory.return_inventory())\n",
    "else:\n",
    "    print(\"Object reallocated to\",  type(inventory), \", please correct it\")"
   ]
  },
  {
   "cell_type": "markdown",
   "id": "37575ba4-c945-4ff0-895c-2b96b64fa964",
   "metadata": {},
   "source": [
    "## Check if object is a subclass"
   ]
  },
  {
   "cell_type": "code",
   "execution_count": 24,
   "id": "f4398a8e-103d-44d0-bf32-bd49a98e4bb2",
   "metadata": {},
   "outputs": [],
   "source": [
    "class FMCG:\n",
    "    def __init__(self,supplier_name,supplier_code,supplier_address,supplier_contract_start_date,\\\n",
    "                 supplier_contract_end_date,supplier_quality_code):\n",
    "        self.supplier_name = supplier_name\n",
    "        self.supplier_code = supplier_code\n",
    "        self.supplier_address = supplier_address\n",
    "        self.supplier_contract_start_date = supplier_contract_start_date\n",
    "        self.supplier_contract_end_date = supplier_contract_end_date\n",
    "        self.supplier_quality_code = supplier_quality_code\n",
    "        \n",
    "    def get_supplier_details(self):\n",
    "        supplier_details = {\n",
    "           'supplier_name': self.supplier_name, \n",
    "            'supplier_code': self.supplier_code,\n",
    "            'supplier_address': self.supplier_address,\n",
    "            'ContractStartDate': self.supplier_contract_start_date,\n",
    "            'ContractEndDate': self.supplier_contract_end_date, \n",
    "            'QualityCode': self.supplier_quality_code\n",
    "        }\n",
    "        return supplier_details"
   ]
  },
  {
   "cell_type": "code",
   "execution_count": 25,
   "id": "ec6c9b2c-c05e-4137-85f5-8292a87956e6",
   "metadata": {},
   "outputs": [],
   "source": [
    "fmcg = FMCG('Test Supplier','a0015','5093 9th Main Street, Pasadena,California, 91001', '05/04/2020', '05/04/2025',1)"
   ]
  },
  {
   "cell_type": "code",
   "execution_count": 26,
   "id": "035aa1cb-9347-4410-98ce-f8dcf95f6760",
   "metadata": {},
   "outputs": [
    {
     "data": {
      "text/plain": [
       "{'supplier_name': 'Test Supplier',\n",
       " 'supplier_code': 'a0015',\n",
       " 'supplier_address': '5093 9th Main Street, Pasadena,California, 91001',\n",
       " 'ContractStartDate': '05/04/2020',\n",
       " 'ContractEndDate': '05/04/2025',\n",
       " 'QualityCode': 1}"
      ]
     },
     "execution_count": 26,
     "metadata": {},
     "output_type": "execute_result"
    }
   ],
   "source": [
    "fmcg.get_supplier_details()"
   ]
  },
  {
   "cell_type": "code",
   "execution_count": 27,
   "id": "63efc3b1-fdea-4ffe-8a87-65a59e8a56b3",
   "metadata": {},
   "outputs": [],
   "source": [
    "class Condiments(FMCG,Inventory):\n",
    "    def __init__(self,*inventory):\n",
    "        self.product_id = inventory[0]\n",
    "        self.product_name = inventory[1]\n",
    "        self.date = inventory[2]\n",
    "        self.unit_price = inventory[3]\n",
    "        self.quantity = inventory[4]\n",
    "        self.unit_discount = inventory[5]\n",
    "        self.tax = inventory[6]\n",
    "        self.supplier_name = inventory[7]\n",
    "        self.supplier_code = inventory[8]\n",
    "        self.supplier_address = inventory[9]\n",
    "        self.supplier_contract_start_date = inventory[10]\n",
    "        self.supplier_contract_end_date = inventory[11]\n",
    "        self.supplier_quality_code = inventory[12]\n",
    "        \n",
    "    def return_condiment_inventory(self):\n",
    "        import pandas as pd\n",
    "        inventory_schema = pd.DataFrame([self.product_id,\n",
    "                                        self.date,\n",
    "                                        self.unit_price,\n",
    "                                        self.quantity,\n",
    "                                        self.unit_discount,\n",
    "                                        self.tax,\n",
    "                                        self.calc_amount_before_tax(),\n",
    "                                        self.calc_amount_after_tax(),\n",
    "                                        self.get_supplier_details()\n",
    "                                       ]).transpose()\n",
    "        inventory_schema.columns = [\"product_id\",\"Date\",\"unit_price\",\"Quantity\",\"unit_discount\",\"Tax\",\"Amount Before Tax\", \n",
    "                                   \"Amount After Tax\",'supplier_details']\n",
    "        return inventory_schema          \n",
    "        "
   ]
  },
  {
   "cell_type": "code",
   "execution_count": 28,
   "id": "66d99423-86ba-4aee-b473-de88735dd42f",
   "metadata": {},
   "outputs": [],
   "source": [
    "\n",
    "ketchup = Condiments(100011,'Delmonte Ketchup','09/04/2021',5,0.25,0.10,\n",
    "                0.0522,'Test Supplier','a0015','5093 9th Main Street, Pasadena,California, 91001', '05/04/2020', '05/04/2025',1)\n",
    "\n"
   ]
  },
  {
   "cell_type": "code",
   "execution_count": 29,
   "id": "32df3271-db15-4f42-9641-223ba32618eb",
   "metadata": {},
   "outputs": [
    {
     "data": {
      "text/html": [
       "<div>\n",
       "<style scoped>\n",
       "    .dataframe tbody tr th:only-of-type {\n",
       "        vertical-align: middle;\n",
       "    }\n",
       "\n",
       "    .dataframe tbody tr th {\n",
       "        vertical-align: top;\n",
       "    }\n",
       "\n",
       "    .dataframe thead th {\n",
       "        text-align: right;\n",
       "    }\n",
       "</style>\n",
       "<table border=\"1\" class=\"dataframe\">\n",
       "  <thead>\n",
       "    <tr style=\"text-align: right;\">\n",
       "      <th></th>\n",
       "      <th>product_id</th>\n",
       "      <th>Date</th>\n",
       "      <th>unit_price</th>\n",
       "      <th>Quantity</th>\n",
       "      <th>unit_discount</th>\n",
       "      <th>Tax</th>\n",
       "      <th>Amount Before Tax</th>\n",
       "      <th>Amount After Tax</th>\n",
       "      <th>supplier_details</th>\n",
       "    </tr>\n",
       "  </thead>\n",
       "  <tbody>\n",
       "    <tr>\n",
       "      <th>0</th>\n",
       "      <td>100011</td>\n",
       "      <td>09/04/2021</td>\n",
       "      <td>5</td>\n",
       "      <td>0.25</td>\n",
       "      <td>0.1</td>\n",
       "      <td>0.0522</td>\n",
       "      <td>1.225</td>\n",
       "      <td>1.2772</td>\n",
       "      <td>{'supplier_name': 'Test Supplier', 'supplier_c...</td>\n",
       "    </tr>\n",
       "  </tbody>\n",
       "</table>\n",
       "</div>"
      ],
      "text/plain": [
       "  product_id        Date unit_price Quantity unit_discount     Tax  \\\n",
       "0     100011  09/04/2021          5     0.25           0.1  0.0522   \n",
       "\n",
       "  Amount Before Tax Amount After Tax  \\\n",
       "0             1.225           1.2772   \n",
       "\n",
       "                                    supplier_details  \n",
       "0  {'supplier_name': 'Test Supplier', 'supplier_c...  "
      ]
     },
     "execution_count": 29,
     "metadata": {},
     "output_type": "execute_result"
    }
   ],
   "source": [
    "ketchup.return_condiment_inventory()"
   ]
  },
  {
   "cell_type": "code",
   "execution_count": 30,
   "id": "5c0e7aa6-b9dd-4448-a3a7-ceac68594792",
   "metadata": {},
   "outputs": [
    {
     "data": {
      "text/plain": [
       "False"
      ]
     },
     "execution_count": 30,
     "metadata": {},
     "output_type": "execute_result"
    }
   ],
   "source": [
    "issubclass(FMCG,Inventory)"
   ]
  },
  {
   "cell_type": "code",
   "execution_count": 31,
   "id": "0cd5ac18-e443-43ed-a356-4a6fbd912d98",
   "metadata": {},
   "outputs": [
    {
     "data": {
      "text/plain": [
       "True"
      ]
     },
     "execution_count": 31,
     "metadata": {},
     "output_type": "execute_result"
    }
   ],
   "source": [
    "issubclass(Condiments,FMCG)"
   ]
  },
  {
   "cell_type": "markdown",
   "id": "1beb072e-137e-4409-a4b1-fc6541d10dd7",
   "metadata": {},
   "source": [
    "## Understanding the usage of property"
   ]
  },
  {
   "cell_type": "code",
   "execution_count": 32,
   "id": "3b4e7214-b517-47c9-94f4-29b4ff5ab866",
   "metadata": {},
   "outputs": [],
   "source": [
    "test_property = property()"
   ]
  },
  {
   "cell_type": "code",
   "execution_count": 33,
   "id": "5b0c564e-aa33-455d-ac27-482757ddae6e",
   "metadata": {},
   "outputs": [
    {
     "data": {
      "text/plain": [
       "<property at 0x10a38bd30>"
      ]
     },
     "execution_count": 33,
     "metadata": {},
     "output_type": "execute_result"
    }
   ],
   "source": [
    "test_property "
   ]
  },
  {
   "cell_type": "code",
   "execution_count": 34,
   "id": "4314da62-fd89-462a-b298-b6c315dc7cee",
   "metadata": {},
   "outputs": [],
   "source": [
    "class TestPropertyClass:\n",
    "    def __init__(self):\n",
    "        self._test_attr = None\n",
    "\n",
    "    def get_test_attr(self):\n",
    "        print(\"get test_attr\")\n",
    "        return self._test_attr\n",
    "\n",
    "    def set_test_attr(self, value):\n",
    "        print(\"set test_attr\")\n",
    "        self._test_attr = value\n",
    "\n",
    "    def del_test_attr(self):\n",
    "        print(\"del test_attr\")\n",
    "        del self._test_attr\n",
    "\n",
    "    test_attr = property(get_test_attr, set_test_attr, del_test_attr, \"test_attr is a property\")"
   ]
  },
  {
   "cell_type": "code",
   "execution_count": 35,
   "id": "2dd4e4e2-643b-4977-b035-06de7753d62c",
   "metadata": {},
   "outputs": [],
   "source": [
    "test_property_object = TestPropertyClass()"
   ]
  },
  {
   "cell_type": "code",
   "execution_count": 36,
   "id": "f5aa7c68-1435-4086-8b83-0ae382bcb8a8",
   "metadata": {},
   "outputs": [
    {
     "name": "stdout",
     "output_type": "stream",
     "text": [
      "get test_attr\n"
     ]
    }
   ],
   "source": [
    "test_property_object.test_attr"
   ]
  },
  {
   "cell_type": "code",
   "execution_count": 37,
   "id": "76ac7da1-3524-4488-8164-917cb5c94e29",
   "metadata": {},
   "outputs": [
    {
     "name": "stdout",
     "output_type": "stream",
     "text": [
      "set test_attr\n"
     ]
    }
   ],
   "source": [
    "test_property_object.test_attr = 1980"
   ]
  },
  {
   "cell_type": "code",
   "execution_count": 38,
   "id": "c6271626-20f7-4b14-b8f7-2131697f284d",
   "metadata": {},
   "outputs": [
    {
     "name": "stdout",
     "output_type": "stream",
     "text": [
      "get test_attr\n"
     ]
    },
    {
     "data": {
      "text/plain": [
       "1980"
      ]
     },
     "execution_count": 38,
     "metadata": {},
     "output_type": "execute_result"
    }
   ],
   "source": [
    "test_property_object.test_attr"
   ]
  },
  {
   "cell_type": "code",
   "execution_count": 39,
   "id": "dc9a7ea2-9460-4e9f-ae23-1d3f430704e7",
   "metadata": {},
   "outputs": [
    {
     "name": "stdout",
     "output_type": "stream",
     "text": [
      "del test_attr\n"
     ]
    }
   ],
   "source": [
    "del test_property_object.test_attr"
   ]
  },
  {
   "cell_type": "code",
   "execution_count": 40,
   "id": "14fe5c98-f81c-4995-94dc-f5d007dd2e7c",
   "metadata": {},
   "outputs": [
    {
     "name": "stdout",
     "output_type": "stream",
     "text": [
      "get test_attr\n"
     ]
    },
    {
     "ename": "AttributeError",
     "evalue": "'TestPropertyClass' object has no attribute '_test_attr'",
     "output_type": "error",
     "traceback": [
      "\u001b[0;31m---------------------------------------------------------------------------\u001b[0m",
      "\u001b[0;31mAttributeError\u001b[0m                            Traceback (most recent call last)",
      "Cell \u001b[0;32mIn[40], line 1\u001b[0m\n\u001b[0;32m----> 1\u001b[0m \u001b[43mtest_property_object\u001b[49m\u001b[38;5;241;43m.\u001b[39;49m\u001b[43mtest_attr\u001b[49m\n",
      "Cell \u001b[0;32mIn[34], line 7\u001b[0m, in \u001b[0;36mTestPropertyClass.get_test_attr\u001b[0;34m(self)\u001b[0m\n\u001b[1;32m      5\u001b[0m \u001b[38;5;28;01mdef\u001b[39;00m \u001b[38;5;21mget_test_attr\u001b[39m(\u001b[38;5;28mself\u001b[39m):\n\u001b[1;32m      6\u001b[0m     \u001b[38;5;28mprint\u001b[39m(\u001b[38;5;124m\"\u001b[39m\u001b[38;5;124mget test_attr\u001b[39m\u001b[38;5;124m\"\u001b[39m)\n\u001b[0;32m----> 7\u001b[0m     \u001b[38;5;28;01mreturn\u001b[39;00m \u001b[38;5;28;43mself\u001b[39;49m\u001b[38;5;241;43m.\u001b[39;49m\u001b[43m_test_attr\u001b[49m\n",
      "\u001b[0;31mAttributeError\u001b[0m: 'TestPropertyClass' object has no attribute '_test_attr'"
     ]
    }
   ],
   "source": [
    "test_property_object.test_attr"
   ]
  },
  {
   "cell_type": "markdown",
   "id": "b2aa2355-8edf-485c-8c83-4014bf55a704",
   "metadata": {},
   "source": [
    "## Using property as decorator"
   ]
  },
  {
   "cell_type": "code",
   "execution_count": 41,
   "id": "1dc644c3-1c7c-4e73-b01f-2d9f3635c168",
   "metadata": {},
   "outputs": [],
   "source": [
    "class TestPropertyClass:\n",
    "    def __init__(self):\n",
    "        self._test_attr = None\n",
    "        \n",
    "    @property\n",
    "    def test_attr(self):\n",
    "        return self.test_attr\n",
    "    \n",
    "    @test_attr.getter\n",
    "    def test_attr(self):\n",
    "        print(\"get test_attr\")\n",
    "        return self._test_attr\n",
    "\n",
    "    @test_attr.setter\n",
    "    def test_attr(self, value):\n",
    "        print(\"set test_attr\")\n",
    "        self._test_attr = value\n",
    "\n",
    "    @test_attr.deleter\n",
    "    def test_attr(self):\n",
    "        print(\"del test_attr\")\n",
    "        del self._test_attr"
   ]
  },
  {
   "cell_type": "code",
   "execution_count": 42,
   "id": "73963b82-0258-4a2e-a2f2-33434b233120",
   "metadata": {},
   "outputs": [],
   "source": [
    "test_property_object = TestPropertyClass()"
   ]
  },
  {
   "cell_type": "code",
   "execution_count": 43,
   "id": "69b05e13-dcfd-47d7-a5e8-59180fb9eeca",
   "metadata": {},
   "outputs": [
    {
     "name": "stdout",
     "output_type": "stream",
     "text": [
      "get test_attr\n"
     ]
    }
   ],
   "source": [
    "test_property_object.test_attr"
   ]
  },
  {
   "cell_type": "code",
   "execution_count": 44,
   "id": "22ba44ed-f9b5-42e0-a312-0897aaaec752",
   "metadata": {},
   "outputs": [
    {
     "name": "stdout",
     "output_type": "stream",
     "text": [
      "set test_attr\n"
     ]
    }
   ],
   "source": [
    "test_property_object.test_attr = 1982"
   ]
  },
  {
   "cell_type": "code",
   "execution_count": 45,
   "id": "8b30f911-5f80-4032-8f88-3d0004e740a1",
   "metadata": {},
   "outputs": [
    {
     "name": "stdout",
     "output_type": "stream",
     "text": [
      "get test_attr\n"
     ]
    },
    {
     "data": {
      "text/plain": [
       "1982"
      ]
     },
     "execution_count": 45,
     "metadata": {},
     "output_type": "execute_result"
    }
   ],
   "source": [
    "test_property_object.test_attr"
   ]
  },
  {
   "cell_type": "code",
   "execution_count": 46,
   "id": "85914002-3bc4-4933-849a-bc4bbba94a5f",
   "metadata": {},
   "outputs": [
    {
     "name": "stdout",
     "output_type": "stream",
     "text": [
      "del test_attr\n"
     ]
    }
   ],
   "source": [
    "\n",
    "del test_property_object.test_attr"
   ]
  },
  {
   "cell_type": "code",
   "execution_count": null,
   "id": "f9002060-b292-44f3-a8ad-621e98b6cfc8",
   "metadata": {},
   "outputs": [],
   "source": []
  }
 ],
 "metadata": {
  "kernelspec": {
   "display_name": "Python 3 (ipykernel)",
   "language": "python",
   "name": "python3"
  },
  "language_info": {
   "codemirror_mode": {
    "name": "ipython",
    "version": 3
   },
   "file_extension": ".py",
   "mimetype": "text/x-python",
   "name": "python",
   "nbconvert_exporter": "python",
   "pygments_lexer": "ipython3",
   "version": "3.11.9"
  }
 },
 "nbformat": 4,
 "nbformat_minor": 5
}
