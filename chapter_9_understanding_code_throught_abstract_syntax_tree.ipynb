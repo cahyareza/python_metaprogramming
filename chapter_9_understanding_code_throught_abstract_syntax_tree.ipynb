{
 "cells": [
  {
   "cell_type": "markdown",
   "id": "a1c5384f-3fa3-48f6-ae21-b606e4317706",
   "metadata": {},
   "source": [
    "# Understanding Code through Abstract Syntax Tree"
   ]
  },
  {
   "cell_type": "code",
   "execution_count": 1,
   "id": "8adc04c2-9293-4aa6-a052-7432c18af231",
   "metadata": {},
   "outputs": [],
   "source": [
    "import ast"
   ]
  },
  {
   "cell_type": "code",
   "execution_count": 2,
   "id": "37f99923-34c5-4a1e-a21c-bfe986c30e87",
   "metadata": {},
   "outputs": [],
   "source": [
    "assignment = \"product_name = 'Iphone X'\""
   ]
  },
  {
   "cell_type": "code",
   "execution_count": 3,
   "id": "d3669bf5-689d-4498-9d75-25b5e63e47a5",
   "metadata": {},
   "outputs": [
    {
     "data": {
      "text/plain": [
       "\"product_name = 'Iphone X'\""
      ]
     },
     "execution_count": 3,
     "metadata": {},
     "output_type": "execute_result"
    }
   ],
   "source": [
    "assignment"
   ]
  },
  {
   "cell_type": "code",
   "execution_count": 4,
   "id": "64ba3fec-8540-4211-97b0-fa38df10050f",
   "metadata": {},
   "outputs": [],
   "source": [
    "assign_tree = ast.parse(assignment)"
   ]
  },
  {
   "cell_type": "code",
   "execution_count": 5,
   "id": "33ce369a-903f-4bbf-b47a-6e33a7de8524",
   "metadata": {},
   "outputs": [
    {
     "data": {
      "text/plain": [
       "<ast.Module at 0x10674f6a0>"
      ]
     },
     "execution_count": 5,
     "metadata": {},
     "output_type": "execute_result"
    }
   ],
   "source": [
    "assign_tree"
   ]
  },
  {
   "cell_type": "code",
   "execution_count": 6,
   "id": "3694fcd1-2900-4e99-b6e9-776789514174",
   "metadata": {},
   "outputs": [
    {
     "name": "stdout",
     "output_type": "stream",
     "text": [
      "Module(\n",
      "    body=[\n",
      "        Assign(\n",
      "            targets=[\n",
      "                Name(id='product_name', ctx=Store())],\n",
      "            value=Constant(value='Iphone X'))],\n",
      "    type_ignores=[])\n"
     ]
    }
   ],
   "source": [
    "print(ast.dump(assign_tree, indent = 4))"
   ]
  },
  {
   "cell_type": "markdown",
   "id": "d604cdc9-a0e1-497c-9a3d-c053452b9cd2",
   "metadata": {},
   "source": [
    "## Reviewing a simple code"
   ]
  },
  {
   "cell_type": "code",
   "execution_count": 7,
   "id": "4b82f96a-a7a4-477a-8048-5816f00498b3",
   "metadata": {},
   "outputs": [],
   "source": [
    "addfunc = \"\"\"\n",
    "a = 1098\n",
    "b = 2032\n",
    "c = a + b\n",
    "print(c)\n",
    "\"\"\""
   ]
  },
  {
   "cell_type": "code",
   "execution_count": 8,
   "id": "71d4d959-d243-4928-866f-7a020421d1a3",
   "metadata": {},
   "outputs": [],
   "source": [
    "add_tree = ast.parse(addfunc)"
   ]
  },
  {
   "cell_type": "code",
   "execution_count": 9,
   "id": "c918b2d7-4998-4be9-9dbf-4f1ac596d297",
   "metadata": {},
   "outputs": [
    {
     "data": {
      "text/plain": [
       "<ast.Module at 0x10674cd60>"
      ]
     },
     "execution_count": 9,
     "metadata": {},
     "output_type": "execute_result"
    }
   ],
   "source": [
    "add_tree"
   ]
  },
  {
   "cell_type": "code",
   "execution_count": 10,
   "id": "81a2ab4f-3e83-478c-8800-e8b5395e9c16",
   "metadata": {},
   "outputs": [
    {
     "name": "stdout",
     "output_type": "stream",
     "text": [
      "Module(\n",
      "    body=[\n",
      "        Assign(\n",
      "            targets=[\n",
      "                Name(id='a', ctx=Store())],\n",
      "            value=Constant(value=1098)),\n",
      "        Assign(\n",
      "            targets=[\n",
      "                Name(id='b', ctx=Store())],\n",
      "            value=Constant(value=2032)),\n",
      "        Assign(\n",
      "            targets=[\n",
      "                Name(id='c', ctx=Store())],\n",
      "            value=BinOp(\n",
      "                left=Name(id='a', ctx=Load()),\n",
      "                op=Add(),\n",
      "                right=Name(id='b', ctx=Load()))),\n",
      "        Expr(\n",
      "            value=Call(\n",
      "                func=Name(id='print', ctx=Load()),\n",
      "                args=[\n",
      "                    Name(id='c', ctx=Load())],\n",
      "                keywords=[]))],\n",
      "    type_ignores=[])\n"
     ]
    }
   ],
   "source": [
    "print(ast.dump(add_tree, indent = 4))"
   ]
  },
  {
   "cell_type": "code",
   "execution_count": 11,
   "id": "085e77f7-b5b7-4ff0-9f78-14710f2ea369",
   "metadata": {},
   "outputs": [],
   "source": [
    "add_code = compile(add_tree, 'add_tree', 'exec')"
   ]
  },
  {
   "cell_type": "code",
   "execution_count": 12,
   "id": "31f88c87-925d-493f-9930-a53b4a3b991b",
   "metadata": {},
   "outputs": [
    {
     "name": "stdout",
     "output_type": "stream",
     "text": [
      "3130\n"
     ]
    }
   ],
   "source": [
    "exec(add_code)"
   ]
  },
  {
   "cell_type": "markdown",
   "id": "d5a6205a-844e-48e2-b376-0b28abb7aa86",
   "metadata": {},
   "source": [
    "## Modifying the simple code"
   ]
  },
  {
   "cell_type": "code",
   "execution_count": 14,
   "id": "dac357b1-2037-42dc-bf4b-dd110df26c4c",
   "metadata": {},
   "outputs": [
    {
     "data": {
      "text/plain": [
       "<ast.Module at 0x107d1add0>"
      ]
     },
     "execution_count": 14,
     "metadata": {},
     "output_type": "execute_result"
    }
   ],
   "source": [
    "add_tree"
   ]
  },
  {
   "cell_type": "code",
   "execution_count": 19,
   "id": "649fcdab-9ae3-4908-aaf2-05f8502b11b9",
   "metadata": {},
   "outputs": [],
   "source": [
    "add_tree.body[2].value.op=ast.Mult()"
   ]
  },
  {
   "cell_type": "code",
   "execution_count": 21,
   "id": "40afeab3-e4ed-41d6-9bc7-d03bea946ad1",
   "metadata": {},
   "outputs": [
    {
     "name": "stdout",
     "output_type": "stream",
     "text": [
      "Module(\n",
      "    body=[\n",
      "        Assign(\n",
      "            targets=[\n",
      "                Name(id='a', ctx=Store())],\n",
      "            value=Constant(value=1098)),\n",
      "        Assign(\n",
      "            targets=[\n",
      "                Name(id='b', ctx=Store())],\n",
      "            value=Constant(value=2032)),\n",
      "        Assign(\n",
      "            targets=[\n",
      "                Name(id='c', ctx=Store())],\n",
      "            value=BinOp(\n",
      "                left=Name(id='a', ctx=Load()),\n",
      "                op=Mult(),\n",
      "                right=Name(id='b', ctx=Load()))),\n",
      "        Expr(\n",
      "            value=Call(\n",
      "                func=Name(id='print', ctx=Load()),\n",
      "                args=[\n",
      "                    Name(id='c', ctx=Load())],\n",
      "                keywords=[]))],\n",
      "    type_ignores=[])\n"
     ]
    }
   ],
   "source": [
    "print(ast.dump(add_tree, indent = 4))"
   ]
  },
  {
   "cell_type": "code",
   "execution_count": 22,
   "id": "538f4d48-ad28-42fc-b486-254f38e0feaa",
   "metadata": {},
   "outputs": [],
   "source": [
    "add_code = compile(add_tree, 'add_tree', 'exec')"
   ]
  },
  {
   "cell_type": "code",
   "execution_count": 23,
   "id": "42ea6838-9c04-43cb-b353-51b2b0e437d1",
   "metadata": {},
   "outputs": [
    {
     "name": "stdout",
     "output_type": "stream",
     "text": [
      "2231136\n"
     ]
    }
   ],
   "source": [
    "exec(add_code)"
   ]
  },
  {
   "cell_type": "markdown",
   "id": "06ef772a-a069-4176-b6dc-9f5a04bb3ac7",
   "metadata": {},
   "source": [
    "## Understanding the AST of a class"
   ]
  },
  {
   "cell_type": "code",
   "execution_count": 24,
   "id": "bd91d756-ad23-4843-9560-c0bfe92c5400",
   "metadata": {},
   "outputs": [],
   "source": [
    "branch_code = \"\"\"\n",
    "class Branch:\n",
    "    '''attributes...'''\n",
    "    \n",
    "    '''methods...'''\n",
    "\n",
    "\"\"\""
   ]
  },
  {
   "cell_type": "code",
   "execution_count": 25,
   "id": "ac9cc936-5916-45a3-8f4b-368a07ef4f49",
   "metadata": {},
   "outputs": [],
   "source": [
    "branch_tree = ast.parse(branch_code)"
   ]
  },
  {
   "cell_type": "code",
   "execution_count": 26,
   "id": "1a313535-d6ee-49c4-8687-cf28f44544c3",
   "metadata": {},
   "outputs": [
    {
     "data": {
      "text/plain": [
       "<ast.Module at 0x108cba8f0>"
      ]
     },
     "execution_count": 26,
     "metadata": {},
     "output_type": "execute_result"
    }
   ],
   "source": [
    "branch_tree"
   ]
  },
  {
   "cell_type": "code",
   "execution_count": 27,
   "id": "bee14810-804c-469f-8ee6-6d610b12e8d7",
   "metadata": {},
   "outputs": [
    {
     "name": "stdout",
     "output_type": "stream",
     "text": [
      "Module(\n",
      "    body=[\n",
      "        ClassDef(\n",
      "            name='Branch',\n",
      "            bases=[],\n",
      "            keywords=[],\n",
      "            body=[\n",
      "                Expr(\n",
      "                    value=Constant(value='attributes...')),\n",
      "                Expr(\n",
      "                    value=Constant(value='methods...'))],\n",
      "            decorator_list=[])],\n",
      "    type_ignores=[])\n"
     ]
    }
   ],
   "source": [
    "print(ast.dump(branch_tree, indent = 4))"
   ]
  },
  {
   "cell_type": "code",
   "execution_count": 28,
   "id": "100da908-dfce-4ae1-aa6c-a2cc77bd634a",
   "metadata": {},
   "outputs": [],
   "source": [
    "branch_code = \"\"\"\n",
    "class Branch:\n",
    "    branch_id = 1001\n",
    "\n",
    "    @staticmethod\n",
    "    def get_product(self):\n",
    "        return 'product'\n",
    "\"\"\""
   ]
  },
  {
   "cell_type": "code",
   "execution_count": 29,
   "id": "57450535-4143-487f-ba2f-9931088b6dc7",
   "metadata": {},
   "outputs": [],
   "source": [
    "branch_tree = ast.parse(branch_code)"
   ]
  },
  {
   "cell_type": "code",
   "execution_count": 30,
   "id": "82166323-6ea0-460d-8b06-ec36179ae526",
   "metadata": {},
   "outputs": [
    {
     "data": {
      "text/plain": [
       "<ast.Module at 0x108e47d90>"
      ]
     },
     "execution_count": 30,
     "metadata": {},
     "output_type": "execute_result"
    }
   ],
   "source": [
    "branch_tree"
   ]
  },
  {
   "cell_type": "code",
   "execution_count": 36,
   "id": "ccb0079d-8eea-4f56-bc15-8f074bfdf394",
   "metadata": {},
   "outputs": [
    {
     "name": "stdout",
     "output_type": "stream",
     "text": [
      "Module(\n",
      "    body=[\n",
      "        ClassDef(\n",
      "            name='Branch',\n",
      "            bases=[],\n",
      "            keywords=[],\n",
      "            body=[\n",
      "                Assign(\n",
      "                    targets=[\n",
      "                        Name(id='branch_id', ctx=Store())],\n",
      "                    value=Constant(value=1001)),\n",
      "                FunctionDef(\n",
      "                    name='get_product',\n",
      "                    args=arguments(\n",
      "                        posonlyargs=[],\n",
      "                        args=[\n",
      "                            arg(arg='self')],\n",
      "                        kwonlyargs=[],\n",
      "                        kw_defaults=[],\n",
      "                        defaults=[]),\n",
      "                    body=[\n",
      "                        Return(\n",
      "                            value=Constant(value='product'))],\n",
      "                    decorator_list=[\n",
      "                        Name(id='staticmethod', ctx=Load())])],\n",
      "            decorator_list=[])],\n",
      "    type_ignores=[])\n"
     ]
    }
   ],
   "source": [
    "print(ast.dump(branch_tree, indent=4))"
   ]
  },
  {
   "cell_type": "code",
   "execution_count": 39,
   "id": "483a1234-b840-4781-8a89-b4c9f9a92aac",
   "metadata": {},
   "outputs": [],
   "source": [
    "branch_code = \"\"\"\n",
    "branch_albany = Branch()\n",
    "\"\"\""
   ]
  },
  {
   "cell_type": "code",
   "execution_count": 40,
   "id": "27eca146-d7da-42a1-8ff2-4f4ffee2fa5e",
   "metadata": {},
   "outputs": [],
   "source": [
    "branch_tree = ast.parse(branch_code)"
   ]
  },
  {
   "cell_type": "code",
   "execution_count": 41,
   "id": "f1e23096-a6d4-45ee-9d95-7dcf73b93e91",
   "metadata": {},
   "outputs": [
    {
     "name": "stdout",
     "output_type": "stream",
     "text": [
      "Module(\n",
      "    body=[\n",
      "        Assign(\n",
      "            targets=[\n",
      "                Name(id='branch_albany', ctx=Store())],\n",
      "            value=Call(\n",
      "                func=Name(id='Branch', ctx=Load()),\n",
      "                args=[],\n",
      "                keywords=[]))],\n",
      "    type_ignores=[])\n"
     ]
    }
   ],
   "source": [
    "print(ast.dump(branch_tree, indent=4))"
   ]
  },
  {
   "cell_type": "markdown",
   "id": "8a308767-e863-453d-8c6d-773f12370ea7",
   "metadata": {},
   "source": [
    "## Modifying AST of a code block by parsing"
   ]
  },
  {
   "cell_type": "code",
   "execution_count": 42,
   "id": "5e75325e-a2d7-4a88-8824-5275a9aae810",
   "metadata": {},
   "outputs": [],
   "source": [
    "vegctr = \"\"\"\n",
    "class VegCounter():\n",
    "    def return_cart(self,*items):\n",
    "        cart_items = list(items)\n",
    "        return cart_items\n",
    "veg = VegCounter()\n",
    "print(veg.return_cart('onions','tomatoes','carrots','lettuce'))\n",
    "\"\"\""
   ]
  },
  {
   "cell_type": "code",
   "execution_count": 43,
   "id": "c5e820aa-5b8b-4bd5-af9f-9e265a70c4d0",
   "metadata": {},
   "outputs": [],
   "source": [
    "vegctr_tree = ast.parse(vegctr)"
   ]
  },
  {
   "cell_type": "code",
   "execution_count": 44,
   "id": "c4fd7122-169c-4cf9-abc2-e6906b187e00",
   "metadata": {},
   "outputs": [
    {
     "name": "stdout",
     "output_type": "stream",
     "text": [
      "Module(\n",
      "    body=[\n",
      "        ClassDef(\n",
      "            name='VegCounter',\n",
      "            bases=[],\n",
      "            keywords=[],\n",
      "            body=[\n",
      "                FunctionDef(\n",
      "                    name='return_cart',\n",
      "                    args=arguments(\n",
      "                        posonlyargs=[],\n",
      "                        args=[\n",
      "                            arg(arg='self')],\n",
      "                        vararg=arg(arg='items'),\n",
      "                        kwonlyargs=[],\n",
      "                        kw_defaults=[],\n",
      "                        defaults=[]),\n",
      "                    body=[\n",
      "                        Assign(\n",
      "                            targets=[\n",
      "                                Name(id='cart_items', ctx=Store())],\n",
      "                            value=Call(\n",
      "                                func=Name(id='list', ctx=Load()),\n",
      "                                args=[\n",
      "                                    Name(id='items', ctx=Load())],\n",
      "                                keywords=[])),\n",
      "                        Return(\n",
      "                            value=Name(id='cart_items', ctx=Load()))],\n",
      "                    decorator_list=[])],\n",
      "            decorator_list=[]),\n",
      "        Assign(\n",
      "            targets=[\n",
      "                Name(id='veg', ctx=Store())],\n",
      "            value=Call(\n",
      "                func=Name(id='VegCounter', ctx=Load()),\n",
      "                args=[],\n",
      "                keywords=[])),\n",
      "        Expr(\n",
      "            value=Call(\n",
      "                func=Name(id='print', ctx=Load()),\n",
      "                args=[\n",
      "                    Call(\n",
      "                        func=Attribute(\n",
      "                            value=Name(id='veg', ctx=Load()),\n",
      "                            attr='return_cart',\n",
      "                            ctx=Load()),\n",
      "                        args=[\n",
      "                            Constant(value='onions'),\n",
      "                            Constant(value='tomatoes'),\n",
      "                            Constant(value='carrots'),\n",
      "                            Constant(value='lettuce')],\n",
      "                        keywords=[])],\n",
      "                keywords=[]))],\n",
      "    type_ignores=[])\n"
     ]
    }
   ],
   "source": [
    "print(ast.dump(vegctr_tree, indent=4))"
   ]
  },
  {
   "cell_type": "code",
   "execution_count": 45,
   "id": "759e5622-32d8-40c5-a967-f1ce87cbafba",
   "metadata": {},
   "outputs": [],
   "source": [
    "vegctr_code = compile(vegctr_tree, 'vegctr_tree', 'exec')"
   ]
  },
  {
   "cell_type": "code",
   "execution_count": 46,
   "id": "fb475217-58c0-4cc0-aaf1-e7f833e981ef",
   "metadata": {},
   "outputs": [
    {
     "name": "stdout",
     "output_type": "stream",
     "text": [
      "['onions', 'tomatoes', 'carrots', 'lettuce']\n"
     ]
    }
   ],
   "source": [
    "exec(vegctr_code)"
   ]
  },
  {
   "cell_type": "code",
   "execution_count": 47,
   "id": "b407fdab-905d-44f7-8459-765400d957e3",
   "metadata": {},
   "outputs": [
    {
     "data": {
      "text/plain": [
       "[<ast.ClassDef at 0x108dbc820>,\n",
       " <ast.Assign at 0x108dbd780>,\n",
       " <ast.Expr at 0x108dbd720>]"
      ]
     },
     "execution_count": 47,
     "metadata": {},
     "output_type": "execute_result"
    }
   ],
   "source": [
    "vegctr_tree.body"
   ]
  },
  {
   "cell_type": "code",
   "execution_count": 48,
   "id": "111c137c-dc65-4703-91be-8661b85559f4",
   "metadata": {},
   "outputs": [
    {
     "data": {
      "text/plain": [
       "'tomatoes'"
      ]
     },
     "execution_count": 48,
     "metadata": {},
     "output_type": "execute_result"
    }
   ],
   "source": [
    "vegctr_tree.body[2].value.args[0].args[1].n"
   ]
  },
  {
   "cell_type": "code",
   "execution_count": 49,
   "id": "231f4401-375c-4445-b630-71cdee5e35a0",
   "metadata": {},
   "outputs": [],
   "source": [
    "vegctr_tree.body[2].value.args[0].args[1].n = 'potatoes'"
   ]
  },
  {
   "cell_type": "code",
   "execution_count": 50,
   "id": "9783ffbf-44a7-4471-b47d-d8b9b754f838",
   "metadata": {},
   "outputs": [
    {
     "name": "stdout",
     "output_type": "stream",
     "text": [
      "Module(\n",
      "    body=[\n",
      "        ClassDef(\n",
      "            name='VegCounter',\n",
      "            bases=[],\n",
      "            keywords=[],\n",
      "            body=[\n",
      "                FunctionDef(\n",
      "                    name='return_cart',\n",
      "                    args=arguments(\n",
      "                        posonlyargs=[],\n",
      "                        args=[\n",
      "                            arg(arg='self')],\n",
      "                        vararg=arg(arg='items'),\n",
      "                        kwonlyargs=[],\n",
      "                        kw_defaults=[],\n",
      "                        defaults=[]),\n",
      "                    body=[\n",
      "                        Assign(\n",
      "                            targets=[\n",
      "                                Name(id='cart_items', ctx=Store())],\n",
      "                            value=Call(\n",
      "                                func=Name(id='list', ctx=Load()),\n",
      "                                args=[\n",
      "                                    Name(id='items', ctx=Load())],\n",
      "                                keywords=[])),\n",
      "                        Return(\n",
      "                            value=Name(id='cart_items', ctx=Load()))],\n",
      "                    decorator_list=[])],\n",
      "            decorator_list=[]),\n",
      "        Assign(\n",
      "            targets=[\n",
      "                Name(id='veg', ctx=Store())],\n",
      "            value=Call(\n",
      "                func=Name(id='VegCounter', ctx=Load()),\n",
      "                args=[],\n",
      "                keywords=[])),\n",
      "        Expr(\n",
      "            value=Call(\n",
      "                func=Name(id='print', ctx=Load()),\n",
      "                args=[\n",
      "                    Call(\n",
      "                        func=Attribute(\n",
      "                            value=Name(id='veg', ctx=Load()),\n",
      "                            attr='return_cart',\n",
      "                            ctx=Load()),\n",
      "                        args=[\n",
      "                            Constant(value='onions'),\n",
      "                            Constant(value='potatoes'),\n",
      "                            Constant(value='carrots'),\n",
      "                            Constant(value='lettuce')],\n",
      "                        keywords=[])],\n",
      "                keywords=[]))],\n",
      "    type_ignores=[])\n"
     ]
    }
   ],
   "source": [
    "print(ast.dump(vegctr_tree, indent=4))"
   ]
  },
  {
   "cell_type": "code",
   "execution_count": 51,
   "id": "7567686c-85fa-495c-b93b-63a8783875bd",
   "metadata": {},
   "outputs": [
    {
     "name": "stdout",
     "output_type": "stream",
     "text": [
      "class VegCounter:\n",
      "\n",
      "    def return_cart(self, *items):\n",
      "        cart_items = list(items)\n",
      "        return cart_items\n",
      "veg = VegCounter()\n",
      "print(veg.return_cart('onions', 'potatoes', 'carrots', 'lettuce'))\n"
     ]
    }
   ],
   "source": [
    "print(ast.unparse(vegctr_tree))"
   ]
  },
  {
   "cell_type": "markdown",
   "id": "8df6ce2c-50b1-4939-803d-bcd82a9301c3",
   "metadata": {},
   "source": [
    "## Modifying AST of a code block by transforming nodes"
   ]
  },
  {
   "cell_type": "code",
   "execution_count": 52,
   "id": "d2a30613-55e6-4a1c-b69d-e9d1b1aa5f5b",
   "metadata": {},
   "outputs": [],
   "source": [
    "class VegCounter():\n",
    "    def return_cart(self, *items):\n",
    "        cart_items = list(items)\n",
    "        return cart_items"
   ]
  },
  {
   "cell_type": "code",
   "execution_count": 53,
   "id": "bb3a2f8b-00e4-49fe-aca8-d663e9631481",
   "metadata": {},
   "outputs": [],
   "source": [
    "veg = VegCounter()\n",
    "cart = \"\"\"veg.return_cart('onions','tomatoes','carrots','lettuce')\"\"\""
   ]
  },
  {
   "cell_type": "code",
   "execution_count": 56,
   "id": "e05fab28-eb0c-4c2a-8205-ac32cfee86bd",
   "metadata": {},
   "outputs": [],
   "source": [
    "cart_tree = ast.parse(cart)"
   ]
  },
  {
   "cell_type": "code",
   "execution_count": 57,
   "id": "4a194e66-1faa-4f55-af93-a2f08468748f",
   "metadata": {},
   "outputs": [
    {
     "name": "stdout",
     "output_type": "stream",
     "text": [
      "Module(\n",
      "    body=[\n",
      "        Expr(\n",
      "            value=Call(\n",
      "                func=Attribute(\n",
      "                    value=Name(id='veg', ctx=Load()),\n",
      "                    attr='return_cart',\n",
      "                    ctx=Load()),\n",
      "                args=[\n",
      "                    Constant(value='onions'),\n",
      "                    Constant(value='tomatoes'),\n",
      "                    Constant(value='carrots'),\n",
      "                    Constant(value='lettuce')],\n",
      "                keywords=[]))],\n",
      "    type_ignores=[])\n"
     ]
    }
   ],
   "source": [
    "print(ast.dump(cart_tree, indent = 4))"
   ]
  },
  {
   "cell_type": "code",
   "execution_count": 58,
   "id": "1d2ed927-78ce-4910-9e09-ca16069a99c9",
   "metadata": {},
   "outputs": [],
   "source": [
    "from ast import NodeTransformer"
   ]
  },
  {
   "cell_type": "code",
   "execution_count": 59,
   "id": "0d123835-ec63-4c32-ab80-2c1ce7174691",
   "metadata": {},
   "outputs": [],
   "source": [
    "class ModifyVegCounter(NodeTransformer):\n",
    "    \n",
    "    def visit_Constant(self, node):\n",
    "        modifiedValue = ast.Constant('item:' + str(node.value))\n",
    "        return modifiedValue"
   ]
  },
  {
   "cell_type": "code",
   "execution_count": 60,
   "id": "6af0db3a-44c5-4625-b1f0-dbc8fe29aade",
   "metadata": {},
   "outputs": [
    {
     "data": {
      "text/plain": [
       "<ast.Module at 0x108dbd9f0>"
      ]
     },
     "execution_count": 60,
     "metadata": {},
     "output_type": "execute_result"
    }
   ],
   "source": [
    "ModifyVegCounter().visit(cart_tree)"
   ]
  },
  {
   "cell_type": "code",
   "execution_count": 61,
   "id": "9f48ecec-8b74-416c-877d-d061f05d0814",
   "metadata": {},
   "outputs": [
    {
     "name": "stdout",
     "output_type": "stream",
     "text": [
      "Module(\n",
      "    body=[\n",
      "        Expr(\n",
      "            value=Call(\n",
      "                func=Attribute(\n",
      "                    value=Name(id='veg', ctx=Load()),\n",
      "                    attr='return_cart',\n",
      "                    ctx=Load()),\n",
      "                args=[\n",
      "                    Constant(value='item:onions'),\n",
      "                    Constant(value='item:tomatoes'),\n",
      "                    Constant(value='item:carrots'),\n",
      "                    Constant(value='item:lettuce')],\n",
      "                keywords=[]))],\n",
      "    type_ignores=[])\n"
     ]
    }
   ],
   "source": [
    "print(ast.dump(cart_tree, indent = 4))"
   ]
  },
  {
   "cell_type": "code",
   "execution_count": 62,
   "id": "cc5c2e18-1daa-40d6-9a1b-0a65c2a32f22",
   "metadata": {},
   "outputs": [
    {
     "name": "stdout",
     "output_type": "stream",
     "text": [
      "veg.return_cart('item:onions', 'item:tomatoes', 'item:carrots', 'item:lettuce')\n"
     ]
    }
   ],
   "source": [
    "print(ast.unparse(cart_tree))"
   ]
  }
 ],
 "metadata": {
  "kernelspec": {
   "display_name": "Python 3",
   "language": "python",
   "name": "python3"
  },
  "language_info": {
   "codemirror_mode": {
    "name": "ipython",
    "version": 3
   },
   "file_extension": ".py",
   "mimetype": "text/x-python",
   "name": "python",
   "nbconvert_exporter": "python",
   "pygments_lexer": "ipython3",
   "version": "3.13.3"
  }
 },
 "nbformat": 4,
 "nbformat_minor": 5
}
